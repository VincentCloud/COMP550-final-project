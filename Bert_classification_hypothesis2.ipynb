{
  "cells": [
    {
      "cell_type": "markdown",
      "metadata": {
        "id": "view-in-github",
        "colab_type": "text"
      },
      "source": [
        "<a href=\"https://colab.research.google.com/github/VincentCloud/COMP550-final-project/blob/main/Bert_classification_hypothesis2.ipynb\" target=\"_parent\"><img src=\"https://colab.research.google.com/assets/colab-badge.svg\" alt=\"Open In Colab\"/></a>"
      ]
    },
    {
      "cell_type": "code",
      "execution_count": null,
      "metadata": {
        "colab": {
          "base_uri": "https://localhost:8080/"
        },
        "id": "moauD7v1X7H9",
        "outputId": "03b2c13b-c9cc-4837-826a-2460ba7fd022"
      },
      "outputs": [
        {
          "name": "stdout",
          "output_type": "stream",
          "text": [
            "Collecting transformers\n",
            "  Downloading transformers-4.14.1-py3-none-any.whl (3.4 MB)\n",
            "\u001b[K     |████████████████████████████████| 3.4 MB 8.7 MB/s \n",
            "\u001b[?25hRequirement already satisfied: numpy>=1.17 in /usr/local/lib/python3.7/dist-packages (from transformers) (1.19.5)\n",
            "Collecting huggingface-hub<1.0,>=0.1.0\n",
            "  Downloading huggingface_hub-0.2.1-py3-none-any.whl (61 kB)\n",
            "\u001b[K     |████████████████████████████████| 61 kB 487 kB/s \n",
            "\u001b[?25hCollecting tokenizers<0.11,>=0.10.1\n",
            "  Downloading tokenizers-0.10.3-cp37-cp37m-manylinux_2_5_x86_64.manylinux1_x86_64.manylinux_2_12_x86_64.manylinux2010_x86_64.whl (3.3 MB)\n",
            "\u001b[K     |████████████████████████████████| 3.3 MB 33.3 MB/s \n",
            "\u001b[?25hRequirement already satisfied: filelock in /usr/local/lib/python3.7/dist-packages (from transformers) (3.4.0)\n",
            "Requirement already satisfied: packaging>=20.0 in /usr/local/lib/python3.7/dist-packages (from transformers) (21.3)\n",
            "Requirement already satisfied: tqdm>=4.27 in /usr/local/lib/python3.7/dist-packages (from transformers) (4.62.3)\n",
            "Requirement already satisfied: regex!=2019.12.17 in /usr/local/lib/python3.7/dist-packages (from transformers) (2019.12.20)\n",
            "Collecting sacremoses\n",
            "  Downloading sacremoses-0.0.46-py3-none-any.whl (895 kB)\n",
            "\u001b[K     |████████████████████████████████| 895 kB 47.3 MB/s \n",
            "\u001b[?25hRequirement already satisfied: importlib-metadata in /usr/local/lib/python3.7/dist-packages (from transformers) (4.8.2)\n",
            "Collecting pyyaml>=5.1\n",
            "  Downloading PyYAML-6.0-cp37-cp37m-manylinux_2_5_x86_64.manylinux1_x86_64.manylinux_2_12_x86_64.manylinux2010_x86_64.whl (596 kB)\n",
            "\u001b[K     |████████████████████████████████| 596 kB 44.7 MB/s \n",
            "\u001b[?25hRequirement already satisfied: requests in /usr/local/lib/python3.7/dist-packages (from transformers) (2.23.0)\n",
            "Requirement already satisfied: typing-extensions>=3.7.4.3 in /usr/local/lib/python3.7/dist-packages (from huggingface-hub<1.0,>=0.1.0->transformers) (3.10.0.2)\n",
            "Requirement already satisfied: pyparsing!=3.0.5,>=2.0.2 in /usr/local/lib/python3.7/dist-packages (from packaging>=20.0->transformers) (3.0.6)\n",
            "Requirement already satisfied: zipp>=0.5 in /usr/local/lib/python3.7/dist-packages (from importlib-metadata->transformers) (3.6.0)\n",
            "Requirement already satisfied: chardet<4,>=3.0.2 in /usr/local/lib/python3.7/dist-packages (from requests->transformers) (3.0.4)\n",
            "Requirement already satisfied: certifi>=2017.4.17 in /usr/local/lib/python3.7/dist-packages (from requests->transformers) (2021.10.8)\n",
            "Requirement already satisfied: idna<3,>=2.5 in /usr/local/lib/python3.7/dist-packages (from requests->transformers) (2.10)\n",
            "Requirement already satisfied: urllib3!=1.25.0,!=1.25.1,<1.26,>=1.21.1 in /usr/local/lib/python3.7/dist-packages (from requests->transformers) (1.24.3)\n",
            "Requirement already satisfied: six in /usr/local/lib/python3.7/dist-packages (from sacremoses->transformers) (1.15.0)\n",
            "Requirement already satisfied: click in /usr/local/lib/python3.7/dist-packages (from sacremoses->transformers) (7.1.2)\n",
            "Requirement already satisfied: joblib in /usr/local/lib/python3.7/dist-packages (from sacremoses->transformers) (1.1.0)\n",
            "Installing collected packages: pyyaml, tokenizers, sacremoses, huggingface-hub, transformers\n",
            "  Attempting uninstall: pyyaml\n",
            "    Found existing installation: PyYAML 3.13\n",
            "    Uninstalling PyYAML-3.13:\n",
            "      Successfully uninstalled PyYAML-3.13\n",
            "Successfully installed huggingface-hub-0.2.1 pyyaml-6.0 sacremoses-0.0.46 tokenizers-0.10.3 transformers-4.14.1\n",
            "\u001b[K     |████████████████████████████████| 4.9 MB 8.2 MB/s \n",
            "\u001b[K     |████████████████████████████████| 1.8 MB 8.3 MB/s \n",
            "\u001b[K     |████████████████████████████████| 352 kB 55.2 MB/s \n",
            "\u001b[K     |████████████████████████████████| 1.2 MB 52.3 MB/s \n",
            "\u001b[K     |████████████████████████████████| 43 kB 1.8 MB/s \n",
            "\u001b[K     |████████████████████████████████| 47.6 MB 1.4 MB/s \n",
            "\u001b[K     |████████████████████████████████| 1.1 MB 43.3 MB/s \n",
            "\u001b[K     |████████████████████████████████| 90 kB 8.7 MB/s \n",
            "\u001b[K     |████████████████████████████████| 99 kB 7.8 MB/s \n",
            "\u001b[K     |████████████████████████████████| 213 kB 38.8 MB/s \n",
            "\u001b[?25h  Building wheel for py-cpuinfo (setup.py) ... \u001b[?25l\u001b[?25hdone\n",
            "  Building wheel for seqeval (setup.py) ... \u001b[?25l\u001b[?25hdone\n"
          ]
        }
      ],
      "source": [
        "!pip install transformers\n",
        "!pip install -q -U tensorflow-text\n",
        "!pip install -q tf-models-official\n"
      ]
    },
    {
      "cell_type": "code",
      "execution_count": null,
      "metadata": {
        "colab": {
          "base_uri": "https://localhost:8080/"
        },
        "id": "W2PTdSgbrkDo",
        "outputId": "4d048a29-e7ae-4370-ff1d-402ba4ef4d78"
      },
      "outputs": [
        {
          "name": "stdout",
          "output_type": "stream",
          "text": [
            "Mounted at /content/drive\n"
          ]
        }
      ],
      "source": [
        "from google.colab import drive\n",
        "drive.mount('/content/drive')"
      ]
    },
    {
      "cell_type": "code",
      "execution_count": null,
      "metadata": {
        "id": "42zBVbMOXxmU"
      },
      "outputs": [],
      "source": [
        "from transformers import BertTokenizer, TFBertForSequenceClassification\n",
        "from transformers import InputExample, InputFeatures\n",
        "import tensorflow as tf\n",
        "import pandas as pd\n",
        "from sklearn.model_selection import train_test_split\n",
        "import numpy as np\n",
        "import os\n",
        "import shutil\n",
        "\n",
        "import tensorflow as tf\n",
        "import tensorflow_hub as hub\n",
        "import tensorflow_text as text\n",
        "from official.nlp import optimization  # to create AdamW optimizer\n",
        "\n",
        "import matplotlib.pyplot as plt\n"
      ]
    },
    {
      "cell_type": "code",
      "execution_count": null,
      "metadata": {
        "id": "UetOKo77peRu"
      },
      "outputs": [],
      "source": [
        "def ingest(file_path):\n",
        "    data = pd.read_csv(file_path)\n",
        "    data.drop(['movie_ids', 'ratings'], axis=1, inplace=True)\n",
        "    data = data[data.review_texts.isnull() == False]\n",
        "    data['ratings_binary'] = data['ratings_binary'].apply(lambda e : 1 if e == 'p' else 0)\n",
        "    # data['review_texts'] = data['review_texts'].map(int)\n",
        "    # data = data[data['review_texts'].isnull() == False]\n",
        "    data.reset_index(inplace=True)\n",
        "    data.drop(['index',\"Unnamed: 0\"], axis=1, inplace=True)\n",
        "    print ('dataset loaded with shape', data.shape)\n",
        "    return data\n",
        "\n",
        "def build_classifier_model():\n",
        "  tfhub_handle_encoder = 'https://tfhub.dev/tensorflow/small_bert/bert_en_uncased_L-4_H-512_A-8/1'\n",
        "  tfhub_handle_preprocess = 'https://tfhub.dev/tensorflow/bert_en_uncased_preprocess/3'\n",
        "  text_input = tf.keras.layers.Input(shape=(), dtype=tf.string, name='text')\n",
        "  preprocessing_layer = hub.KerasLayer(tfhub_handle_preprocess, name='preprocessing')\n",
        "  encoder_inputs = preprocessing_layer(text_input)\n",
        "  encoder = hub.KerasLayer(tfhub_handle_encoder, trainable=True, name='BERT_encoder')\n",
        "  outputs = encoder(encoder_inputs)\n",
        "  net = outputs['pooled_output']\n",
        "  net = tf.keras.layers.Dropout(0.1)(net)\n",
        "  net = tf.keras.layers.Dense(1, activation=None, name='classifier')(net)\n",
        "  return tf.keras.Model(text_input, net)\n",
        "\n",
        "def build_optimizer(train_size, epochs = 5):\n",
        "  steps_per_epoch = train_size\n",
        "  num_train_steps = steps_per_epoch * epochs\n",
        "  num_warmup_steps = int(0.1*num_train_steps)\n",
        "\n",
        "  init_lr = 3e-5\n",
        "  optimizer = optimization.create_optimizer(init_lr=init_lr,\n",
        "                                            num_train_steps=num_train_steps,\n",
        "                                            num_warmup_steps=num_warmup_steps,\n",
        "                                            optimizer_type='adamw')\n",
        "  return optimizer\n"
      ]
    },
    {
      "cell_type": "code",
      "execution_count": null,
      "metadata": {
        "id": "lGsCYqqOX5Wt"
      },
      "outputs": [],
      "source": [
        "def run(file_path, rs):\n",
        "  data = ingest(file_path)\n",
        "  audience_data = data.drop([\"sources\"], axis=1)\n",
        "  audience_data = audience_data.sample(frac=1).reset_index(drop=True)\n",
        "  aud_x_train, aud_x_test, aud_y_train, aud_y_test = train_test_split(np.array(audience_data.review_texts),\n",
        "                                                      np.array(audience_data.ratings_binary), test_size=0.3)\n",
        "  aud_x_vali, aud_x_test, aud_y_vali, aud_y_test = train_test_split(aud_x_test,\n",
        "                                                      aud_y_test, test_size=0.6, random_state=rs)\n",
        "\n",
        "  # bert_model_name = 'small_bert/bert_en_uncased_L-4_H-512_A-8' \n",
        "\n",
        "\n",
        "\n",
        "  aud_classifier_model = build_classifier_model()\n",
        "  loss = tf.keras.losses.BinaryCrossentropy(from_logits=True)\n",
        "  metrics = tf.metrics.BinaryAccuracy()\n",
        "\n",
        "\n",
        "\n",
        "  epochs = 5\n",
        "\n",
        "  aud_optimizer = build_optimizer(len(aud_x_train), epochs)\n",
        "\n",
        "\n",
        "  aud_classifier_model.compile(optimizer=aud_optimizer,\n",
        "                          loss=loss,\n",
        "                          metrics=metrics)\n",
        "\n",
        "  aud_history = aud_classifier_model.fit(x=aud_x_train, y=aud_y_train,\n",
        "                                validation_data=(aud_x_vali, aud_y_vali),\n",
        "                                epochs=epochs)\n",
        "\n",
        "  loss, accuracy = aud_classifier_model.evaluate(x=aud_x_test, y=aud_y_test)\n",
        "\n",
        "  print(f'Loss: {loss}')\n",
        "  print(f'Accuracy: {accuracy}')"
      ]
    },
    {
      "cell_type": "code",
      "execution_count": null,
      "metadata": {
        "id": "-NSS4E4Y_Spf"
      },
      "outputs": [],
      "source": [
        "data_files = ['longer_audience.csv', 'longer_critics.csv', 'shorter_audience.csv', 'shorter_critics.csv', 'critics_half.csv', 'audience_half.csv']\n"
      ]
    },
    {
      "cell_type": "code",
      "execution_count": null,
      "metadata": {
        "colab": {
          "background_save": true,
          "base_uri": "https://localhost:8080/"
        },
        "id": "5D4ww9ekpqya",
        "outputId": "8689600f-c7bd-41cd-de91-c627a00a034d"
      },
      "outputs": [
        {
          "name": "stderr",
          "output_type": "stream",
          "text": [
            "INFO:absl:Using /tmp/tfhub_modules to cache modules.\n"
          ]
        },
        {
          "name": "stdout",
          "output_type": "stream",
          "text": [
            "dataset loaded with shape (2265, 4)\n"
          ]
        },
        {
          "name": "stderr",
          "output_type": "stream",
          "text": [
            "INFO:absl:using Adamw optimizer\n",
            "INFO:absl:gradient_clip_norm=1.000000\n"
          ]
        },
        {
          "name": "stdout",
          "output_type": "stream",
          "text": [
            "Epoch 1/10\n",
            "50/50 [==============================] - 432s 8s/step - loss: 0.6760 - binary_accuracy: 0.5514 - val_loss: 0.6422 - val_binary_accuracy: 0.6066\n",
            "Epoch 2/10\n",
            "50/50 [==============================] - 435s 9s/step - loss: 0.6544 - binary_accuracy: 0.5584 - val_loss: 0.6137 - val_binary_accuracy: 0.6801\n",
            "Epoch 3/10\n",
            "50/50 [==============================] - 441s 9s/step - loss: 0.6068 - binary_accuracy: 0.6467 - val_loss: 0.5864 - val_binary_accuracy: 0.6728\n",
            "Epoch 4/10\n",
            "50/50 [==============================] - 443s 9s/step - loss: 0.5711 - binary_accuracy: 0.6883 - val_loss: 0.5488 - val_binary_accuracy: 0.7279\n",
            "Epoch 5/10\n",
            "50/50 [==============================] - 442s 9s/step - loss: 0.5179 - binary_accuracy: 0.7445 - val_loss: 0.5342 - val_binary_accuracy: 0.6875\n",
            "Epoch 6/10\n",
            "50/50 [==============================] - 442s 9s/step - loss: 0.4606 - binary_accuracy: 0.7811 - val_loss: 0.5003 - val_binary_accuracy: 0.7316\n",
            "Epoch 7/10\n",
            "50/50 [==============================] - 443s 9s/step - loss: 0.4117 - binary_accuracy: 0.8246 - val_loss: 0.4820 - val_binary_accuracy: 0.7353\n",
            "Epoch 8/10\n",
            "50/50 [==============================] - 445s 9s/step - loss: 0.3580 - binary_accuracy: 0.8423 - val_loss: 0.4647 - val_binary_accuracy: 0.7500\n",
            "Epoch 9/10\n",
            "50/50 [==============================] - 447s 9s/step - loss: 0.3304 - binary_accuracy: 0.8543 - val_loss: 0.4422 - val_binary_accuracy: 0.8162\n",
            "Epoch 10/10\n",
            "50/50 [==============================] - 440s 9s/step - loss: 0.2839 - binary_accuracy: 0.8776 - val_loss: 0.4499 - val_binary_accuracy: 0.8235\n",
            "13/13 [==============================] - 29s 2s/step - loss: 0.4073 - binary_accuracy: 0.8333\n",
            "Loss: 0.40726438164711\n",
            "Accuracy: 0.8333333134651184\n"
          ]
        }
      ],
      "source": [
        "file_path = f'/content/drive/MyDrive/dataset/{data_files[0]}'\n",
        "run(file_path, 10)"
      ]
    },
    {
      "cell_type": "code",
      "execution_count": null,
      "metadata": {
        "colab": {
          "base_uri": "https://localhost:8080/"
        },
        "id": "oSJgwzVftpUO",
        "outputId": "ca9b492c-fcb9-4b83-9408-576ee5f0ec61"
      },
      "outputs": [
        {
          "name": "stdout",
          "output_type": "stream",
          "text": [
            "dataset loaded with shape (4275, 4)\n"
          ]
        },
        {
          "name": "stderr",
          "output_type": "stream",
          "text": [
            "INFO:absl:using Adamw optimizer\n",
            "INFO:absl:gradient_clip_norm=1.000000\n"
          ]
        },
        {
          "name": "stdout",
          "output_type": "stream",
          "text": [
            "Epoch 1/5\n",
            "94/94 [==============================] - 26s 192ms/step - loss: 0.7404 - binary_accuracy: 0.5963 - val_loss: 0.6183 - val_binary_accuracy: 0.5965\n",
            "Epoch 2/5\n",
            "94/94 [==============================] - 17s 186ms/step - loss: 0.6522 - binary_accuracy: 0.5812 - val_loss: 0.5717 - val_binary_accuracy: 0.6803\n",
            "Epoch 3/5\n",
            "94/94 [==============================] - 17s 185ms/step - loss: 0.6011 - binary_accuracy: 0.6430 - val_loss: 0.5243 - val_binary_accuracy: 0.7115\n",
            "Epoch 4/5\n",
            "94/94 [==============================] - 17s 185ms/step - loss: 0.5346 - binary_accuracy: 0.7052 - val_loss: 0.4749 - val_binary_accuracy: 0.7836\n",
            "Epoch 5/5\n",
            "94/94 [==============================] - 17s 185ms/step - loss: 0.4768 - binary_accuracy: 0.7614 - val_loss: 0.4611 - val_binary_accuracy: 0.7914\n",
            "25/25 [==============================] - 2s 98ms/step - loss: 0.4638 - binary_accuracy: 0.7883\n",
            "Loss: 0.4638107120990753\n",
            "Accuracy: 0.7883116602897644\n"
          ]
        }
      ],
      "source": [
        "file_path = f'/content/drive/MyDrive/dataset/{data_files[1]}'\n",
        "run(file_path, 15)"
      ]
    },
    {
      "cell_type": "code",
      "execution_count": null,
      "metadata": {
        "colab": {
          "base_uri": "https://localhost:8080/"
        },
        "id": "HCTUW-M6t4vx",
        "outputId": "fd5ed1e4-e47c-4b9a-e48f-f613264ca9d9"
      },
      "outputs": [
        {
          "name": "stdout",
          "output_type": "stream",
          "text": [
            "dataset loaded with shape (2268, 4)\n"
          ]
        },
        {
          "name": "stderr",
          "output_type": "stream",
          "text": [
            "INFO:absl:using Adamw optimizer\n",
            "INFO:absl:gradient_clip_norm=1.000000\n"
          ]
        },
        {
          "name": "stdout",
          "output_type": "stream",
          "text": [
            "Epoch 1/5\n",
            "50/50 [==============================] - 19s 197ms/step - loss: 0.6318 - binary_accuracy: 0.5684 - val_loss: 0.6330 - val_binary_accuracy: 0.6360\n",
            "Epoch 2/5\n",
            "50/50 [==============================] - 9s 184ms/step - loss: 0.5803 - binary_accuracy: 0.6818 - val_loss: 0.5747 - val_binary_accuracy: 0.6949\n",
            "Epoch 3/5\n",
            "50/50 [==============================] - 9s 184ms/step - loss: 0.5222 - binary_accuracy: 0.7328 - val_loss: 0.5193 - val_binary_accuracy: 0.7353\n",
            "Epoch 4/5\n",
            "50/50 [==============================] - 9s 185ms/step - loss: 0.4691 - binary_accuracy: 0.7738 - val_loss: 0.4614 - val_binary_accuracy: 0.7868\n",
            "Epoch 5/5\n",
            "50/50 [==============================] - 9s 184ms/step - loss: 0.3980 - binary_accuracy: 0.8154 - val_loss: 0.4194 - val_binary_accuracy: 0.7721\n",
            "13/13 [==============================] - 1s 101ms/step - loss: 0.4284 - binary_accuracy: 0.7531\n",
            "Loss: 0.4284345507621765\n",
            "Accuracy: 0.7530562281608582\n"
          ]
        }
      ],
      "source": [
        "file_path = f'/content/drive/MyDrive/dataset/{data_files[2]}'\n",
        "run(file_path, 15)"
      ]
    },
    {
      "cell_type": "code",
      "execution_count": null,
      "metadata": {
        "colab": {
          "base_uri": "https://localhost:8080/"
        },
        "id": "RCLm_k4wuF6n",
        "outputId": "f85353ce-0017-4b97-b39b-406805616efa"
      },
      "outputs": [
        {
          "name": "stdout",
          "output_type": "stream",
          "text": [
            "dataset loaded with shape (4631, 4)\n"
          ]
        },
        {
          "name": "stderr",
          "output_type": "stream",
          "text": [
            "INFO:absl:using Adamw optimizer\n",
            "INFO:absl:gradient_clip_norm=1.000000\n"
          ]
        },
        {
          "name": "stdout",
          "output_type": "stream",
          "text": [
            "Epoch 1/5\n",
            "102/102 [==============================] - 27s 190ms/step - loss: 0.7285 - binary_accuracy: 0.5594 - val_loss: 0.6633 - val_binary_accuracy: 0.5701\n",
            "Epoch 2/5\n",
            "102/102 [==============================] - 19s 183ms/step - loss: 0.6499 - binary_accuracy: 0.5869 - val_loss: 0.5981 - val_binary_accuracy: 0.6709\n",
            "Epoch 3/5\n",
            "102/102 [==============================] - 19s 183ms/step - loss: 0.5845 - binary_accuracy: 0.6770 - val_loss: 0.5325 - val_binary_accuracy: 0.7014\n",
            "Epoch 4/5\n",
            "102/102 [==============================] - 19s 183ms/step - loss: 0.5278 - binary_accuracy: 0.7192 - val_loss: 0.4767 - val_binary_accuracy: 0.7626\n",
            "Epoch 5/5\n",
            "102/102 [==============================] - 19s 184ms/step - loss: 0.4702 - binary_accuracy: 0.7652 - val_loss: 0.4521 - val_binary_accuracy: 0.7716\n",
            "27/27 [==============================] - 3s 96ms/step - loss: 0.4539 - binary_accuracy: 0.7710\n",
            "Loss: 0.4539247155189514\n",
            "Accuracy: 0.7709832191467285\n"
          ]
        }
      ],
      "source": [
        "file_path = f'/content/drive/MyDrive/dataset/{data_files[3]}'\n",
        "run(file_path, 16)"
      ]
    },
    {
      "cell_type": "code",
      "execution_count": null,
      "metadata": {
        "colab": {
          "base_uri": "https://localhost:8080/"
        },
        "id": "YjsIdhL5uHXa",
        "outputId": "901f5fe9-8097-4d28-f138-3e61c4b573ba"
      },
      "outputs": [
        {
          "name": "stdout",
          "output_type": "stream",
          "text": [
            "dataset loaded with shape (8906, 4)\n"
          ]
        },
        {
          "name": "stderr",
          "output_type": "stream",
          "text": [
            "INFO:absl:using Adamw optimizer\n",
            "INFO:absl:gradient_clip_norm=1.000000\n"
          ]
        },
        {
          "name": "stdout",
          "output_type": "stream",
          "text": [
            "Epoch 1/5\n",
            "195/195 [==============================] - 45s 189ms/step - loss: 0.7050 - binary_accuracy: 0.4676 - val_loss: 0.6482 - val_binary_accuracy: 0.5506\n",
            "Epoch 2/5\n",
            "195/195 [==============================] - 36s 186ms/step - loss: 0.6261 - binary_accuracy: 0.6131 - val_loss: 0.5647 - val_binary_accuracy: 0.6863\n",
            "Epoch 3/5\n",
            "195/195 [==============================] - 36s 187ms/step - loss: 0.5368 - binary_accuracy: 0.7114 - val_loss: 0.4955 - val_binary_accuracy: 0.7444\n",
            "Epoch 4/5\n",
            "195/195 [==============================] - 36s 186ms/step - loss: 0.4733 - binary_accuracy: 0.7543 - val_loss: 0.4651 - val_binary_accuracy: 0.7734\n",
            "Epoch 5/5\n",
            "195/195 [==============================] - 36s 186ms/step - loss: 0.4233 - binary_accuracy: 0.7969 - val_loss: 0.4696 - val_binary_accuracy: 0.7509\n",
            "51/51 [==============================] - 5s 101ms/step - loss: 0.4561 - binary_accuracy: 0.7700\n",
            "Loss: 0.4560893774032593\n",
            "Accuracy: 0.7699501514434814\n"
          ]
        }
      ],
      "source": [
        "file_path = f'/content/drive/MyDrive/dataset/{data_files[4]}'\n",
        "run(file_path, 12)"
      ]
    },
    {
      "cell_type": "code",
      "execution_count": null,
      "metadata": {
        "colab": {
          "base_uri": "https://localhost:8080/"
        },
        "id": "ZpizfIJ-uIxw",
        "outputId": "5f3366e8-a96e-45b7-d940-e0fc9e478212"
      },
      "outputs": [
        {
          "output_type": "stream",
          "name": "stdout",
          "text": [
            "dataset loaded with shape (4533, 4)\n"
          ]
        },
        {
          "output_type": "stream",
          "name": "stderr",
          "text": [
            "INFO:absl:using Adamw optimizer\n",
            "INFO:absl:gradient_clip_norm=1.000000\n"
          ]
        },
        {
          "output_type": "stream",
          "name": "stdout",
          "text": [
            "Epoch 1/5\n",
            "100/100 [==============================] - 27s 193ms/step - loss: 0.6330 - binary_accuracy: 0.5626 - val_loss: 0.5419 - val_binary_accuracy: 0.7151\n",
            "Epoch 2/5\n",
            "100/100 [==============================] - 19s 186ms/step - loss: 0.5498 - binary_accuracy: 0.7025 - val_loss: 0.4535 - val_binary_accuracy: 0.7904\n",
            "Epoch 3/5\n",
            "100/100 [==============================] - 20s 195ms/step - loss: 0.4699 - binary_accuracy: 0.7649 - val_loss: 0.3835 - val_binary_accuracy: 0.8180\n",
            "Epoch 4/5\n",
            "100/100 [==============================] - 19s 187ms/step - loss: 0.4149 - binary_accuracy: 0.7974 - val_loss: 0.3270 - val_binary_accuracy: 0.8548\n",
            "Epoch 5/5\n",
            "100/100 [==============================] - 19s 188ms/step - loss: 0.3510 - binary_accuracy: 0.8431 - val_loss: 0.3107 - val_binary_accuracy: 0.8511\n",
            "26/26 [==============================] - 3s 101ms/step - loss: 0.3674 - binary_accuracy: 0.8137\n",
            "Loss: 0.3673551678657532\n",
            "Accuracy: 0.813725471496582\n"
          ]
        }
      ],
      "source": [
        "file_path = f'/content/drive/MyDrive/dataset/{data_files[5]}'\n",
        "run(file_path, 4)"
      ]
    },
    {
      "cell_type": "code",
      "execution_count": null,
      "metadata": {
        "id": "FFnLzXnGw_xH"
      },
      "outputs": [],
      "source": [
        ""
      ]
    }
  ],
  "metadata": {
    "accelerator": "GPU",
    "colab": {
      "collapsed_sections": [],
      "machine_shape": "hm",
      "name": "Bert_classification_hypothesis2.ipynb",
      "provenance": [],
      "include_colab_link": true
    },
    "kernelspec": {
      "display_name": "Python 3",
      "name": "python3"
    },
    "language_info": {
      "name": "python"
    }
  },
  "nbformat": 4,
  "nbformat_minor": 0
}