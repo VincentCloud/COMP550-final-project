{
  "nbformat": 4,
  "nbformat_minor": 0,
  "metadata": {
    "colab": {
      "name": "hypothesis02.ipynb",
      "provenance": [],
      "mount_file_id": "1OOAG28eRfAuyV1OvO-Y9hPYj3SCCSgOg",
      "authorship_tag": "ABX9TyPOGTw8tylx7talEO5kzepa",
      "include_colab_link": true
    },
    "kernelspec": {
      "name": "python3",
      "display_name": "Python 3"
    },
    "language_info": {
      "name": "python"
    }
  },
  "cells": [
    {
      "cell_type": "markdown",
      "metadata": {
        "id": "view-in-github",
        "colab_type": "text"
      },
      "source": [
        "<a href=\"https://colab.research.google.com/github/VincentCloud/COMP550-final-project/blob/main/hypothesis02.ipynb\" target=\"_parent\"><img src=\"https://colab.research.google.com/assets/colab-badge.svg\" alt=\"Open In Colab\"/></a>"
      ]
    },
    {
      "cell_type": "code",
      "execution_count": 1,
      "metadata": {
        "colab": {
          "base_uri": "https://localhost:8080/"
        },
        "id": "xFEGXbyuQFaY",
        "outputId": "97e7c2d1-fc98-4bea-84dd-60bd46a4ca34"
      },
      "outputs": [
        {
          "output_type": "stream",
          "name": "stdout",
          "text": [
            "Cloning into 'COMP550-final-project'...\n",
            "remote: Enumerating objects: 54, done.\u001b[K\n",
            "remote: Counting objects: 100% (54/54), done.\u001b[K\n",
            "remote: Compressing objects: 100% (35/35), done.\u001b[K\n",
            "remote: Total 54 (delta 16), reused 45 (delta 9), pack-reused 0\u001b[K\n",
            "Unpacking objects: 100% (54/54), done.\n"
          ]
        }
      ],
      "source": [
        "! git clone https://github.com/VincentCloud/COMP550-final-project.git"
      ]
    },
    {
      "cell_type": "code",
      "source": [
        "% cd /content/COMP550-final-project/"
      ],
      "metadata": {
        "colab": {
          "base_uri": "https://localhost:8080/"
        },
        "id": "u_8s4ohLSanX",
        "outputId": "b780e03d-643e-4966-edd2-fe158599b0cc"
      },
      "execution_count": 2,
      "outputs": [
        {
          "output_type": "stream",
          "name": "stdout",
          "text": [
            "/content/COMP550-final-project\n"
          ]
        }
      ]
    },
    {
      "cell_type": "markdown",
      "source": [
        "# Load the Dataset and Preprocess\n",
        "\n"
      ],
      "metadata": {
        "id": "4cg0uZHgS3gl"
      }
    },
    {
      "cell_type": "code",
      "source": [
        "import pandas as pd\n",
        "import numpy as np\n",
        "\n",
        "from sklearn import model_selection\n",
        "from sklearn.linear_model import LogisticRegression\n",
        "from sklearn.svm import SVC\n",
        "\n",
        "from sklearn.feature_extraction.text import TfidfVectorizer,CountVectorizer\n",
        "\n",
        "from nltk.corpus import stopwords\n",
        "from nltk import RegexpTokenizer,word_tokenize\n",
        "from nltk.stem.snowball import SnowballStemmer\n",
        "from nltk.stem import PorterStemmer\n",
        "from nltk.stem import WordNetLemmatizer\n",
        "import re\n",
        "\n",
        "import matplotlib.pyplot as plt\n",
        "from statistics import median"
      ],
      "metadata": {
        "id": "QKWgposPawNJ"
      },
      "execution_count": 3,
      "outputs": []
    },
    {
      "cell_type": "code",
      "source": [
        "import pandas as pd\n",
        "import numpy as np\n",
        "\n",
        "from sklearn import model_selection\n",
        "from sklearn.linear_model import LogisticRegression\n",
        "from sklearn.svm import SVC\n",
        "\n",
        "from sklearn.feature_extraction.text import TfidfVectorizer,CountVectorizer\n",
        "\n",
        "from nltk.corpus import stopwords\n",
        "from nltk import RegexpTokenizer,word_tokenize\n",
        "from nltk.stem.snowball import SnowballStemmer\n",
        "from nltk.stem import PorterStemmer\n",
        "from nltk.stem import WordNetLemmatizer\n",
        "import re\n",
        "\n",
        "samelength = False # If true, make critic and audience dataframe same length by dropping some critic data\n",
        "\n",
        "tokenizor_decision =\"RegexpTokenizer\"   #choose between RegexpTokenizer and word_tokenize\n",
        "preprocess_decision = [\"\",\"porter_stemmer\",\"\",\"snowball_stemmer\"] #choose from \"stopwords\",\"porter_stemmer\",\"snowball_stemmer\",\"lemmatizer\"\n",
        "feature_extraction_decision = \"TfidfVectorizer\"    #choose between CountVectorizer and TfidfVectorizer\n",
        "\n",
        "\n",
        "\n",
        "\n",
        "\"\"\"\n",
        "    Read data from files\n",
        "\"\"\"\n",
        "def getData():\n",
        "\n",
        "    df = pd.read_csv('./data/dataset.csv')\n",
        "    #remove the nan value\n",
        "    df = df.dropna()\n",
        "    \n",
        "    c_df = df.loc[df['sources'] == 'critics']\n",
        "    a_df = df.loc[df['sources'] == 'audience']\n",
        "\n",
        "    if samelength:\n",
        "        #make two dataframe same length\n",
        "        c_df = c_df.iloc[:len(a_df)]\n",
        "\n",
        "    return c_df,a_df,df\n",
        "\n",
        "\"\"\"\n",
        "    Data preprocessing\n",
        "\"\"\"\n",
        "\n",
        "def preprocessing(line):\n",
        "     \n",
        "     processed_line = line\n",
        "    \n",
        "     if tokenizor_decision ==\"word_tokenize\":\n",
        "         processed_line=word_tokenize(processed_line)\n",
        "    \n",
        "     if tokenizor_decision ==\"RegexpTokenizer\":\n",
        "         tokenizer = RegexpTokenizer(r'\\w+')\n",
        "         processed_line=tokenizer.tokenize(processed_line)\n",
        "    \n",
        "     if \"snowball_stemmer\" in preprocess_decision:\n",
        "         stemmer=SnowballStemmer('english')\n",
        "         processed_line=[stemmer.stem(word) for word in processed_line]\n",
        "         \n",
        "     if \"porter_stemmer\" in preprocess_decision:\n",
        "        stemmer=PorterStemmer()\n",
        "        processed_line=[stemmer.stem(word) for word in processed_line]\n",
        "        \n",
        "     if \"stopwords\" in preprocess_decision:\n",
        "        stop_words = stopwords.words('english')\n",
        "        processed_line= [word for word in processed_line if  word not in stop_words]\n",
        "        \n",
        "     if \"lemmatizer\" in preprocess_decision:\n",
        "        lemmatizer=WordNetLemmatizer()\n",
        "        processed_line=[lemmatizer.lemmatize(word) for word in processed_line]\n",
        "          \n",
        "     return processed_line\n",
        "\n",
        "\"\"\"\n",
        "Data split and feature extraction\n",
        "\"\"\"\n",
        "\n",
        "\n",
        "def feature_extraction(X,Y):\n",
        "    x_train, x_val,y_train,y_val = model_selection.train_test_split(X,Y,test_size=0.2,random_state=10)\n",
        "    x_val, x_test, y_val, y_test = model_selection.train_test_split(x_val,y_val,test_size=0.5,random_state=10)\n",
        "    \n",
        "    \n",
        "    if feature_extraction_decision == \"CountVectorizer\":\n",
        "        vect =CountVectorizer(min_df=2)\n",
        "        \n",
        "    if feature_extraction_decision == \"TfidfVectorizer\":\n",
        "        vect =TfidfVectorizer(min_df=2)\n",
        "        \n",
        "    vect.fit(x_train)\n",
        "    x_train_vect = vect.transform(x_train)\n",
        "    x_val_vect=vect.transform(x_val)\n",
        "    x_test_vect=vect.transform(x_test)\n",
        "    \n",
        "    return  x_train_vect, x_val_vect,x_test_vect,y_train,y_val,y_test\n",
        "\n",
        "\n",
        "\n",
        "def get_prediction(data):\n",
        "    X = []\n",
        "    Y = []\n",
        "    review = data['review_texts'].tolist()\n",
        "    rating = data['ratings_binary'].tolist();\n",
        "    \n",
        "    #data preprocessing\n",
        "    \n",
        "    for line in review:\n",
        "    \n",
        "        processed_line=preprocessing(line)\n",
        "        processed_line=[re.sub('[0-9+]','',word) for word in processed_line]\n",
        "        processed_line=' '.join(processed_line)\n",
        "        X.append(processed_line)\n",
        "    \n",
        "    \n",
        "    Y = rating\n",
        "    \n",
        "    print(\"size of features: \",len(X))\n",
        "    print(\"size of labels: \",len(Y))\n",
        "    \n",
        "    #feature extraction\n",
        "    x_train_vect, x_val_vect,x_test_vect,y_train,y_val,y_test = feature_extraction(X,Y)\n",
        "    \n",
        "    \n",
        "    #feed data into model\n",
        "    LR =LogisticRegression(C=1.2,random_state=0, solver='lbfgs',multi_class='multinomial',max_iter=300)\n",
        "    LR.fit(x_train_vect, y_train)\n",
        "    accuracy=LR.score(x_val_vect,y_val)\n",
        "    print(\" accuracy=\", accuracy)\n",
        "\n",
        "critics_data, audience_data, general_data= getData()\n"
      ],
      "metadata": {
        "id": "4AjjSL3STT1_"
      },
      "execution_count": 4,
      "outputs": []
    },
    {
      "cell_type": "code",
      "source": [
        "critics_data = critics_data.drop('Unnamed: 0', 1)\n",
        "audience_data = audience_data.drop('Unnamed: 0', 1)\n",
        "general_data = general_data.drop('Unnamed: 0', 1)"
      ],
      "metadata": {
        "id": "tgbP5Ml7Th5M"
      },
      "execution_count": 5,
      "outputs": []
    },
    {
      "cell_type": "code",
      "source": [
        "# def preprocess_data(df):\n",
        "#   review = df['review_texts']\n",
        "#   for i, line in enumerate(review):\n",
        "\n",
        "#     processed_line=preprocessing(line)\n",
        "#     processed_line=[re.sub('[0-9+]','',word) for word in processed_line]\n",
        "#     processed_line=' '.join(processed_line)\n",
        "#     review[i] = processed_line\n",
        "#   df['review_texts'] = review\n",
        "#   return df"
      ],
      "metadata": {
        "id": "K5U_cX49WRus"
      },
      "execution_count": 6,
      "outputs": []
    },
    {
      "cell_type": "code",
      "source": [
        "# clean_critics_data = preprocess_data(critics_data.copy())\n",
        "# clean_audience_data = preprocess_data(audience_data)\n",
        "# clean_general_data = preprocess_data(general_data)"
      ],
      "metadata": {
        "id": "mLF2GPy3Y_jD"
      },
      "execution_count": 7,
      "outputs": []
    },
    {
      "cell_type": "code",
      "source": [
        "def add_length_distribution(df, title):\n",
        "  review_length = [len(review.split()) for review in df['review_texts']]\n",
        "  df['review_length'] = review_length\n",
        "  print(review_length)\n",
        "  fig = plt.figure()\n",
        "  plt.hist(review_length, edgecolor = 'black', bins=10, range=[0, 100], density=True)\n",
        "  fig.suptitle(title)\n",
        "  plt.xlabel('review length')\n",
        "  plt.ylabel('percentage')\n",
        "  print(f'mean length of the view text: {sum(review_length)/len(review_length)}')\n",
        "  print(f'median length of the review text: {median(review_length)}')\n",
        "  return df"
      ],
      "metadata": {
        "id": "qvIL7ckQZRCF"
      },
      "execution_count": 8,
      "outputs": []
    },
    {
      "cell_type": "code",
      "source": [
        "critics_data.head()"
      ],
      "metadata": {
        "colab": {
          "base_uri": "https://localhost:8080/",
          "height": 206
        },
        "id": "VNVN3sVlcg5J",
        "outputId": "34affa0c-c234-45bf-b294-36f8462e4d79"
      },
      "execution_count": 9,
      "outputs": [
        {
          "output_type": "execute_result",
          "data": {
            "text/html": [
              "\n",
              "  <div id=\"df-71543e1f-08d4-4973-964a-9da25b945117\">\n",
              "    <div class=\"colab-df-container\">\n",
              "      <div>\n",
              "<style scoped>\n",
              "    .dataframe tbody tr th:only-of-type {\n",
              "        vertical-align: middle;\n",
              "    }\n",
              "\n",
              "    .dataframe tbody tr th {\n",
              "        vertical-align: top;\n",
              "    }\n",
              "\n",
              "    .dataframe thead th {\n",
              "        text-align: right;\n",
              "    }\n",
              "</style>\n",
              "<table border=\"1\" class=\"dataframe\">\n",
              "  <thead>\n",
              "    <tr style=\"text-align: right;\">\n",
              "      <th></th>\n",
              "      <th>movie_ids</th>\n",
              "      <th>sources</th>\n",
              "      <th>ratings</th>\n",
              "      <th>ratings_binary</th>\n",
              "      <th>review_texts</th>\n",
              "    </tr>\n",
              "  </thead>\n",
              "  <tbody>\n",
              "    <tr>\n",
              "      <th>0</th>\n",
              "      <td>fear_street_part_one_1994</td>\n",
              "      <td>critics</td>\n",
              "      <td>fresh</td>\n",
              "      <td>p</td>\n",
              "      <td>FEAR STREET PART ONE: 1994 plays on horror tro...</td>\n",
              "    </tr>\n",
              "    <tr>\n",
              "      <th>1</th>\n",
              "      <td>fear_street_part_one_1994</td>\n",
              "      <td>critics</td>\n",
              "      <td>fresh</td>\n",
              "      <td>p</td>\n",
              "      <td>A clever-enough twist on old slasher tropes, f...</td>\n",
              "    </tr>\n",
              "    <tr>\n",
              "      <th>2</th>\n",
              "      <td>fear_street_part_one_1994</td>\n",
              "      <td>critics</td>\n",
              "      <td>fresh</td>\n",
              "      <td>p</td>\n",
              "      <td>Truthfully, it's kind of sad that a film that ...</td>\n",
              "    </tr>\n",
              "    <tr>\n",
              "      <th>3</th>\n",
              "      <td>fear_street_part_one_1994</td>\n",
              "      <td>critics</td>\n",
              "      <td>fresh</td>\n",
              "      <td>p</td>\n",
              "      <td>It looks like director Janiak sat the art dire...</td>\n",
              "    </tr>\n",
              "    <tr>\n",
              "      <th>4</th>\n",
              "      <td>fear_street_part_one_1994</td>\n",
              "      <td>critics</td>\n",
              "      <td>fresh</td>\n",
              "      <td>p</td>\n",
              "      <td>...the absence of wholeheartedly compelling pr...</td>\n",
              "    </tr>\n",
              "  </tbody>\n",
              "</table>\n",
              "</div>\n",
              "      <button class=\"colab-df-convert\" onclick=\"convertToInteractive('df-71543e1f-08d4-4973-964a-9da25b945117')\"\n",
              "              title=\"Convert this dataframe to an interactive table.\"\n",
              "              style=\"display:none;\">\n",
              "        \n",
              "  <svg xmlns=\"http://www.w3.org/2000/svg\" height=\"24px\"viewBox=\"0 0 24 24\"\n",
              "       width=\"24px\">\n",
              "    <path d=\"M0 0h24v24H0V0z\" fill=\"none\"/>\n",
              "    <path d=\"M18.56 5.44l.94 2.06.94-2.06 2.06-.94-2.06-.94-.94-2.06-.94 2.06-2.06.94zm-11 1L8.5 8.5l.94-2.06 2.06-.94-2.06-.94L8.5 2.5l-.94 2.06-2.06.94zm10 10l.94 2.06.94-2.06 2.06-.94-2.06-.94-.94-2.06-.94 2.06-2.06.94z\"/><path d=\"M17.41 7.96l-1.37-1.37c-.4-.4-.92-.59-1.43-.59-.52 0-1.04.2-1.43.59L10.3 9.45l-7.72 7.72c-.78.78-.78 2.05 0 2.83L4 21.41c.39.39.9.59 1.41.59.51 0 1.02-.2 1.41-.59l7.78-7.78 2.81-2.81c.8-.78.8-2.07 0-2.86zM5.41 20L4 18.59l7.72-7.72 1.47 1.35L5.41 20z\"/>\n",
              "  </svg>\n",
              "      </button>\n",
              "      \n",
              "  <style>\n",
              "    .colab-df-container {\n",
              "      display:flex;\n",
              "      flex-wrap:wrap;\n",
              "      gap: 12px;\n",
              "    }\n",
              "\n",
              "    .colab-df-convert {\n",
              "      background-color: #E8F0FE;\n",
              "      border: none;\n",
              "      border-radius: 50%;\n",
              "      cursor: pointer;\n",
              "      display: none;\n",
              "      fill: #1967D2;\n",
              "      height: 32px;\n",
              "      padding: 0 0 0 0;\n",
              "      width: 32px;\n",
              "    }\n",
              "\n",
              "    .colab-df-convert:hover {\n",
              "      background-color: #E2EBFA;\n",
              "      box-shadow: 0px 1px 2px rgba(60, 64, 67, 0.3), 0px 1px 3px 1px rgba(60, 64, 67, 0.15);\n",
              "      fill: #174EA6;\n",
              "    }\n",
              "\n",
              "    [theme=dark] .colab-df-convert {\n",
              "      background-color: #3B4455;\n",
              "      fill: #D2E3FC;\n",
              "    }\n",
              "\n",
              "    [theme=dark] .colab-df-convert:hover {\n",
              "      background-color: #434B5C;\n",
              "      box-shadow: 0px 1px 3px 1px rgba(0, 0, 0, 0.15);\n",
              "      filter: drop-shadow(0px 1px 2px rgba(0, 0, 0, 0.3));\n",
              "      fill: #FFFFFF;\n",
              "    }\n",
              "  </style>\n",
              "\n",
              "      <script>\n",
              "        const buttonEl =\n",
              "          document.querySelector('#df-71543e1f-08d4-4973-964a-9da25b945117 button.colab-df-convert');\n",
              "        buttonEl.style.display =\n",
              "          google.colab.kernel.accessAllowed ? 'block' : 'none';\n",
              "\n",
              "        async function convertToInteractive(key) {\n",
              "          const element = document.querySelector('#df-71543e1f-08d4-4973-964a-9da25b945117');\n",
              "          const dataTable =\n",
              "            await google.colab.kernel.invokeFunction('convertToInteractive',\n",
              "                                                     [key], {});\n",
              "          if (!dataTable) return;\n",
              "\n",
              "          const docLinkHtml = 'Like what you see? Visit the ' +\n",
              "            '<a target=\"_blank\" href=https://colab.research.google.com/notebooks/data_table.ipynb>data table notebook</a>'\n",
              "            + ' to learn more about interactive tables.';\n",
              "          element.innerHTML = '';\n",
              "          dataTable['output_type'] = 'display_data';\n",
              "          await google.colab.output.renderOutput(dataTable, element);\n",
              "          const docLink = document.createElement('div');\n",
              "          docLink.innerHTML = docLinkHtml;\n",
              "          element.appendChild(docLink);\n",
              "        }\n",
              "      </script>\n",
              "    </div>\n",
              "  </div>\n",
              "  "
            ],
            "text/plain": [
              "                   movie_ids  ...                                       review_texts\n",
              "0  fear_street_part_one_1994  ...  FEAR STREET PART ONE: 1994 plays on horror tro...\n",
              "1  fear_street_part_one_1994  ...  A clever-enough twist on old slasher tropes, f...\n",
              "2  fear_street_part_one_1994  ...  Truthfully, it's kind of sad that a film that ...\n",
              "3  fear_street_part_one_1994  ...  It looks like director Janiak sat the art dire...\n",
              "4  fear_street_part_one_1994  ...  ...the absence of wholeheartedly compelling pr...\n",
              "\n",
              "[5 rows x 5 columns]"
            ]
          },
          "metadata": {},
          "execution_count": 9
        }
      ]
    },
    {
      "cell_type": "code",
      "source": [
        "critics_data = add_length_distribution(critics_data, 'Length Distribution for Critic Reviews')"
      ],
      "metadata": {
        "colab": {
          "base_uri": "https://localhost:8080/",
          "height": 380
        },
        "id": "vGkE3bujbKCw",
        "outputId": "af2e977e-ec05-4d27-993c-3299602f1e9e"
      },
      "execution_count": 11,
      "outputs": [
        {
          "output_type": "stream",
          "name": "stdout",
          "text": [
            "[21, 31, 39, 29, 16, 24, 14, 24, 23, 20, 26, 26, 8, 29, 21, 17, 27, 25, 22, 10, 23, 18, 28, 27, 24, 10, 27, 13, 6, 22, 21, 20, 41, 15, 22, 16, 10, 30, 27, 32, 18, 11, 27, 17, 32, 35, 22, 34, 37, 13, 20, 29, 39, 29, 34, 11, 26, 21, 28, 19, 20, 43, 22, 13, 23, 29, 18, 31, 27, 38, 26, 25, 27, 26, 25, 8, 6, 27, 23, 12, 24, 11, 14, 10, 31, 39, 26, 40, 29, 32, 24, 14, 26, 46, 37, 11, 33, 8, 37, 15, 21, 23, 37, 10, 12, 22, 11, 37, 24, 28, 21, 25, 8, 17, 29, 24, 11, 32, 16, 10, 45, 21, 31, 26, 14, 15, 23, 8, 25, 21, 32, 28, 27, 22, 6, 27, 11, 19, 38, 5, 10, 19, 11, 28, 34, 6, 29, 33, 5, 29, 37, 21, 20, 31, 32, 38, 30, 32, 27, 40, 29, 13, 11, 25, 5, 16, 29, 17, 38, 47, 21, 13, 4, 31, 20, 18, 39, 27, 38, 16, 12, 14, 7, 18, 40, 23, 42, 25, 27, 21, 5, 19, 15, 21, 20, 23, 21, 28, 18, 15, 19, 12, 25, 21, 31, 13, 28, 25, 30, 22, 37, 30, 23, 15, 16, 16, 16, 30, 24, 22, 8, 18, 28, 18, 25, 33, 25, 18, 24, 37, 28, 17, 16, 14, 32, 27, 16, 14, 39, 37, 19, 31, 12, 8, 22, 27, 31, 26, 27, 27, 16, 25, 32, 26, 23, 16, 17, 20, 37, 24, 32, 8, 4, 5, 40, 28, 29, 25, 9, 21, 18, 19, 29, 6, 11, 19, 33, 27, 27, 27, 19, 16, 35, 14, 17, 6, 26, 22, 24, 40, 24, 14, 19, 26, 26, 33, 16, 29, 36, 5, 16, 23, 35, 13, 30, 19, 33, 19, 34, 22, 25, 28, 13, 16, 20, 15, 36, 39, 19, 26, 16, 23, 9, 36, 28, 30, 20, 18, 31, 17, 31, 22, 46, 39, 29, 25, 25, 33, 28, 20, 20, 22, 20, 36, 28, 31, 13, 11, 9, 27, 27, 30, 29, 12, 23, 26, 28, 8, 5, 22, 29, 30, 30, 43, 24, 38, 34, 20, 29, 35, 36, 33, 22, 30, 31, 36, 38, 41, 35, 19, 9, 19, 5, 28, 9, 24, 30, 30, 7, 6, 26, 8, 20, 17, 42, 11, 25, 16, 25, 23, 38, 32, 4, 14, 36, 10, 30, 36, 24, 24, 40, 19, 38, 22, 17, 17, 32, 16, 28, 21, 7, 28, 22, 21, 20, 36, 21, 11, 28, 33, 18, 6, 18, 29, 1, 22, 18, 9, 10, 29, 5, 27, 43, 23, 22, 25, 9, 15, 19, 23, 23, 27, 28, 44, 24, 9, 29, 28, 41, 28, 24, 11, 39, 38, 26, 10, 24, 17, 29, 28, 7, 20, 12, 18, 27, 23, 25, 27, 10, 14, 32, 10, 25, 40, 31, 17, 35, 40, 26, 13, 37, 27, 38, 41, 39, 42, 28, 20, 29, 26, 14, 9, 33, 22, 40, 39, 13, 27, 18, 24, 19, 16, 15, 32, 18, 28, 28, 42, 35, 30, 41, 18, 29, 30, 39, 31, 38, 44, 34, 32, 36, 42, 33, 36, 17, 17, 48, 20, 40, 40, 18, 28, 27, 14, 19, 15, 7, 25, 31, 19, 31, 35, 25, 28, 21, 17, 18, 32, 28, 27, 15, 31, 25, 8, 26, 25, 13, 22, 37, 24, 18, 21, 14, 39, 20, 23, 16, 22, 44, 30, 16, 16, 36, 17, 12, 17, 25, 18, 18, 15, 28, 33, 9, 16, 12, 19, 21, 27, 22, 30, 31, 22, 36, 5, 13, 19, 11, 35, 4, 25, 29, 7, 18, 19, 39, 28, 30, 23, 27, 15, 4, 8, 18, 33, 36, 30, 18, 19, 7, 23, 20, 37, 18, 29, 14, 16, 24, 8, 20, 17, 11, 28, 18, 15, 41, 9, 19, 12, 28, 32, 17, 28, 36, 8, 13, 25, 31, 15, 15, 26, 13, 19, 15, 32, 14, 12, 27, 30, 26, 25, 20, 6, 12, 6, 22, 24, 24, 21, 28, 28, 10, 4, 8, 26, 20, 7, 30, 23, 38, 7, 42, 36, 29, 33, 33, 24, 23, 17, 26, 6, 21, 29, 27, 19, 6, 19, 37, 21, 36, 43, 6, 17, 40, 15, 17, 24, 24, 27, 18, 28, 38, 13, 18, 14, 30, 19, 23, 17, 30, 21, 25, 28, 12, 29, 22, 25, 46, 19, 4, 28, 19, 20, 36, 39, 10, 40, 13, 15, 33, 33, 13, 18, 12, 15, 27, 21, 38, 11, 30, 4, 23, 29, 23, 25, 32, 24, 39, 4, 4, 13, 30, 21, 27, 7, 21, 21, 3, 22, 16, 15, 41, 25, 18, 34, 37, 9, 29, 31, 27, 16, 17, 37, 13, 22, 7, 41, 34, 17, 25, 9, 13, 3, 34, 23, 17, 14, 25, 5, 25, 22, 19, 11, 9, 30, 28, 13, 7, 35, 26, 6, 27, 11, 44, 27, 9, 22, 23, 29, 29, 41, 20, 35, 18, 24, 20, 45, 15, 15, 38, 13, 24, 21, 21, 4, 32, 19, 35, 24, 18, 33, 17, 16, 14, 36, 21, 20, 25, 24, 39, 18, 16, 19, 18, 28, 22, 35, 18, 23, 12, 26, 24, 40, 13, 2, 30, 23, 6, 25, 42, 4, 11, 31, 10, 15, 11, 14, 38, 12, 43, 38, 19, 24, 40, 37, 9, 18, 25, 12, 20, 38, 40, 17, 28, 27, 31, 26, 18, 27, 11, 31, 31, 33, 30, 7, 25, 29, 33, 29, 36, 8, 30, 35, 23, 34, 38, 13, 28, 25, 31, 19, 19, 28, 35, 21, 4, 39, 29, 23, 37, 9, 15, 30, 21, 14, 29, 43, 27, 11, 17, 34, 21, 30, 21, 19, 33, 43, 31, 21, 10, 37, 27, 32, 22, 16, 27, 19, 26, 20, 20, 14, 17, 25, 40, 16, 32, 36, 35, 22, 31, 8, 37, 39, 15, 30, 22, 7, 17, 25, 12, 12, 24, 33, 34, 36, 38, 17, 28, 21, 9, 26, 14, 31, 11, 44, 18, 5, 8, 41, 15, 33, 20, 21, 24, 42, 20, 40, 31, 27, 29, 14, 29, 35, 30, 40, 35, 15, 15, 25, 22, 25, 25, 31, 21, 13, 35, 41, 28, 20, 46, 15, 29, 4, 3, 22, 13, 22, 14, 10, 11, 39, 6, 25, 6, 7, 25, 27, 15, 34, 17, 19, 2, 18, 33, 29, 11, 41, 13, 22, 32, 19, 11, 15, 21, 31, 23, 18, 20, 19, 31, 36, 20, 33, 22, 34, 36, 35, 16, 32, 12, 24, 20, 31, 10, 19, 28, 9, 26, 25, 34, 13, 33, 14, 25, 10, 24, 15, 42, 23, 43, 19, 14, 34, 23, 17, 27, 17, 15, 48, 30, 17, 33, 31, 23, 20, 36, 27, 18, 26, 35, 47, 14, 37, 31, 24, 10, 27, 15, 18, 28, 43, 12, 29, 20, 20, 29, 22, 34, 11, 29, 32, 14, 29, 2, 15, 17, 24, 20, 38, 17, 32, 7, 14, 10, 18, 28, 5, 27, 18, 33, 27, 36, 38, 6, 28, 15, 30, 26, 16, 18, 26, 19, 14, 8, 31, 32, 24, 17, 40, 38, 21, 36, 38, 21, 28, 28, 10, 26, 14, 25, 30, 18, 39, 34, 7, 40, 38, 31, 23, 27, 17, 15, 19, 35, 20, 44, 30, 7, 33, 34, 15, 11, 23, 30, 13, 17, 26, 21, 34, 15, 18, 18, 27, 11, 23, 23, 29, 7, 27, 8, 17, 7, 45, 18, 17, 20, 28, 9, 9, 18, 25, 24, 12, 30, 19, 20, 28, 23, 31, 29, 29, 13, 4, 22, 11, 41, 14, 39, 28, 31, 41, 45, 24, 20, 27, 32, 23, 18, 44, 33, 13, 25, 13, 9, 22, 14, 16, 30, 13, 16, 24, 25, 12, 24, 16, 24, 14, 3, 8, 25, 10, 21, 14, 7, 24, 23, 43, 28, 12, 35, 13, 16, 35, 13, 24, 14, 21, 28, 23, 7, 16, 6, 7, 5, 8, 30, 4, 12, 10, 23, 11, 6, 23, 8, 42, 19, 28, 21, 7, 19, 11, 20, 23, 22, 31, 28, 15, 16, 27, 35, 14, 22, 25, 12, 39, 11, 3, 14, 38, 15, 36, 1, 9, 6, 36, 29, 32, 26, 19, 21, 25, 32, 4, 24, 23, 8, 35, 12, 15, 43, 28, 10, 12, 7, 28, 27, 24, 15, 29, 21, 27, 23, 13, 39, 26, 26, 9, 18, 38, 17, 30, 39, 16, 33, 14, 36, 30, 23, 32, 31, 10, 4, 16, 22, 28, 8, 13, 26, 15, 15, 34, 20, 19, 7, 10, 28, 18, 10, 28, 23, 25, 34, 8, 21, 25, 25, 16, 30, 16, 26, 9, 32, 37, 31, 13, 20, 33, 8, 14, 21, 7, 25, 17, 13, 4, 41, 13, 32, 28, 13, 22, 25, 24, 26, 18, 3, 18, 25, 2, 18, 27, 31, 41, 32, 14, 9, 39, 8, 9, 18, 26, 12, 24, 34, 25, 42, 4, 37, 11, 18, 17, 13, 28, 41, 7, 9, 18, 33, 28, 42, 1, 7, 38, 19, 28, 43, 32, 15, 14, 19, 30, 18, 16, 26, 16, 24, 27, 17, 21, 31, 29, 13, 14, 18, 25, 8, 25, 23, 11, 24, 32, 12, 17, 27, 25, 19, 19, 23, 25, 28, 8, 13, 23, 22, 9, 21, 19, 40, 23, 38, 21, 18, 22, 20, 8, 6, 17, 13, 15, 10, 20, 13, 12, 15, 15, 16, 22, 28, 31, 31, 33, 7, 29, 31, 20, 12, 10, 23, 15, 19, 17, 16, 17, 24, 17, 29, 24, 29, 22, 12, 3, 44, 7, 15, 29, 38, 16, 28, 36, 16, 22, 4, 20, 32, 33, 16, 13, 16, 20, 17, 22, 18, 19, 9, 19, 16, 16, 20, 31, 19, 36, 34, 27, 18, 7, 32, 39, 41, 13, 16, 22, 7, 15, 27, 21, 12, 20, 26, 4, 29, 8, 32, 11, 31, 23, 29, 7, 3, 13, 32, 17, 2, 16, 13, 18, 5, 20, 43, 25, 21, 36, 17, 8, 16, 22, 15, 3, 14, 14, 26, 23, 19, 17, 19, 30, 22, 32, 13, 12, 6, 9, 16, 6, 23, 18, 15, 23, 40, 43, 40, 15, 21, 17, 6, 9, 25, 5, 31, 24, 28, 16, 23, 23, 28, 20, 2, 17, 17, 20, 27, 11, 19, 28, 4, 26, 15, 23, 18, 32, 21, 24, 12, 44, 19, 21, 48, 42, 34, 38, 21, 32, 11, 22, 24, 16, 12, 17, 22, 26, 4, 33, 12, 24, 15, 2, 13, 13, 35, 2, 15, 8, 7, 6, 6, 17, 21, 3, 17, 16, 9, 16, 32, 28, 34, 22, 19, 1, 19, 23, 20, 23, 18, 30, 28, 31, 15, 28, 20, 19, 8, 21, 25, 23, 17, 28, 12, 33, 29, 29, 14, 13, 27, 11, 14, 28, 14, 30, 36, 28, 2, 4, 11, 2, 19, 13, 11, 47, 28, 19, 5, 6, 12, 13, 24, 22, 30, 18, 10, 15, 21, 6, 17, 17, 29, 9, 18, 20, 24, 16, 28, 26, 13, 19, 37, 5, 22, 15, 31, 14, 7, 19, 29, 28, 9, 20, 34, 26, 25, 27, 28, 4, 12, 22, 5, 30, 20, 8, 26, 27, 6, 11, 16, 32, 17, 11, 10, 28, 35, 7, 47, 26, 1, 10, 5, 5, 33, 33, 6, 32, 17, 24, 19, 38, 32, 21, 28, 5, 35, 23, 20, 27, 22, 4, 23, 12, 23, 33, 10, 30, 38, 5, 10, 22, 6, 23, 16, 9, 16, 2, 9, 9, 19, 7, 18, 19, 21, 27, 24, 7, 24, 13, 14, 9, 12, 20, 26, 14, 37, 32, 23, 11, 25, 27, 31, 6, 16, 19, 13, 27, 17, 15, 18, 10, 9, 22, 3, 20, 10, 35, 49, 30, 23, 15, 5, 37, 18, 21, 10, 14, 26, 18, 31, 22, 32, 19, 10, 28, 7, 12, 19, 9, 17, 8, 13, 43, 10, 4, 10, 24, 25, 29, 14, 13, 7, 24, 25, 11, 23, 11, 6, 26, 17, 16, 5, 20, 20, 10, 46, 25, 28, 8, 21, 28, 17, 15, 28, 7, 15, 9, 13, 28, 24, 5, 10, 35, 18, 37, 18, 28, 35, 11, 15, 19, 25, 25, 17, 19, 22, 18, 12, 19, 10, 41, 8, 31, 29, 16, 25, 24, 30, 11, 24, 19, 11, 8, 45, 43, 13, 6, 11, 28, 16, 8, 11, 21, 16, 45, 32, 29, 22, 8, 18, 27, 11, 22, 10, 5, 9, 21, 7, 26, 23, 17, 4, 8, 13, 17, 14, 6, 5, 26, 12, 19, 3, 5, 23, 10, 3, 27, 20, 27, 19, 22, 15, 9, 4, 11, 10, 31, 25, 18, 29, 26, 38, 39, 12, 37, 12, 28, 21, 15, 22, 16, 10, 25, 16, 8, 10, 12, 11, 8, 9, 25, 44, 8, 17, 20, 28, 22, 33, 10, 10, 14, 9, 11, 5, 23, 25, 17, 30, 18, 22, 28, 20, 22, 21, 16, 6, 28, 36, 28, 32, 16, 31, 7, 15, 6, 27, 13, 19, 34, 22, 8, 10, 17, 12, 10, 22, 25, 19, 21, 35, 27, 46, 7, 16, 22, 12, 1, 6, 12, 21, 24, 27, 14, 45, 24, 26, 25, 26, 20, 34, 31, 19, 10, 15, 9, 37, 22, 8, 32, 23, 21, 23, 38, 21, 17, 16, 29, 9, 14, 31, 12, 21, 21, 24, 35, 12, 17, 14, 11, 28, 7, 15, 11, 14, 9, 20, 28, 22, 6, 23, 26, 21, 21, 4, 24, 13, 15, 27, 26, 11, 29, 13, 21, 8, 9, 33, 19, 33, 17, 12, 27, 4, 11, 11, 28, 16, 5, 11, 10, 15, 27, 23, 6, 18, 10, 25, 16, 30, 20, 38, 6, 16, 6, 13, 19, 17, 19, 6, 18, 19, 12, 33, 15, 7, 37, 31, 8, 15, 17, 9, 11, 38, 27, 4, 35, 26, 10, 21, 32, 14, 4, 33, 39, 35, 16, 10, 34, 8, 22, 25, 33, 17, 15, 23, 20, 31, 14, 30, 19, 28, 29, 8, 7, 22, 32, 31, 26, 21, 6, 1, 16, 3, 11, 9, 29, 6, 21, 23, 23, 21, 11, 6, 22, 11, 27, 19, 12, 9, 3, 25, 25, 39, 10, 19, 5, 30, 4, 36, 17, 12, 21, 33, 40, 24, 22, 31, 17, 29, 18, 33, 5, 25, 32, 35, 10, 17, 14, 9, 33, 18, 6, 14, 10, 24, 14, 31, 34, 1, 8, 26, 20, 13, 14, 19, 26, 16, 22, 33, 25, 9, 26, 6, 9, 3, 28, 16, 15, 17, 26, 21, 7, 1, 17, 38, 17, 24, 8, 31, 13, 8, 14, 11, 27, 11, 23, 7, 7, 13, 18, 19, 14, 22, 27, 43, 22, 34, 27, 23, 18, 18, 20, 27, 33, 18, 23, 26, 19, 24, 11, 14, 23, 13, 31, 35, 7, 27, 18, 32, 35, 23, 13, 34, 30, 13, 43, 14, 12, 28, 30, 24, 5, 10, 8, 21, 31, 29, 14, 15, 24, 5, 42, 16, 32, 22, 18, 17, 13, 24, 9, 12, 10, 9, 36, 8, 27, 23, 19, 33, 17, 6, 11, 17, 3, 26, 7, 23, 13, 16, 10, 21, 14, 21, 23, 30, 11, 34, 17, 27, 41, 14, 16, 36, 17, 37, 25, 22, 5, 3, 2, 16, 29, 13, 21, 22, 21, 7, 18, 10, 23, 6, 17, 25, 15, 24, 34, 23, 10, 14, 10, 33, 5, 25, 40, 11, 24, 14, 33, 30, 23, 13, 12, 21, 13, 24, 17, 8, 40, 11, 35, 11, 15, 24, 29, 13, 28, 8, 27, 21, 6, 24, 28, 15, 32, 37, 37, 10, 4, 18, 27, 20, 16, 25, 7, 14, 27, 28, 19, 21, 15, 10, 2, 9, 37, 22, 10, 8, 36, 37, 13, 21, 16, 33, 21, 9, 30, 29, 24, 23, 16, 16, 17, 24, 9, 8, 7, 9, 31, 12, 12, 26, 12, 38, 36, 13, 14, 7, 24, 10, 18, 20, 7, 26, 11, 28, 22, 7, 12, 19, 39, 25, 24, 20, 19, 17, 23, 30, 23, 17, 26, 11, 13, 24, 8, 38, 6, 7, 33, 6, 25, 2, 36, 1, 7, 17, 21, 21, 18, 17, 15, 14, 24, 16, 8, 15, 5, 20, 22, 17, 15, 10, 24, 25, 13, 19, 19, 28, 26, 22, 13, 12, 27, 38, 38, 18, 18, 3, 23, 16, 27, 11, 27, 26, 14, 21, 11, 23, 22, 30, 21, 39, 10, 15, 8, 16, 29, 27, 27, 29, 11, 18, 34, 12, 28, 6, 11, 8, 24, 16, 22, 6, 13, 22, 9, 16, 19, 4, 24, 26, 21, 21, 40, 28, 17, 21, 34, 38, 25, 20, 30, 16, 17, 20, 4, 10, 19, 16, 28, 10, 22, 19, 18, 21, 30, 24, 28, 28, 21, 28, 10, 43, 27, 12, 34, 33, 21, 33, 22, 31, 37, 8, 20, 20, 19, 13, 30, 17, 24, 18, 20, 23, 14, 19, 9, 8, 8, 9, 24, 26, 9, 18, 25, 14, 41, 9, 20, 35, 21, 20, 36, 7, 11, 24, 21, 23, 31, 29, 35, 17, 31, 23, 22, 8, 12, 29, 18, 17, 12, 29, 18, 4, 11, 33, 13, 35, 6, 12, 4, 4, 12, 35, 15, 14, 3, 20, 27, 32, 26, 25, 11, 38, 13, 10, 24, 12, 24, 14, 18, 22, 26, 17, 8, 37, 33, 44, 7, 23, 30, 21, 12, 20, 16, 21, 16, 35, 37, 27, 17, 25, 15, 13, 12, 34, 4, 5, 11, 32, 21, 11, 30, 34, 38, 49, 11, 29, 27, 6, 25, 23, 40, 19, 23, 26, 8, 9, 17, 12, 26, 4, 19, 39, 26, 22, 28, 18, 16, 21, 17, 33, 24, 23, 25, 27, 40, 11, 20, 11, 13, 12, 28, 35, 40, 15, 10, 27, 44, 8, 14, 16, 21, 15, 4, 27, 15, 17, 23, 8, 18, 8, 24, 11, 42, 20, 34, 21, 25, 25, 6, 7, 15, 23, 24, 34, 20, 19, 31, 9, 31, 7, 26, 14, 14, 15, 13, 30, 23, 27, 14, 7, 20, 29, 25, 8, 23, 20, 21, 5, 24, 16, 18, 27, 5, 8, 13, 27, 4, 14, 13, 6, 13, 28, 16, 9, 42, 13, 37, 19, 26, 4, 18, 34, 24, 30, 36, 26, 25, 29, 26, 19, 16, 13, 30, 2, 6, 7, 31, 8, 15, 21, 25, 6, 9, 11, 5, 5, 8, 19, 14, 18, 33, 33, 32, 38, 27, 22, 8, 29, 5, 29, 5, 22, 30, 7, 24, 24, 21, 5, 16, 18, 9, 14, 18, 37, 27, 22, 9, 24, 36, 30, 16, 7, 18, 12, 22, 23, 29, 10, 6, 15, 13, 27, 2, 15, 22, 14, 16, 3, 36, 29, 2, 19, 10, 33, 24, 22, 14, 24, 26, 3, 21, 36, 16, 31, 8, 15, 27, 35, 7, 28, 25, 26, 6, 9, 9, 7, 35, 14, 8, 24, 18, 23, 22, 4, 32, 11, 17, 5, 17, 20, 32, 3, 6, 29, 19, 33, 27, 15, 18, 1, 12, 29, 38, 43, 17, 29, 16, 29, 6, 14, 24, 26, 32, 38, 18, 9, 34, 26, 18, 30, 21, 22, 16, 19, 17, 8, 29, 17, 30, 13, 6, 4, 13, 17, 29, 16, 4, 26, 12, 15, 19, 16, 33, 15, 14, 33, 27, 25, 15, 37, 18, 21, 43, 31, 18, 15, 32, 16, 32, 18, 15, 35, 27, 37, 36, 20, 22, 36, 4, 4, 7, 28, 3, 36, 39, 28, 15, 29, 24, 8, 30, 24, 28, 24, 33, 18, 24, 25, 18, 17, 4, 16, 5, 8, 25, 18, 27, 21, 5, 16, 23, 35, 13, 30, 19, 33, 19, 34, 22, 25, 28, 13, 16, 20, 15, 36, 39, 19, 26, 46, 7, 21, 5, 8, 17, 31, 23, 5, 39, 21, 22, 10, 22, 16, 23, 34, 13, 10, 9, 32, 27, 20, 11, 24, 42, 6, 23, 25, 18, 22, 7, 30, 22, 27, 22, 22, 15, 31, 10, 24, 29, 42, 27, 11, 9, 14, 23, 6, 10, 15, 14, 26, 27, 24, 20, 12, 25, 12, 29, 6, 23, 22, 27, 17, 32, 35, 39, 21, 15, 6, 19, 4, 28, 28, 32, 28, 13, 7, 26, 8, 19, 23, 33, 17, 10, 17, 41, 12, 14, 11, 14, 24, 5, 22, 18, 30, 17, 44, 23, 34, 24, 32, 45, 27, 7, 4, 23, 15, 41, 32, 30, 23, 16, 34, 7, 14, 30, 26, 8, 6, 35, 17, 5, 21, 13, 8, 20, 30, 12, 23, 8, 15, 27, 37, 14, 33, 41, 20, 7, 8, 27, 31, 31, 7, 20, 16, 9, 25, 4, 19, 3, 30, 13, 17, 4, 14, 34, 34, 32, 9, 2, 4, 27, 24, 15, 11, 34, 10, 42, 13, 8, 3, 20, 20, 28, 9, 11, 11, 25, 3, 26, 25, 11, 31, 21, 21, 30, 12, 25, 7, 17, 15, 7, 22, 26, 17, 27, 21, 19, 16, 7, 22, 14, 12, 27, 22, 22, 20, 8, 13, 9, 4, 16, 29, 18, 10, 34, 18, 20, 11, 26, 18, 9, 16, 16, 19, 15, 22, 8, 23, 15, 36, 12, 9, 5, 15, 26, 21, 14, 42, 32, 22, 25, 16, 8, 27, 16, 35, 4, 28, 29, 39, 35, 4, 19, 20, 10, 17, 27, 22, 34, 24, 34, 36, 32, 19, 5, 24, 48, 11, 30, 11, 7, 24, 26, 11, 6, 32, 14, 6, 31, 22, 28, 25, 24, 9, 15, 24, 9, 20, 25, 27, 27, 25, 8, 36, 15, 27, 42, 14, 11, 10, 6, 19, 21, 14, 21, 14, 21, 30, 22, 28, 4, 16, 29, 7, 35, 11, 25, 25, 7, 33, 5, 16, 18, 32, 3, 3, 17, 24, 9, 5, 23, 4, 7, 43, 7, 27, 3, 24, 21, 12, 35, 14, 11, 30, 13, 30, 21, 42, 9, 23, 39, 15, 11, 27, 30, 24, 16, 25, 20, 19, 6, 18, 24, 25, 9, 21, 19, 28, 30, 9, 17, 21, 17, 39, 30, 36, 12, 6, 17, 12, 10, 17, 23, 44, 11, 2, 8, 3, 6, 27, 14, 6, 32, 24, 23, 7, 35, 19, 13, 18, 20, 9, 4, 13, 29, 10, 5, 8, 10, 19, 9, 37, 20, 6, 5, 8, 20, 10, 35, 11, 26, 22, 8, 33, 19, 38, 10, 16, 10, 4, 9, 13, 38, 32, 28, 26, 30, 16, 9, 14, 20, 18, 17, 14, 4, 41, 13, 14, 11, 25, 18, 10, 31, 12, 23, 20, 12, 18, 9, 8, 8, 23, 8, 20, 39, 27, 17, 7, 15, 32, 25, 10, 19, 6, 29, 6, 6, 21, 10, 22, 23, 7, 34, 17, 18, 22, 29, 26, 23, 8, 29, 22, 23, 19, 20, 27, 40, 21, 20, 28, 27, 19, 26, 14, 22, 33, 23, 15, 23, 13, 8, 18, 17, 10, 18, 23, 19, 17, 20, 21, 22, 10, 5, 24, 41, 34, 26, 11, 26, 9, 20, 20, 8, 25, 16, 32, 25, 37, 23, 4, 7, 14, 8, 14, 33, 6, 16, 11, 38, 23, 4, 5, 7, 9, 6, 23, 14, 21, 4, 19, 39, 12, 32, 15, 9, 41, 23, 26, 28, 38, 33, 28, 28, 26, 15, 10, 23, 9, 7, 16, 24, 34, 18, 10, 23, 44, 23, 32, 26, 39, 17, 24, 24, 19, 25, 25, 15, 22, 17, 26, 22, 10, 8, 21, 18, 14, 25, 12, 30, 6, 15, 6, 20, 6, 21, 9, 7, 29, 30, 30, 43, 24, 38, 34, 20, 29, 35, 36, 33, 22, 30, 31, 36, 38, 41, 35, 19, 15, 17, 34, 23, 20, 15, 21, 41, 45, 15, 27, 22, 24, 17, 20, 9, 17, 19, 22, 22, 25, 28, 18, 21, 10, 21, 8, 8, 28, 34, 29, 12, 17, 15, 15, 7, 27, 5, 20, 30, 31, 17, 42, 20, 28, 14, 32, 31, 39, 28, 4, 34, 22, 25, 3, 20, 12, 7, 21, 8, 23, 28, 17, 25, 36, 22, 28, 22, 10, 27, 20, 30, 18, 31, 6, 36, 8, 18, 17, 7, 25, 21, 14, 15, 32, 26, 19, 34, 15, 5, 11, 19, 11, 4, 8, 38, 10, 24, 20, 17, 2, 12, 16, 18, 4, 7, 24, 11, 13, 22, 16, 24, 23, 21, 36, 37, 35, 29, 24, 34, 18, 18, 17, 8, 10, 37, 27, 9, 36, 11, 9, 32, 20, 19, 21, 5, 28, 34, 22, 7, 28, 24, 41, 26, 4, 25, 31, 22, 18, 18, 14, 34, 18, 29, 11, 23, 21, 16, 16, 25, 15, 14, 16, 18, 19, 7, 26, 5, 25, 18, 7, 24, 8, 24, 28, 9, 8, 8, 16, 21, 14, 19, 19, 22, 3, 11, 6, 3, 43, 6, 45, 27, 3, 12, 2, 39, 33, 15, 23, 17, 6, 39, 40, 21, 29, 6, 12, 8, 22, 18, 15, 27, 25, 11, 21, 15, 16, 31, 25, 12, 16, 18, 14, 24, 12, 11, 43, 13, 43, 27, 31, 5, 26, 11, 15, 34, 25, 25, 29, 28, 15, 36, 28, 17, 13, 30, 19, 6, 26, 35, 16, 17, 25, 17, 35, 17, 5, 19, 10, 11, 16, 36, 27, 24, 14, 22, 15, 10, 11, 41, 21, 15, 32, 18, 19, 24, 25, 31, 24, 13, 10, 39, 30, 40, 33, 28, 6, 9, 5, 17, 50, 42, 25, 15, 12, 27, 22, 15, 8, 5, 25, 29, 17, 30, 45, 6, 20, 28, 44, 12, 28, 27, 5, 40, 24, 18, 34, 35, 39, 22, 18, 12, 14, 33, 37, 30, 28, 22, 5, 22, 43, 13, 31, 33, 33, 28, 34, 40, 34, 27, 23, 39, 37, 27, 21, 10, 19, 25, 33, 33, 29, 39, 21, 21, 15, 24, 19, 18, 5, 36, 8, 11, 24, 26, 27, 17, 5, 7, 41, 14, 29, 14, 22, 39, 24, 34, 21, 23, 18, 22, 41, 45, 25, 25, 16, 22, 26, 26, 35, 24, 28, 9, 36, 23, 30, 14, 2, 9, 13, 27, 16, 25, 8, 30, 15, 16, 12, 26, 8, 16, 14, 20, 20, 19, 29, 36, 6, 45, 23, 15, 16, 26, 20, 8, 27, 12, 21, 39, 30, 3, 32, 29, 12, 15, 41, 21, 9, 16, 16, 12, 19, 32, 1, 28, 18, 39, 20, 38, 18, 20, 24, 36, 33, 24, 19, 15, 27, 12, 33, 20, 6, 6, 20, 12, 38, 20, 19, 25, 21, 23, 19, 29, 8, 6, 15, 21, 10, 20, 22, 23, 17, 25, 23, 44, 16, 16, 32, 41, 19, 19, 30, 33, 18, 8, 39, 27, 14, 32, 18, 23, 21, 22, 24, 11, 13, 38, 16, 11, 42, 25, 8, 25, 30, 15, 29, 19, 6, 43, 37, 19, 26, 8, 18, 10, 18, 34, 21, 19, 10, 12, 20, 39, 38, 31, 21, 10, 6, 20, 12, 23, 16, 2, 28, 19, 25, 23, 27, 30, 17, 22, 33, 31, 31, 18, 30, 22, 14, 10, 17, 21, 22, 36, 26, 22, 21, 10, 31, 15, 28, 23, 36, 9, 26, 21, 10, 21, 7, 12, 17, 18, 25, 15, 32, 20, 37, 16, 10, 32, 22, 28, 25, 34, 9, 29, 35, 24, 5, 11, 20, 22, 27, 30, 4, 29, 42, 39, 28, 32, 28, 24, 21, 7, 18, 9, 31, 25, 11, 35, 45, 17, 16, 10, 15, 13, 14, 14, 22, 8, 28, 10, 33, 40, 8, 12, 11, 11, 10, 19, 18, 9, 26, 38, 8, 23, 13, 12, 16, 16, 12, 17, 41, 31, 15, 42, 14, 22, 44, 6, 19, 20, 28, 41, 16, 11, 11, 24, 8, 25, 9, 21, 14, 3, 32, 16, 14, 18, 45, 34, 30, 30, 26, 13, 38, 16, 15, 33, 23, 26, 33, 30, 31, 5, 19, 25, 38, 33, 25, 6, 22, 4, 24, 27, 19, 14, 28, 5, 14, 7, 17, 28, 22, 11, 11, 13, 11, 14, 10, 29, 20, 9, 37, 18, 35, 4, 33, 33, 20, 12, 10, 20, 10, 31, 21, 8, 12, 30, 35, 22, 10, 7, 26, 22, 23, 9, 21, 14, 28, 16, 25, 22, 18, 33, 20, 16, 16, 22, 9, 5, 31, 8, 16, 15, 21, 30, 29, 18, 16, 23, 11, 21, 28, 7, 25, 22, 9, 24, 6, 11, 28, 12, 9, 17, 14, 44, 18, 47, 37, 36, 44, 23, 14, 27, 14, 17, 25, 34, 26, 15, 22, 28, 7, 23, 29, 36, 28, 13, 21, 9, 21, 25, 26, 41, 33, 25, 11, 31, 19, 20, 33, 27, 7, 10, 18, 17, 7, 41, 5, 11, 4, 20, 14, 2, 14, 22, 23, 9, 33, 39, 5, 22, 21, 39, 13, 41, 28, 11, 26, 7, 24, 17, 6, 24, 20, 20, 37, 12, 36, 33, 18, 10, 9, 5, 18, 20, 8, 24, 19, 23, 31, 21, 11, 6, 27, 36, 9, 11, 17, 25, 26, 11, 36, 12, 14, 7, 10, 23, 28, 8, 26, 17, 10, 10, 16, 18, 15, 37, 19, 12, 26, 38, 11, 18, 17, 21, 41, 21, 27, 16, 18, 10, 32, 16, 17, 27, 34, 27, 16, 8, 38, 28, 25, 12, 6, 18, 35, 31, 5, 33, 26, 20, 10, 21, 27, 32, 17, 42, 8, 18, 8, 23, 25, 20, 30, 39, 8, 35, 21, 36, 23, 11, 9, 24, 33, 13, 17, 9, 23, 11, 22, 19, 27, 16, 34, 23, 20, 22, 24, 38, 34, 40, 40, 23, 2, 20, 29, 28, 20, 11, 9, 30, 4, 19, 6, 44, 34, 30, 8, 10, 11, 18, 13, 5, 21, 14, 36, 14, 32, 34, 37, 15, 13, 31, 24, 4, 24, 29, 16, 32, 19, 47, 23, 4, 15, 17, 23, 25, 28, 21, 18, 15, 43, 16, 6, 42, 26, 18, 15, 22, 21, 21, 21, 28, 18, 13, 30, 30, 20, 15, 19, 22, 6, 4, 11, 7, 20, 12, 4, 11, 24, 29, 21, 5, 17, 16, 19, 23, 13, 11, 32, 29, 6, 19, 2, 9, 30, 2, 5, 12, 9, 23, 16, 7, 18, 26, 8, 15, 4, 19, 7, 15, 18, 18, 18, 23, 35, 37, 31, 9, 23, 23, 20, 32, 28, 15, 22, 5, 9, 22, 12, 16, 26, 8, 13, 21, 12, 7, 26, 17, 32, 28, 24, 20, 16, 16, 22, 40, 26, 17, 45, 33, 14, 19, 19, 24, 45, 15, 17, 42, 25, 25, 39, 28, 30, 22, 28, 18, 12, 19, 27, 25, 16, 31, 27, 33, 43, 10, 7, 44, 13, 13, 10, 6, 15, 20, 23, 7, 28, 17, 6, 21, 34, 6, 27, 15, 24, 28, 20, 38, 18, 38, 38, 20, 25, 24, 34, 22, 23, 22, 24, 19, 22, 18, 29, 38, 23, 16, 14, 13, 19, 29, 6, 34, 14, 20, 24, 20, 15, 34, 16, 17, 8, 11, 19, 30, 23, 26, 33, 29, 25, 21, 8, 43, 14, 18, 6, 8, 14, 22, 12, 10, 37, 30, 2, 7, 24, 8, 15, 11, 28, 18, 21, 27, 17, 16, 32, 5, 5, 24, 45, 32, 20, 34, 32, 35, 33, 18, 16, 22, 6, 22, 38, 9, 6, 2, 24, 14, 14, 32, 10, 14, 22, 23, 22, 35, 36, 17, 15, 7, 29, 29, 33, 9, 32, 7, 15, 21, 13, 34, 33, 10, 6, 18, 46, 29, 11, 6, 28, 26, 15, 33, 12, 12, 22, 15, 19, 33, 33, 20, 32, 29, 18, 34, 31, 24, 29, 7, 12, 14, 23, 21, 17, 10, 31, 25, 20, 27, 24, 9, 18, 13, 19, 19, 27, 31, 37, 30, 20, 13, 17, 20, 22, 24, 33, 33, 9, 15, 38, 18, 22, 23, 6, 31, 13, 36, 17, 20, 16, 25, 32, 25, 14, 25, 26, 20, 27, 40, 10, 34, 28, 25, 37, 8, 7, 4, 12, 12, 17, 18, 3, 18, 14, 32, 9, 2, 29, 11, 3, 4, 40, 8, 17, 24, 30, 35, 9, 17, 31, 5, 19, 8, 20, 15, 36, 28, 11, 16, 27, 23, 8, 12, 23, 22, 10, 21, 14, 7, 24, 23, 43, 28, 12, 35, 13, 16, 35, 13, 24, 14, 21, 28, 23, 7, 38, 25, 29, 19, 10, 22, 28, 26, 33, 27, 4, 12, 33, 25, 19, 4, 34, 18, 20, 8, 13, 8, 22, 11, 13, 10, 18, 30, 15, 5, 8, 11, 27, 14, 25, 10, 15, 19, 6, 14, 23, 26, 14, 25, 27, 16, 8, 29, 20, 17, 9, 6, 16, 18, 11, 13, 25, 40, 14, 26, 25, 21, 5, 22, 23, 28, 42, 19, 25, 5, 41, 25, 17, 15, 25, 15, 26, 27, 13, 17, 14, 18, 4, 22, 23, 26, 9, 32, 27, 36, 20, 23, 11, 17, 39, 20, 28, 12, 39, 16, 36, 30, 5, 19, 20, 27, 22, 30, 13, 23, 7, 30, 14, 18, 29, 26, 12, 22, 30, 15, 15, 42, 14, 16, 34, 31, 35, 31, 35, 22, 37, 40, 10, 21, 34, 22, 31, 20, 45, 15, 25, 12, 35, 21, 25, 25, 35, 5, 26, 2, 16, 31, 33, 15, 27, 22, 14, 5, 23, 7, 3, 28, 31, 18, 7, 19, 26, 36, 20, 29, 27, 10, 16, 21, 32, 6, 21, 25, 27, 29, 14, 15, 14, 22, 24, 35, 18, 38, 38, 30, 33, 33, 20, 21, 16, 24, 17, 20, 18, 34, 24, 15, 42, 25, 18, 32, 10, 15, 13, 28, 13, 13, 15, 22, 25, 11, 28, 15, 22, 32, 19, 32, 27, 23, 37, 12, 14, 14, 21, 24, 31, 15, 21, 33, 21, 12, 26, 27, 16, 3, 38, 27, 10, 24, 7, 28, 39, 6, 32, 17, 17, 18, 16, 32, 11, 10, 1, 5, 14, 4, 30, 10, 12, 18, 10, 26, 11, 33, 12, 11, 11, 5, 7, 4, 37, 26, 28, 39, 12, 19, 19, 15, 1, 25, 24, 22, 33, 26, 7, 11, 33, 28, 9, 33, 16, 21, 30, 28, 28, 28, 31, 26, 22, 36, 22, 11, 24, 38, 18, 4, 4, 44, 27, 18, 5, 17, 16, 22, 6, 13, 34, 16, 22, 23, 37, 29, 15, 29, 26, 18, 13, 19, 9, 33, 41, 27, 17, 35, 9, 8, 9, 21, 12, 25, 22, 39, 35, 29, 13, 23, 45, 36, 16, 14, 22, 13, 15, 6, 6, 12, 30, 36, 19, 29, 6, 28, 15, 22, 25, 2, 20, 25, 30, 33, 20, 38, 30, 31, 24, 39, 19, 27, 18, 17, 24, 27, 18, 29, 24, 31, 10, 18, 13, 25, 11, 18, 18, 7, 22, 16, 28, 25, 18, 5, 9, 25, 32, 18, 17, 9, 3, 41, 33, 14, 30, 12, 9, 33, 7, 22, 20, 30, 16, 28, 27, 20, 26, 35, 7, 29, 18, 22, 39, 35, 34, 35, 38, 19, 19, 11, 28, 11, 22, 8, 24, 14, 14, 16, 27, 4, 4, 20, 15, 13, 22, 13, 23, 4, 31, 29, 23, 23, 28, 25, 26, 12, 22, 32, 4, 23, 12, 16, 29, 22, 22, 21, 17, 21, 8, 8, 30, 11, 39, 22, 45, 21, 20, 21, 37, 21, 29, 17, 28, 15, 20, 20, 41, 7, 32, 17, 25, 25, 7, 36, 8, 5, 14, 21, 26, 24, 14, 27, 15, 32, 17, 17, 34, 31, 30, 33, 31, 30, 31, 22, 6, 21, 16, 14, 13, 20, 8, 19, 8, 13, 25, 23, 3, 34, 27, 18, 34, 35, 12, 15, 30, 28, 8, 25, 8, 14, 24, 20, 18, 43, 28, 29, 10, 14, 31, 18, 14, 27, 26, 10, 38, 13, 19, 32, 7, 33, 7, 21, 12, 25, 16, 20, 18, 20, 23, 24, 20, 5, 47, 22, 29, 12, 43, 25, 19, 38, 26, 14, 36, 10, 11, 20, 22, 22, 20, 9, 12, 15, 23, 20, 9, 16, 8, 7, 19, 8, 17, 20, 20, 2, 11, 4, 27, 22, 42, 16, 37, 7, 26, 24, 15, 13, 25, 25, 38, 5, 10, 9, 16, 15, 31, 20, 22, 18, 33, 19, 27, 25, 28, 13, 21, 17, 14, 29, 3, 9, 12, 25, 19, 16, 18, 10, 26, 18, 10, 16, 38, 25, 35, 15, 26, 21, 15, 17, 16, 16, 25, 17, 11, 41, 38, 16, 34, 7, 10, 24, 2, 25, 32, 11, 20, 12, 20, 34, 23, 8, 27, 42, 26, 12, 28, 11, 30, 24, 25, 23, 14, 18, 21, 18, 19, 43, 5, 21, 24, 36, 26, 36, 10, 35, 25, 37, 14, 39, 24, 3, 41, 36, 14, 38, 22, 20, 28, 8, 10, 42, 36, 22, 16, 20, 18, 18, 14, 34, 19, 9, 26, 23, 25, 27, 30, 4, 17, 37, 17, 10, 8, 17, 29, 8, 11, 23, 7, 22, 25, 15, 25, 36, 21, 19, 19, 18, 25, 24, 9, 29, 13, 19, 19, 24, 16, 11, 37, 28, 34, 24, 14, 18, 27, 23, 22, 12, 30, 28, 24, 12, 44, 41, 39, 28, 28, 25, 8, 36, 34, 31, 44, 13, 22, 16, 8, 28, 12, 20, 13, 31, 11, 11, 11, 26, 9, 8, 13, 5, 15, 34, 32, 5, 18, 8, 6, 5, 32, 28, 15, 20, 2, 9, 39, 27, 20, 9, 27, 27, 22, 21, 24, 13, 23, 24, 35, 15, 22, 23, 8, 17, 37, 10, 18, 25, 15, 8, 15, 12, 35, 18, 37, 16, 24, 24, 27, 32, 27, 32, 14, 11, 29, 15, 23, 36, 20, 21, 17, 33, 9, 20, 17, 15, 37, 8, 16, 14, 35, 8, 4, 26, 24, 29, 16, 18, 35, 33, 8, 15, 31, 17, 26, 22, 21, 16, 7, 33, 29, 26, 21, 35, 9, 19, 16, 19, 11, 36, 30, 33, 24, 42, 36, 26, 9, 23, 28, 18, 30, 17, 31, 23, 18, 21, 36, 27, 31, 10, 18, 32, 22, 27, 37, 23, 36, 28, 24, 13, 13, 11, 6, 7, 30, 5, 8, 5, 20, 42, 4, 22, 25, 27, 13, 13, 5, 17, 33, 27, 41, 32, 18, 26, 21, 27, 4, 20, 26, 26, 7, 10, 22, 28, 30, 22, 14, 16, 22, 26, 9, 20, 32, 22, 32, 13, 24, 18, 30, 27, 14, 27, 6, 40, 25, 18, 15, 32, 36, 9, 14, 24, 29, 3, 28, 33, 29, 29, 30, 15, 38, 25, 15, 24, 17, 18, 18, 21, 21, 28, 37, 13, 23, 20, 40, 11, 38, 28, 16, 12, 29, 24, 29, 17, 15, 23, 33, 31, 15, 19, 23, 24, 24, 39, 37, 33, 17, 44, 13, 7, 31, 18, 22, 14, 18, 21, 21, 21, 30, 25, 22, 27, 4, 23, 13, 21, 22, 26, 24, 10, 18, 15, 11, 25, 25, 38, 30, 39, 12, 18, 16, 29, 31, 21, 24, 11, 39, 38, 26, 10, 24, 17, 29, 28, 7, 20, 12, 18, 27, 23, 25, 27, 10, 14, 41, 14, 39, 15, 17, 35, 37, 22, 20, 36, 6, 14, 35, 27, 16, 26, 26, 5, 31, 7, 31, 34, 22, 28, 24, 37, 33, 20, 27, 39, 13, 14, 21, 30, 44, 9, 24, 33, 21, 29, 38, 21, 36, 19, 22, 18, 22, 29, 17, 16, 12, 37, 13, 36, 16, 8, 39, 30, 15, 15, 27, 34, 12, 29, 23, 15, 26, 33, 4, 30, 23, 38, 8, 20, 29, 14, 22, 31, 20, 5, 18, 12, 29, 17, 29, 24, 28, 17, 5, 15, 33, 16, 19, 19, 30, 28, 31, 37, 18, 39, 18, 21, 20, 11, 7, 18, 12, 26, 25, 25, 30, 29, 19, 18, 28, 37, 4, 20, 14, 4, 18, 26, 37, 9, 28, 25, 5, 19, 22, 32, 29, 30, 22, 46, 35, 34, 16, 30, 18, 33, 29, 32, 27, 23, 34, 4, 36, 31, 22, 24, 16, 18, 22, 16, 6, 11, 26, 24, 17, 9, 8, 12, 8, 16, 29, 21, 21, 9, 20, 14, 31, 34, 17, 28, 22, 8, 17, 38, 16, 12, 24, 17, 12, 30, 14, 21, 22, 24, 18, 30, 14, 14, 13, 26, 20, 16, 30, 21, 24, 13, 25, 18, 8, 18, 24, 17, 23, 7, 23, 29, 17, 29, 13, 26, 11, 29, 21, 21, 9, 25, 10, 21, 18, 33, 16, 41, 12, 25, 14, 34, 26, 21, 12, 31, 34, 35, 15, 31, 25, 26, 23, 25, 23, 33, 14, 23, 21, 31, 21, 17, 26, 27, 44, 6, 27, 28, 26, 13, 14, 28, 3, 27, 39, 22, 27, 26, 19, 21, 18, 35, 19, 27, 21, 21, 19, 21, 21, 26, 27, 21, 17, 15, 16, 5, 10, 41, 28, 13, 17, 31, 33, 16, 27, 31, 40, 3, 32, 10, 39, 30, 13, 20, 28, 25, 28, 29, 11, 20, 30, 30, 22, 34, 37, 18, 33, 19, 16, 34, 21, 10, 16, 26, 29, 21, 31, 24, 26, 13, 32, 33, 23, 2, 20, 19, 22, 22, 12, 22, 28, 26, 9, 23, 39, 26, 41, 9, 30, 28, 30, 18, 26, 24, 24, 19, 14, 42, 21, 39, 44, 16, 30, 20, 5, 11, 12, 14, 14, 30, 33, 14, 16, 7, 27, 15, 8, 21, 15, 23, 23, 10, 10, 34, 23, 43, 30, 3, 20, 27, 26, 14, 33, 15, 27, 22, 20, 12, 16, 14, 25, 22, 17, 9, 34, 13, 20, 11, 46, 16, 20, 18, 21, 29, 38, 32, 22, 13, 23, 25, 37, 21, 29, 22, 18, 8, 34, 22, 33, 34, 4, 28, 25, 24, 23, 11, 13, 13, 11, 20, 46, 40, 14, 9, 21, 46, 27, 15, 31, 27, 38, 28, 31, 17, 20, 37, 27, 30, 21, 33, 9, 19, 31, 19, 17, 11, 13, 32, 14, 24, 9, 24, 14, 17, 21, 33, 15, 25, 24, 16, 12, 8, 19, 32, 30, 26, 41, 23, 21, 41, 27, 31, 42, 46, 14, 12, 19, 24, 29, 15, 23, 27, 13, 33, 13, 13, 29, 21, 24, 21, 39, 21, 35, 29, 33, 37, 31, 25, 13, 28, 36, 24, 30, 32, 27, 23, 26, 29, 27, 17, 14, 22, 27, 36, 9, 10, 9, 22, 34, 11, 20, 30, 25, 18, 43, 31, 20, 28, 15, 22, 18, 22, 9, 27, 28, 4, 20, 21, 26, 43, 26, 33, 25, 10, 26, 21, 17, 36, 45, 33, 15, 31, 29, 18, 27, 18, 16, 32, 19, 2, 18, 16, 28, 9, 12, 18, 27, 13, 23, 31, 38, 27, 31, 31, 24, 14, 3, 21, 32, 22, 18, 34, 35, 29, 18, 14, 13, 18, 22, 38, 31, 33, 31, 25, 15, 25, 29, 30, 15, 22, 16, 21, 13, 34, 16, 13, 31, 24, 10, 8, 8, 14, 22, 23, 23, 19, 4, 15, 34, 32, 29, 11, 14, 13, 15, 37, 40, 15, 27, 30, 40, 33, 7, 24, 20, 20, 15, 24, 27, 30, 36, 19, 25, 20, 26, 18, 18, 40, 32, 39, 17, 17, 10, 29, 28, 34, 29, 29, 8, 17, 12, 43, 8, 23, 28, 16, 13, 9, 26, 10, 33, 43, 22, 36, 18, 27, 33, 20, 34, 16, 44, 36, 29, 31, 14, 11, 23, 42, 19, 14, 21, 27, 37, 13, 11, 26, 34, 30, 7, 29, 27, 19, 34, 29, 38, 5, 25, 43, 14, 8, 13, 41, 34, 36, 18, 31, 36, 3, 21, 11, 29, 37, 15, 17, 41, 24, 30, 19, 28, 13, 17, 29, 21, 17, 23, 30, 20, 18, 26, 19, 20, 22, 29, 19, 25, 14, 45, 41, 29, 34, 16, 33, 15, 30, 39, 26, 39, 22, 26, 8, 26, 38, 35, 39, 23, 38, 23, 24, 26, 41, 22, 9, 45, 14, 21, 12, 14, 7, 25, 15, 5, 15, 23, 12, 33, 15, 15, 26, 23, 39, 7, 23, 37, 34, 28, 37, 38, 27, 20, 9, 18, 43, 9, 5, 27, 43, 23, 22, 25, 9, 15, 19, 23, 23, 27, 28, 44, 24, 9, 29, 28, 41, 28, 14, 28, 17, 17, 27, 20, 12, 28, 28, 18, 4, 18, 25, 12, 14, 25, 10, 37, 18, 16, 30, 24, 18, 15, 28, 11, 9, 29, 28, 30, 31, 31, 9, 13, 16, 35, 24, 25, 19, 14, 6, 30, 17, 6, 29, 39, 19, 21, 12, 27, 30, 35, 31, 3, 11, 31, 15, 14, 4, 23, 17, 16, 25, 20, 13, 21, 13, 17, 24, 38, 37, 23, 32, 36, 28, 19, 11, 28, 17, 35, 13, 19, 15, 32, 14, 12, 27, 30, 26, 25, 20, 6, 12, 6, 22, 24, 24, 21, 28, 28, 19, 23, 35, 39, 23, 21, 28, 27, 19, 12, 18, 16, 18, 5, 31, 18, 11, 39, 30, 21, 7, 9, 13, 9, 10, 19, 18, 27, 24, 17, 25, 24, 33, 17, 26, 20, 25, 23, 32, 25, 10, 23, 24, 41, 16, 42, 9, 27, 28, 17, 22, 3, 36, 21, 7, 21, 17, 21, 7, 10, 19, 32, 14, 9, 28, 12, 15, 34, 26, 33, 22, 27, 25, 34, 15, 27, 27, 20, 20, 37, 16, 21, 39, 18, 20, 30, 20, 26, 20, 31, 34, 24, 38, 40, 17, 28, 27, 31, 26, 18, 27, 11, 31, 31, 33, 30, 7, 25, 29, 33, 29, 36, 22, 12, 37, 14, 13, 19, 25, 38, 32, 23, 16, 16, 23, 22, 22, 29, 13, 26, 29, 38, 10, 16, 32, 18, 28, 32, 37, 24, 18, 12, 6, 22, 16, 27, 5, 44, 6, 27, 29, 33, 23, 17, 34, 16, 26, 16, 23, 29, 24, 13, 15, 9, 15, 15, 14, 23, 21, 22, 21, 26, 34, 25, 15, 17, 28, 24, 29, 8, 18, 39, 28, 31, 12, 18, 26, 19, 31, 46, 9, 26, 30, 17, 19, 18, 20, 19, 13, 13, 10, 29, 34, 26, 11, 26, 14, 41, 34, 23, 27, 19, 16, 22, 14, 10, 18, 25, 25, 15, 36, 14, 27, 19, 34, 39, 32, 13, 34, 10, 8, 33, 39, 33, 30, 29, 27, 23, 31, 20, 28, 22, 34, 10, 15, 6, 30, 38, 26, 34, 29, 12, 31, 26, 12, 35, 31, 5, 36, 26, 25, 25, 42, 17, 12, 15, 24, 7, 20, 26, 25, 27, 43, 26, 26, 44, 4, 39, 15, 16, 25, 19, 31, 7, 25, 19, 13, 21, 30, 27, 41, 33, 40, 34, 26, 27, 18, 3, 28, 23, 4, 15, 28, 15, 7, 34, 31, 16, 18, 36, 15, 29, 13, 21, 7, 23, 28, 37, 23, 27, 15, 32, 16, 45, 19, 19, 27, 25, 28, 32, 12, 17, 15, 7, 19, 24, 49, 32, 20, 15, 8, 34, 27, 25, 22, 44, 35, 33, 43, 41, 22, 40, 11, 25, 23, 10, 13, 12, 18, 11, 23, 15, 15, 25, 23, 28, 7, 30, 13, 18, 31, 11, 19, 31, 36, 14, 36, 37, 27, 14, 10, 12, 26, 41, 18, 21, 16, 26, 26, 18, 19, 32, 27, 20, 20, 19, 12, 28, 13, 13, 14, 9, 31, 31, 12, 34, 37, 25, 17, 19, 19, 7, 14, 22, 22, 11, 15, 27, 23, 26, 33, 21, 13, 8, 17, 15, 24, 29, 41, 3, 17, 35, 16, 18, 27, 32, 22, 26, 16, 23, 29, 26, 25, 26, 21, 28, 23, 27, 39, 12, 20, 22, 33, 14, 12, 22, 16, 45, 19, 10, 19, 16, 27, 39, 35, 20, 38, 28, 29, 7, 38, 36, 12, 29, 28, 23, 15, 28, 35, 39, 16, 24, 37, 27, 13, 16, 42, 19, 18, 33, 27, 38, 42, 26, 35, 4, 33, 27, 15, 20, 41, 26, 36, 36, 22, 37, 18, 13, 23, 29, 19, 21, 17, 39, 23, 22, 18, 19, 23, 39, 25, 24, 35, 13, 16, 15, 17, 26, 32, 18, 35, 28, 29, 10, 31, 26, 32, 20, 33, 41, 26, 18, 32, 30, 33, 16, 33, 17, 25, 15, 14, 37, 19, 27, 9, 5, 33, 27, 16, 30, 28, 7, 12, 16, 40, 33, 34, 41, 31, 15, 21, 13, 23, 12, 22, 20, 23, 23, 39, 26, 39, 10, 14, 9, 19, 23, 19, 32, 36, 27, 18, 44, 10, 33, 26, 19, 22, 15, 12, 14, 10, 30, 28, 16, 13, 29, 38, 41, 29, 25, 19, 10, 15, 10, 40, 28, 22, 45, 27, 7, 28, 28, 38, 10, 24, 16, 18, 10, 39, 15, 27, 31, 22, 20, 21, 21, 2, 21, 10, 21, 17, 14, 23, 9, 19, 6, 12, 16, 12, 17, 4, 27, 25, 23, 10, 11, 7, 30, 14, 14, 23, 17, 29, 16, 19, 12, 11, 5, 26, 2, 17, 20, 40, 40, 25, 37, 27, 23, 34, 7, 22, 12, 8, 10, 45, 10, 7, 35, 7, 20, 43, 18, 22, 19, 3, 31, 31, 21, 11, 18, 46, 25, 31, 6, 20, 7, 24, 22, 20, 20, 33, 17, 2, 5, 29, 23, 19, 25, 30, 34, 25, 14, 8, 18, 8, 9, 19, 30, 25, 10, 27, 15, 20, 30, 24, 13, 26, 22, 21, 19, 41, 11, 13, 21, 17, 20, 30, 28, 2, 23, 14, 31, 16, 29, 12, 16, 26, 17, 36, 7, 40, 13, 27, 13, 30, 10, 4, 25, 24, 21, 19, 2, 19, 6, 13, 46, 10, 24, 13, 27, 26, 25, 27, 28, 4, 12, 22, 5, 30, 20, 8, 26, 27, 6, 11, 16, 32, 17, 11, 10, 22, 24, 27, 11, 34, 17, 26, 38, 11, 7, 19, 16, 8, 32, 19, 15, 14, 12, 50, 42, 46, 18, 30, 15, 26, 14, 23, 5, 48, 24, 17, 15, 26, 19, 4, 24, 15, 37, 33, 25, 31, 22, 11, 18, 7, 11, 23, 19, 10, 20, 17, 18, 22, 8, 15, 42, 4, 24, 26, 18, 28, 7, 27, 27, 12, 29, 9, 20, 13, 14, 26, 8, 17, 14, 12, 1, 29, 22, 4, 35, 10, 25, 16, 34, 27, 21, 13, 35, 24, 11, 19, 29, 32, 33, 19, 20, 10, 14, 28, 18, 19, 20, 39, 25, 14, 27, 25, 26, 4, 23, 7, 23, 31, 12, 25, 16, 2, 37, 22, 28, 29, 31, 18, 45, 27, 31, 29, 19, 20, 14, 24, 27, 42, 3, 23, 9, 15, 9, 33, 2, 27, 32, 15, 14, 23, 16, 6, 24, 23, 22, 12, 25, 20, 32, 30, 12, 19, 32, 11, 46, 19, 17, 18, 13, 13, 17, 14, 21, 23, 9, 20, 25, 26, 23, 13, 27, 17, 16, 10, 27, 10, 26, 21, 10, 8, 22, 18, 35, 12, 40, 32, 29, 8, 5, 7, 23, 26, 33, 13, 14, 22, 22, 29, 13, 9, 9, 19, 17, 19, 30, 22, 32, 13, 12, 6, 9, 16, 6, 23, 18, 15, 23, 40, 43, 40, 15, 16, 27, 20, 21, 29, 27, 3, 13, 7, 6, 16, 15, 20, 6, 21, 14, 7, 10, 13, 42, 30, 25, 30, 34, 8, 11, 25, 10, 11, 18, 9, 11, 8, 20, 9, 15, 9, 8, 27, 5, 21, 13, 31, 25, 8, 7, 19, 34, 9, 2, 27, 21, 32, 23, 12, 24, 6, 25, 24, 14, 20, 32, 21, 14, 22, 9, 6, 22, 43, 37, 19, 13, 23, 14, 24, 29, 17, 43, 13, 27, 11, 6, 33, 31, 13, 30, 6, 17, 22, 12, 9, 15, 38, 20, 14, 19, 36, 40, 7, 8, 3, 7, 14, 2, 10, 10, 23, 17, 17, 11, 32, 10, 4, 28, 23, 32, 13, 19, 40, 34, 36, 9, 33, 44, 20, 36, 16, 38, 41, 22, 20, 28, 16, 9, 7, 12, 34, 6, 9, 19, 25, 3, 31, 29, 19, 23, 29, 18, 23, 16, 7, 10, 2, 28, 17, 16, 26, 12, 16, 21, 32, 26, 10, 15, 18, 28, 33, 19, 41, 43, 18, 19, 19, 7, 22, 25, 20, 6, 1, 22, 24, 18, 37, 11, 30, 25, 43, 13, 26, 23, 10, 8, 36, 26, 7, 13, 16, 12, 4, 34, 5, 6, 19, 26, 36, 12, 9, 24, 37, 28, 20, 32, 27, 25, 25, 26, 8, 29, 35, 32, 13, 39, 25, 8, 31, 12, 4, 19, 14, 28, 36, 7, 4, 20, 37, 10, 12, 39, 25, 7, 13, 7, 17, 4, 27, 12, 39, 20, 25, 45, 29, 5, 25, 3, 36, 38, 21, 30, 11, 23, 9, 8, 18, 23, 38, 2, 9, 20, 21, 25, 41, 12, 28, 13, 22, 21, 23, 18, 16, 30, 9, 32, 36, 15, 25, 28, 18, 24, 27, 8, 25, 25, 24, 19, 20, 25, 29, 13, 33, 27, 17, 7, 32, 35, 5, 34, 24, 19, 27, 21, 19, 6, 11, 24, 15, 14, 18, 3, 7, 24, 2, 14, 21, 38, 14, 32, 18, 15, 28, 33, 18, 22, 13, 17, 15, 32, 23, 21, 4, 10, 11, 19, 14, 16, 16, 3, 25, 18, 23, 22, 24, 31, 37, 18, 32, 18, 12, 32, 31, 12, 8, 4, 18, 31, 24, 10, 30, 20, 23, 3, 2, 2, 20, 20, 6, 6, 4, 12, 33, 15, 7, 37, 31, 8, 15, 17, 9, 11, 38, 27, 4, 35, 26, 10, 21, 32, 14, 19, 10, 25, 10, 13, 18, 12, 6, 21, 13, 19, 17, 5, 6, 1, 21, 25, 8, 8, 25, 10, 9, 18, 29, 6, 26, 8, 36, 19, 4, 24, 3, 42, 16, 32, 27, 30, 20, 33, 6, 21, 22, 14, 15, 37, 22, 23, 8, 24, 25, 14, 10, 14, 18, 25, 25, 2, 11, 22, 34, 24, 13, 37, 33, 6, 20, 19, 15, 33, 23, 19, 9, 11, 23, 17, 19, 36, 13, 2, 6, 16, 16, 19, 18, 16, 3, 11, 18, 14, 16, 15, 23, 39, 46, 26, 24, 11, 34, 26, 16, 10, 6]\n",
            "mean length of the view text: 21.262519649674378\n",
            "median length of the review text: 21.0\n"
          ]
        },
        {
          "output_type": "display_data",
          "data": {
            "image/png": "[encoded data removed]",
            "text/plain": [
              "<Figure size 432x288 with 1 Axes>"
            ]
          },
          "metadata": {
            "needs_background": "light"
          }
        }
      ]
    },
    {
      "cell_type": "code",
      "source": [
        "clean_audience_data = add_length_distribution(audience_data, 'Length Distribution for Audience Reviews')"
      ],
      "metadata": {
        "colab": {
          "base_uri": "https://localhost:8080/",
          "height": 380
        },
        "id": "67wudf4ibTvs",
        "outputId": "bf34c7c0-4e18-4c31-f85a-a833d68e015c"
      },
      "execution_count": 13,
      "outputs": [
        {
          "output_type": "stream",
          "name": "stdout",
          "text": [
            "[3, 15, 34, 61, 6, 19, 11, 6, 19, 30, 179, 52, 64, 621, 11, 50, 8, 57, 38, 42, 36, 28, 11, 33, 59, 34, 58, 66, 7, 21, 4, 40, 8, 15, 14, 109, 36, 15, 22, 82, 24, 35, 73, 67, 68, 11, 5, 30, 77, 26, 13, 40, 238, 196, 4, 47, 15, 24, 34, 58, 359, 30, 4, 36, 38, 102, 67, 13, 16, 179, 29, 4, 13, 43, 11, 26, 35, 11, 29, 14, 18, 48, 31, 53, 103, 8, 11, 10, 21, 7, 90, 10, 26, 13, 19, 14, 13, 56, 10, 17, 28, 19, 4, 34, 10, 97, 21, 67, 3, 5, 21, 6, 72, 115, 25, 41, 39, 36, 67, 58, 8, 13, 22, 11, 34, 23, 6, 11, 46, 50, 26, 80, 9, 5, 37, 188, 9, 24, 137, 12, 38, 13, 50, 17, 11, 15, 26, 191, 257, 197, 204, 47, 10, 17, 31, 15, 6, 3, 12, 57, 50, 21, 643, 26, 6, 110, 17, 23, 71, 97, 31, 14, 24, 9, 13, 116, 55, 16, 168, 17, 64, 4, 55, 108, 49, 19, 26, 39, 15, 91, 37, 6, 69, 7, 9, 29, 79, 68, 73, 159, 25, 237, 5, 31, 22, 8, 48, 91, 127, 6, 48, 34, 16, 68, 17, 35, 53, 6, 46, 23, 40, 7, 15, 6, 268, 47, 73, 410, 13, 28, 21, 8, 100, 19, 12, 214, 14, 51, 14, 102, 414, 103, 16, 13, 56, 32, 19, 23, 59, 13, 35, 30, 84, 12, 7, 237, 9, 102, 57, 33, 41, 17, 37, 25, 52, 303, 237, 62, 99, 94, 16, 102, 17, 11, 12, 15, 25, 66, 52, 39, 15, 88, 16, 104, 243, 36, 108, 10, 22, 16, 23, 44, 24, 9, 48, 37, 43, 32, 41, 26, 90, 65, 102, 27, 5, 14, 35, 23, 29, 10, 23, 34, 71, 4, 20, 47, 21, 13, 85, 161, 20, 12, 20, 47, 9, 52, 115, 4, 15, 16, 185, 14, 13, 12, 24, 24, 142, 19, 10, 26, 213, 29, 416, 13, 101, 6, 10, 44, 33, 6, 15, 55, 38, 5, 54, 11, 7, 15, 8, 42, 31, 26, 8, 32, 121, 26, 120, 13, 39, 48, 13, 4, 98, 63, 31, 41, 293, 160, 23, 129, 9, 49, 5, 50, 108, 87, 53, 46, 14, 7, 65, 44, 40, 31, 155, 9, 606, 7, 6, 16, 23, 11, 32, 18, 48, 9, 17, 220, 75, 11, 10, 21, 41, 14, 471, 13, 17, 85, 24, 89, 42, 52, 6, 10, 88, 43, 29, 9, 36, 24, 10, 10, 33, 90, 6, 4, 63, 67, 418, 37, 10, 267, 12, 156, 32, 33, 99, 32, 16, 9, 91, 8, 26, 20, 4, 98, 15, 27, 140, 19, 19, 6, 75, 4, 18, 5, 63, 9, 81, 9, 46, 7, 14, 9, 48, 35, 29, 18, 47, 19, 41, 21, 50, 47, 41, 9, 29, 91, 66, 7, 10, 9, 76, 28, 35, 7, 6, 60, 19, 81, 28, 54, 86, 7, 20, 34, 113, 385, 25, 7, 32, 31, 54, 10, 48, 6, 23, 36, 48, 170, 5, 23, 75, 14, 104, 42, 101, 66, 220, 8, 58, 10, 110, 8, 13, 49, 51, 26, 56, 11, 155, 32, 7, 50, 9, 8, 528, 94, 142, 22, 28, 63, 27, 13, 221, 8, 8, 313, 36, 14, 35, 227, 7, 100, 151, 48, 36, 24, 45, 15, 8, 41, 3, 35, 45, 74, 21, 6, 68, 15, 109, 65, 40, 34, 34, 10, 9, 10, 112, 2, 25, 8, 79, 146, 21, 70, 132, 27, 47, 94, 37, 28, 67, 61, 25, 59, 50, 21, 412, 99, 19, 104, 45, 20, 38, 34, 18, 8, 42, 6, 12, 93, 375, 53, 30, 53, 20, 99, 8, 20, 13, 10, 4, 15, 75, 32, 54, 48, 16, 178, 7, 57, 11, 4, 6, 21, 9, 13, 38, 71, 5, 65, 24, 30, 57, 89, 27, 11, 25, 6, 27, 8, 68, 16, 39, 59, 33, 36, 12, 5, 21, 10, 9, 22, 59, 22, 161, 125, 13, 13, 20, 62, 13, 11, 25, 18, 91, 69, 91, 254, 37, 12, 61, 5, 202, 3, 7, 7, 7, 29, 66, 10, 23, 17, 19, 41, 405, 32, 26, 103, 26, 7, 9, 52, 12, 15, 38, 62, 30, 61, 177, 177, 235, 231, 5, 10, 46, 14, 9, 13, 52, 5, 32, 13, 20, 15, 151, 54, 46, 241, 86, 22, 20, 23, 50, 76, 4, 9, 25, 16, 21, 4, 8, 14, 40, 39, 4, 50, 69, 43, 18, 7, 13, 10, 11, 92, 13, 19, 59, 30, 6, 525, 10, 28, 23, 15, 37, 89, 18, 9, 8, 20, 10, 84, 15, 69, 58, 5, 14, 5, 113, 11, 393, 12, 7, 9, 25, 83, 12, 7, 180, 25, 9, 7, 8, 36, 34, 15, 6, 51, 6, 362, 917, 53, 347, 14, 46, 20, 27, 8, 42, 14, 21, 9, 3, 11, 34, 28, 8, 18, 279, 6, 8, 125, 23, 10, 24, 33, 16, 13, 3, 42, 3, 9, 98, 33, 9, 17, 91, 10, 7, 13, 47, 35, 10, 65, 33, 17, 8, 39, 5, 21, 32, 36, 27, 18, 11, 73, 21, 36, 113, 7, 9, 13, 23, 11, 6, 96, 19, 36, 8, 23, 40, 44, 9, 16, 58, 7, 72, 25, 62, 42, 10, 79, 31, 17, 25, 214, 9, 7, 13, 23, 26, 22, 9, 47, 9, 6, 8, 6, 8, 16, 35, 406, 76, 21, 49, 24, 28, 95, 12, 13, 13, 22, 361, 42, 44, 7, 24, 846, 55, 37, 92, 15, 15, 26, 82, 55, 60, 4, 17, 6, 5, 26, 194, 29, 22, 8, 20, 9, 13, 27, 397, 17, 38, 10, 135, 102, 22, 6, 8, 66, 5, 5, 5, 25, 21, 11, 17, 3, 10, 7, 6, 18, 20, 18, 8, 22, 115, 140, 6, 55, 12, 289, 10, 62, 6, 7, 5, 26, 5, 25, 8, 11, 8, 65, 110, 13, 68, 69, 14, 25, 40, 19, 31, 9, 2, 32, 74, 5, 40, 66, 13, 55, 24, 109, 44, 8, 76, 12, 13, 12, 67, 50, 25, 84, 4, 24, 3, 1127, 23, 5, 46, 14, 14, 16, 13, 6, 4, 47, 8, 4, 61, 26, 32, 62, 11, 42, 43, 11, 20, 15, 13, 17, 13, 518, 10, 30, 29, 13, 48, 33, 6, 22, 19, 290, 214, 228, 20, 124, 123, 20, 45, 147, 60, 25, 155, 71, 22, 14, 128, 25, 21, 18, 16, 184, 31, 154, 24, 36, 12, 31, 55, 73, 4, 88, 34, 44, 105, 4, 153, 12, 59, 32, 99, 3, 4, 124, 19, 25, 40, 226, 10, 31, 30, 15, 89, 36, 43, 15, 51, 53, 28, 13, 72, 100, 9, 25, 15, 18, 30, 18, 40, 44, 36, 46, 83, 16, 28, 49, 53, 68, 5, 7, 19, 7, 64, 61, 11, 71, 186, 73, 19, 122, 63, 17, 75, 11, 79, 36, 11, 29, 6, 44, 91, 65, 30, 38, 44, 73, 39, 139, 19, 68, 13, 6, 4, 23, 48, 13, 5, 17, 49, 176, 10, 23, 19, 42, 6, 9, 124, 29, 13, 116, 19, 139, 32, 25, 89, 12, 58, 15, 13, 28, 58, 17, 13, 72, 4, 227, 2, 230, 7, 98, 11, 31, 41, 8, 5, 35, 65, 7, 26, 33, 6, 18, 30, 13, 42, 15, 46, 46, 15, 7, 16, 69, 12, 103, 25, 15, 69, 9, 15, 29, 66, 15, 4, 30, 63, 380, 40, 18, 8, 6, 24, 59, 16, 10, 68, 61, 26, 16, 41, 10, 5, 13, 29, 134, 49, 14, 80, 19, 34, 25, 36, 13, 16, 9, 103, 13, 7, 12, 242, 88, 108, 9, 19, 21, 15, 29, 28, 485, 20, 63, 104, 1080, 5, 106, 67, 24, 27, 211, 9, 132, 7, 9, 7, 5, 5, 32, 20, 12, 85, 11, 341, 33, 68, 79, 7, 49, 24, 36, 3, 17, 7, 8, 50, 117, 28, 11, 6, 42, 11, 8, 602, 75, 26, 196, 6, 15, 41, 9, 12, 45, 17, 11, 14, 70, 5, 23, 8, 54, 48, 39, 31, 14, 9, 92, 4, 8, 45, 8, 14, 30, 90, 23, 34, 16, 33, 9, 9, 19, 20, 11, 82, 42, 26, 27, 47, 9, 20, 23, 27, 139, 4, 8, 40, 167, 4, 37, 36, 5, 26, 23, 5, 15, 65, 6, 13, 1179, 4, 8, 10, 20, 10, 22, 10, 19, 42, 35, 3, 44, 5, 87, 70, 12, 19, 61, 5, 17, 122, 12, 19, 286, 42, 34, 78, 13, 22, 140, 36, 4, 3, 5, 9, 4, 14, 55, 53, 8, 38, 6, 4, 9, 11, 6, 31, 41, 17, 55, 7, 16, 25, 32, 10, 176, 41, 83, 22, 24, 77, 169, 4, 32, 40, 31, 133, 22, 83, 17, 54, 13, 21, 163, 39, 56, 30, 32, 49, 29, 31, 112, 14, 33, 104, 30, 15, 14, 72, 15, 9, 32, 48, 194, 40, 6, 13, 123, 70, 45, 23, 4, 17, 11, 21, 4, 75, 62, 9, 102, 23, 3, 11, 113, 6, 114, 20, 10, 6, 53, 40, 4, 3, 23, 10, 5, 16, 26, 19, 15, 7, 20, 46, 16, 15, 19, 15, 66, 10, 26, 39, 67, 64, 43, 617, 103, 19, 17, 19, 5, 6, 46, 22, 31, 2, 9, 22, 34, 25, 20, 16, 5, 14, 6, 13, 15, 54, 4, 32, 18, 37, 184, 20, 10, 56, 28, 113, 9, 24, 39, 7, 13, 7, 35, 199, 5, 17, 12, 50, 85, 32, 31, 155, 15, 14, 11, 19, 211, 18, 6, 62, 18, 8, 24, 135, 11, 29, 49, 39, 5, 5, 52, 6, 5, 119, 32, 14, 16, 48, 10, 23, 1, 7, 59, 95, 23, 7, 157, 128, 85, 7, 8, 15, 7, 137, 8, 11, 95, 8, 5, 50, 12, 244, 24, 69, 11, 253, 6, 12, 11, 32, 24, 66, 52, 131, 12, 8, 25, 10, 7, 10, 17, 11, 15, 26, 191, 257, 197, 204, 47, 10, 99, 23, 87, 78, 16, 16, 86, 215, 13, 70, 213, 429, 8, 17, 6, 19, 133, 44, 6, 6, 29, 21, 8, 20, 106, 56, 20, 14, 27, 11, 26, 30, 11, 39, 10, 4, 25, 68, 38, 4, 28, 108, 11, 76, 8, 10, 14, 26, 25, 48, 85, 15, 40, 16, 61, 23, 3, 10, 5, 68, 248, 56, 61, 31, 45, 16, 131, 96, 7, 47, 18, 128, 127, 9, 5, 63, 22, 13, 6, 4, 478, 30, 10, 122, 19, 5, 490, 24, 16, 14, 29, 27, 4, 186, 6, 5, 5, 9, 40, 162, 4, 28, 41, 19, 9, 28, 115, 249, 16, 35, 5, 11, 188, 14, 8, 10, 68, 43, 94, 10, 163, 437, 17, 98, 187, 86, 81, 154, 31, 53, 7, 15, 10, 7, 21, 88, 7, 44, 38, 55, 44, 8, 23, 44, 6, 40, 14, 30, 141, 18, 15, 121, 75, 34, 9, 130, 97, 5, 9, 25, 28, 55, 11, 44, 26, 5, 49, 6, 20, 49, 8, 28, 43, 6, 16, 11, 41, 60, 16, 4, 13, 12, 21, 14, 65, 9, 21, 40, 5, 12, 240, 34, 403, 5, 8, 8, 80, 28, 88, 4, 15, 96, 468, 8, 11, 19, 45, 66, 154, 453, 31, 60, 50, 93, 27, 316, 109, 7, 261, 21, 82, 71, 252, 11, 183, 13, 11, 46, 104, 174, 19, 39, 16, 8, 25, 17, 14, 19, 11, 29, 114, 28, 13, 54, 32, 26, 49, 50, 154, 13, 19, 4, 4, 84, 21, 10, 12, 45, 48, 28, 6, 16, 4, 89, 33, 27, 326, 55, 31, 87, 7, 8, 5, 8, 106, 9, 21, 3, 30, 35, 7, 75, 34, 23, 7, 30, 7, 57, 12, 67, 27, 25, 8, 85, 20, 7, 50, 15, 11, 234, 163, 25, 10, 7, 18, 12, 15, 39, 25, 88, 9, 15, 10, 27, 47, 5, 11, 123, 34, 25, 6, 44, 16, 102, 187, 113, 42, 29, 34, 119, 104, 3, 30, 12, 71, 112, 21, 33, 18, 329, 9, 13, 116, 55, 16, 168, 17, 64, 4, 55, 139, 13, 133, 28, 5, 54, 227, 63, 30, 152, 34, 291, 17, 8, 123, 6, 37, 21, 13, 20, 46, 12, 17, 27, 95, 14, 30, 356, 15, 6, 155, 69, 588, 15, 27, 89, 24, 85, 239, 56, 163, 249, 33, 68, 15, 22, 39, 37, 93, 37, 30, 12, 84, 22, 27, 37, 12, 7, 22, 204, 33, 13, 66, 33, 3, 23, 53, 82, 29, 105, 28, 22, 6, 153, 46, 12, 20, 30, 375, 11, 18, 16, 27, 25, 20, 19, 639, 4, 111, 77, 20, 7, 27, 30, 5, 19, 22, 4, 15, 74, 89, 44, 26, 83, 9, 349, 8, 3, 39, 10, 23, 112, 4, 13, 10, 46, 32, 9, 14, 136, 118, 13, 4, 8, 54, 12, 22, 13, 5, 14, 10, 168, 269, 257, 271, 98, 346, 5, 20, 18, 65, 19, 22, 20, 138, 38, 12, 29, 40, 17, 21, 34, 132, 124, 447, 5, 7, 13, 41, 40, 14, 23, 10, 20, 4, 32, 8, 12, 7, 4, 23, 524, 67, 10, 115, 24, 11, 4, 40, 36, 3, 36, 65, 182, 139, 15, 19, 12, 28, 8, 6, 37, 5, 10, 25, 7, 19, 6, 76, 13, 142, 412, 696, 372, 27, 30, 72, 14, 19, 73, 11, 10, 28, 11, 68, 87, 155, 23, 10, 10, 95, 8, 4, 9, 92, 130, 24, 16, 15, 41, 6, 7, 17, 16, 6, 3, 34, 89, 59, 40, 13, 10, 48, 288, 4, 9, 95, 11, 10, 37, 54, 14, 23, 90, 8, 121, 6, 24, 6, 41, 18, 31, 58, 11, 20, 16, 15, 8, 11, 54, 120, 67, 114, 61, 21, 18, 215, 18, 21, 75, 55, 21, 10, 15, 80, 75, 4, 21, 33, 23, 379, 21, 32, 23, 27, 13, 59, 4, 17, 7, 1274, 61, 136, 11, 151, 630, 79, 186, 87, 60, 16, 22, 38, 40, 43, 12, 26, 8, 38, 14, 16, 94, 61, 53, 25, 99, 122, 72, 85, 10, 394, 65, 6, 2, 73, 209, 23, 353, 7, 15, 205, 4, 217, 18, 16, 18, 375, 32, 56, 29, 123, 54, 254, 200, 424, 123, 54, 6, 180, 96, 118, 66, 55, 6, 48, 54, 3, 67, 267, 45, 385, 382, 47, 265, 138, 12, 104, 224, 40, 111, 106, 7, 8, 43, 23, 6, 32, 8, 18, 22, 19, 40, 55, 30, 42, 195, 4, 56, 11, 20, 48, 156, 8, 14, 24, 132, 12, 53, 17, 10, 107, 6, 127, 35, 23, 81, 360, 15, 25, 50, 90, 22, 83, 9, 6, 19, 123, 87, 50, 12, 6, 26, 43, 12, 8, 41, 9, 11, 720, 19, 77, 18, 64, 58, 8, 20, 10, 94, 644, 60, 22, 27, 20, 26, 313, 13, 28, 4, 7, 20, 8, 126, 24, 21, 33, 22, 25, 12, 445, 25, 26, 6, 20, 46, 8, 108, 33, 98, 66, 94, 7, 7, 250, 22, 3, 413, 24, 28, 17, 287, 66, 130, 67, 16, 17, 19, 4, 7, 10, 57, 7, 29, 86, 39, 14, 94, 19, 43, 74, 5, 28, 15, 9, 9, 14, 185, 4, 8, 291, 16, 26, 13, 21, 15, 45, 29, 30, 69, 22, 8, 163, 101, 12, 69, 151, 37, 183, 10, 48, 20, 9, 55, 44, 12, 58, 5, 27, 17, 21, 13, 90, 26, 35, 170, 4, 327, 32, 27, 26, 44, 8, 22, 5, 28, 11, 23, 9, 10, 41, 109, 75, 214, 22, 26, 222, 25, 10, 72, 5, 313, 9, 96, 72, 40, 36, 78, 12, 51, 24, 9, 23, 32, 190, 6, 143, 19, 18, 16, 7, 11, 3, 138, 56, 498, 47, 32, 8, 575, 11, 13, 22, 11, 79, 121, 216, 43, 21, 11, 33, 55, 143, 124, 8, 13, 5, 130, 14, 9, 5, 23, 66, 245, 12, 42, 69, 90, 56, 18, 13, 64, 15, 12, 31, 42, 107, 11, 8, 23, 4, 12, 108, 26, 310, 16, 47, 123, 32, 74, 23, 60, 238, 7, 38, 28, 26, 87, 6, 5, 41, 79, 31, 5, 10, 37, 7, 16, 1, 173, 9, 51, 3, 27, 12, 6, 354, 69, 40, 300, 31, 41, 183, 10, 29, 510, 7, 7, 112, 59, 26, 5, 119, 23, 5, 9, 4, 22, 6, 23, 21, 9, 47, 116, 9, 15, 26, 25, 147, 17, 34, 10, 62, 9, 49, 27, 15, 19, 40, 41, 86, 51, 30, 14, 23, 2, 3, 5, 4, 31, 6, 8, 134, 38, 12, 8, 25, 92, 216, 63, 7, 73, 6, 20, 52, 31, 60, 14, 9, 26, 109, 121, 19, 3, 49, 33, 33, 5, 56, 121, 106, 5, 20, 99, 8, 20, 13, 10, 4, 15, 75, 32, 128, 35, 10, 10, 14, 17, 17, 21, 10, 31, 15, 4, 71, 75, 10, 13, 36, 15, 10, 129, 68, 80, 10, 29, 50, 28, 59, 35, 15, 66, 28, 49, 17, 40, 18, 20, 15, 36, 38, 67, 21, 33, 8, 34, 10, 29, 8, 6, 19, 56, 123, 569, 166, 94, 222, 11, 78, 149, 4, 23, 21, 6, 34, 135, 65, 239, 327, 37, 5, 17, 333, 44, 114, 302, 6, 232, 129, 10, 18, 8, 126, 47, 52, 50, 36, 6, 12, 35, 10, 15, 52, 9, 5, 99, 9, 157, 9, 61, 46, 10, 38, 25, 1028, 32, 25, 49, 68, 9, 25, 29, 14, 175, 634, 7, 12, 50, 13, 7, 27, 83, 333, 263, 21, 32, 27, 16, 11, 9, 40, 9, 35, 41, 9, 7, 12, 30, 20, 8, 24, 26, 6, 36, 16, 107, 29, 5, 10, 14, 14, 9, 146, 11, 6, 9, 15, 32, 14, 12, 11, 4, 45, 20, 170, 71, 46, 300, 12, 38, 67, 11, 48, 6, 36, 11, 98, 32, 108, 35, 7, 7, 254, 671, 69, 87, 7, 120, 21, 465, 76, 16, 195, 93, 9, 71, 7, 8, 14, 24, 20, 22, 54, 30, 70, 12, 30, 28, 9, 81, 36, 13, 79, 8, 77, 179, 9, 363, 100, 47, 62, 17, 109, 76, 147, 17, 24, 10, 278, 38, 131, 18, 34, 66, 271, 131, 42, 100, 34, 774, 18, 14, 45, 24, 87, 245, 67, 6, 34, 93, 13, 29, 42, 8, 34, 20, 42, 57, 47, 49, 17, 9, 118, 17, 24, 9, 156, 604, 445, 16, 790, 357, 16, 48, 15, 5, 183, 14, 9, 54, 151, 62, 29, 5, 51, 39, 10, 8, 62, 32, 5, 114, 5, 132, 4, 19, 15, 6, 80, 13, 116, 448, 77, 49, 3, 152, 70, 113, 38, 59, 40, 21, 24, 77, 7, 7, 14, 40, 28, 9, 27, 12, 54, 62, 22, 50, 14, 16, 88, 20, 14, 47, 72, 16, 17, 7, 340, 11, 182, 25, 73, 154, 30, 8, 8, 78, 14, 179, 46, 21, 190, 135, 42, 8, 80, 79, 10, 75, 15, 71, 33, 9, 37, 461, 176, 29, 53, 37, 11, 38, 12, 15, 168, 3, 48, 32, 75, 79, 32, 40, 23, 86, 44, 19, 25, 56, 61, 32, 24, 73, 16, 61, 39, 12, 88, 20, 21, 47, 26, 46, 103, 79, 17, 80, 8, 8, 74, 36, 85, 24, 15, 452, 77, 69, 42, 7, 34, 35, 12, 38, 16, 82, 16, 16, 14, 43, 11, 214, 6, 34, 59, 34, 58, 35, 147, 15, 23, 107, 78, 40, 619, 35, 44, 21, 27, 78, 6, 135, 61, 170, 375, 38, 5, 901, 9, 8, 46, 13, 34, 3, 27, 27, 98, 46, 62, 11, 10, 73, 50, 17, 29, 74, 219, 11, 37, 98, 42, 13, 33, 17, 19, 11, 183, 21, 13, 11, 21, 5, 4, 19, 17, 6, 19, 152, 80, 23, 297, 390, 27, 248, 12, 13, 66, 55, 14, 45, 16, 10, 129, 62, 5, 5, 11, 16, 247, 188, 60, 24, 157, 24, 408, 52, 117, 139, 16, 76, 78, 4, 3, 41, 38, 50, 143, 291, 516, 61, 172, 171, 29, 23, 38, 18, 37, 26, 45, 190, 64, 18, 18, 24, 9, 46, 50, 101, 19, 30, 80, 7, 33, 78, 41, 16, 44, 304, 9, 48, 12, 8, 98, 8, 6, 268, 47, 73, 410, 13, 28, 21, 8, 100, 31, 85, 21, 1, 48, 28, 229, 39, 200, 37, 27, 63, 26, 7, 5, 36, 24, 97, 254, 57, 38, 48, 31, 11, 14, 9, 3, 18, 14, 7, 46, 32, 20, 27, 8, 155, 140, 29, 127, 9, 93, 17, 17, 21, 142, 53, 28, 131, 9, 229, 67, 16, 4, 26, 33, 20, 45, 31, 10, 15, 19, 30, 6, 75, 43, 44, 92, 7, 10, 21, 25, 11, 28, 6, 4, 204, 33, 6, 21, 6, 59, 14, 37, 70, 33, 32, 14, 27, 42, 8, 8, 111, 19, 78, 18, 24, 109, 35, 19, 15, 26, 35, 23, 197, 4, 95, 84, 49, 12, 44, 153, 291, 71, 86, 27, 28, 9, 124, 176, 15, 44, 54, 28, 43, 14, 51, 40, 183, 201, 16, 31, 66, 21, 82, 102, 25, 58, 33, 31, 44, 66, 38, 40, 25, 14, 115, 7, 24, 59, 40, 36, 15, 257, 502, 75, 11, 180, 119, 91, 57, 5, 22, 679, 44, 34, 39, 57, 39, 14, 139, 8, 108, 67, 44, 5, 25, 11, 57, 15, 176, 75, 154, 32, 6, 35, 53, 102, 9, 45, 35, 270, 44, 131, 17, 33, 81, 27, 52, 13, 71, 9, 25, 79, 15, 30, 21, 68, 12, 137, 121, 15, 54, 51, 36, 9, 133, 54, 37, 115, 3, 13, 300, 51, 20, 5, 15, 111, 7, 22, 135, 7, 14, 7, 19, 21, 23, 4, 15, 168, 38, 492, 23, 7, 5, 38, 12, 135, 35, 32, 589, 13, 100, 61, 33, 397, 36, 56, 150, 21, 94, 190, 109, 51, 95, 45, 71, 29, 81, 59, 22, 22, 112, 50, 106, 26, 22, 34, 28, 64, 52, 20, 72, 7, 26, 66, 174, 27, 20, 110, 50, 11, 63, 59, 65, 48, 15, 94, 73, 20, 62, 30, 40, 38, 67, 5, 8, 58, 24, 65, 161, 89, 11, 1, 78, 33, 65, 190, 16, 15, 282, 35, 6, 14, 6, 7, 32, 127, 254, 25, 119, 298, 119, 17, 49, 29, 14, 15, 8, 39, 85, 50, 165, 37, 114, 87, 27, 68, 17, 35, 53, 6, 46, 23, 40, 7, 15, 34, 85, 110, 12, 74, 32, 19, 4, 49, 21, 96, 50, 4, 18, 17, 152, 17, 46, 38, 16, 226, 41, 96, 122, 13, 72, 32, 29, 94, 23, 7, 22, 34, 23, 34, 71, 4, 20, 47, 21, 13, 85, 161, 140, 16, 34, 28, 78, 3, 43, 25, 181, 162, 22, 20, 42, 67, 343, 37, 43, 142, 10, 10, 33, 90, 6, 4, 63, 67, 418, 37, 83, 52, 48, 39, 13, 76, 5, 38, 11, 4, 52, 11, 53, 18, 35, 16, 65, 24, 62, 10, 101, 42, 61, 72, 31, 15, 36, 13, 37, 46, 19, 84, 56, 17, 56, 4, 83, 61, 7, 63, 10, 186, 17, 27, 18, 105, 62, 8, 14, 18, 12, 17, 35, 102, 45, 40, 46, 103, 113, 110, 61, 16, 8, 51, 52, 44, 35, 24, 70, 52, 52, 62, 152, 135, 38, 85, 38, 87, 186, 17, 12, 41, 60, 68, 170, 18, 9, 4, 123, 27, 29, 70, 57, 146, 63, 25, 26, 25, 13, 8, 46, 134, 196, 26, 10, 4, 52, 19, 60, 19, 68, 26, 265, 36, 5, 29, 8, 32, 4, 6, 31, 47, 27, 64, 14, 52, 21, 54, 37, 21, 21, 21, 10, 17, 88, 43, 56, 4, 52, 61, 36, 189, 149, 78, 125, 24, 26, 200, 136, 67, 26, 87, 5, 29, 21, 228, 29, 24, 30, 27, 23, 39, 100, 227, 10, 42, 14, 20, 102, 69, 5, 101, 176, 26, 14, 25, 31, 33, 117, 10, 122, 78, 67, 18, 24, 330, 20, 64, 36, 17, 32, 11, 33, 51, 134, 129, 43, 206, 17, 14, 5, 126, 17, 11, 11, 42, 4, 336, 502, 113, 54, 3, 51, 25, 10, 81, 16, 53, 25, 24, 371, 15, 4, 287, 46, 9, 43, 139, 10, 14, 52, 24, 101, 9, 4, 75, 22, 7, 47, 5, 50, 5, 102, 44, 12, 11, 33, 7, 12, 468, 33, 27, 32, 62, 50, 9, 31, 30, 16, 31, 41, 210, 30, 22, 16, 17, 486, 8, 36, 31, 5, 24, 88, 51, 614, 40, 94, 27, 53, 34, 71, 61, 72, 29, 14, 55, 357, 31, 15, 6, 22, 1, 31, 122, 56, 4, 39, 24, 39, 206, 22, 22, 32, 13, 44, 15, 21, 21, 34, 46, 21, 14, 18, 84, 21, 201, 8, 10, 24, 8, 165, 50, 139, 311, 210, 37, 20, 44, 7, 24, 846, 55, 37, 92, 15, 15, 26, 32, 40, 29, 147, 20, 95, 183, 9, 8, 4, 117, 38, 7, 52, 6, 8, 9, 11, 50, 24, 14, 79, 14, 288, 124, 53, 65, 181, 36, 35, 29, 13, 19, 6, 44, 14, 46, 70, 17, 29, 36, 50, 15, 16, 16, 18, 7, 30, 108, 370, 15, 46, 31, 1, 15, 11, 10, 21, 33, 8, 11, 18, 40, 66, 48, 22, 10, 4, 13, 41, 25, 15, 37, 51, 45, 58, 113, 7, 71, 52, 6, 70, 8, 24, 19, 159, 210, 13, 59, 20, 12, 40, 53, 13, 101, 41, 50, 8, 23, 14, 34, 28, 8, 18, 279, 6, 8, 125, 23, 10, 6, 16, 7, 12, 6, 34, 29, 11, 41, 137, 1299, 72, 12, 39, 34, 5, 49, 5, 54, 23, 20, 55, 314, 58, 18, 25, 15, 81, 12, 10, 28, 51, 205, 7, 11, 86, 16, 26, 79, 29, 3, 10, 177, 87, 384, 141, 1277, 33, 158, 36, 42, 24, 33, 56, 75, 16, 27, 33, 197, 46, 39, 20, 16, 143, 9, 22, 46, 31, 36, 22, 14, 38, 88, 57, 22, 73, 183, 17, 70, 59, 15, 46, 29, 73, 29, 17, 102, 21, 8, 62, 9, 16, 21, 78, 31, 63, 49, 142, 107, 74, 99, 19, 20, 5, 156, 11, 9, 241, 86, 13, 40, 6, 34, 58, 146, 28, 73, 46, 12, 106, 25, 8, 13, 99, 4, 18, 5, 20, 8, 7, 87, 88, 151, 68, 44, 21, 77, 13, 75, 26, 18, 32, 52, 83, 11, 52, 16, 46, 9, 573, 21, 13, 29, 36, 17, 31, 6, 16, 6, 28, 10, 6, 61, 7, 74, 34, 251, 12, 38, 18, 15, 5, 26, 82, 28, 4, 6, 33, 153, 25, 30, 69, 11, 59, 50, 17, 90, 20, 14, 44, 63, 12, 59, 20, 387, 5, 10, 16, 17, 39, 145, 6, 93, 35, 11, 5, 91, 37, 110, 46, 75, 11, 79, 36, 11, 29, 6, 44, 91, 65, 125, 10, 5, 10, 38, 145, 13, 19, 70, 140, 46, 10, 44, 29, 31, 10, 343, 14, 454, 99, 47, 182, 50, 70, 82, 17, 15, 56, 10, 157, 81, 263, 30, 20, 47, 32, 5, 22, 4, 28, 48, 114, 31, 16, 27, 64, 152, 32, 50, 79, 33, 10, 26, 5, 9, 6, 19, 14, 26, 28]\n",
            "mean length of the view text: 59.06507831458195\n",
            "median length of the review text: 28\n"
          ]
        },
        {
          "output_type": "display_data",
          "data": {
            "image/png": "[encoded data removed]",
            "text/plain": [
              "<Figure size 432x288 with 1 Axes>"
            ]
          },
          "metadata": {
            "needs_background": "light"
          }
        }
      ]
    },
    {
      "cell_type": "code",
      "source": [
        "clean_general_data = add_length_distribution(general_data)"
      ],
      "metadata": {
        "colab": {
          "base_uri": "https://localhost:8080/",
          "height": 337
        },
        "id": "7OFmSpZebjRm",
        "outputId": "511053b6-f9b6-4576-e883-a3a1f0974fd4"
      },
      "execution_count": null,
      "outputs": [
        {
          "output_type": "stream",
          "name": "stdout",
          "text": [
            "[21, 31, 39, 29, 16, 24, 14, 24, 23, 20, 26, 26, 8, 29, 21, 17, 27, 25, 22, 10, 3, 15, 34, 61, 6, 19, 11, 6, 19, 30, 23, 18, 28, 27, 24, 10, 27, 13, 6, 22, 21, 20, 41, 15, 22, 16, 10, 30, 27, 32, 179, 52, 64, 621, 11, 50, 8, 57, 38, 42, 18, 11, 27, 17, 32, 35, 22, 34, 37, 13, 20, 29, 39, 29, 34, 11, 26, 21, 28, 19, 36, 28, 11, 33, 59, 34, 58, 66, 7, 21, 20, 43, 22, 13, 23, 29, 18, 31, 27, 38, 26, 25, 27, 26, 25, 8, 6, 27, 23, 12, 4, 40, 8, 15, 14, 109, 36, 15, 22, 82, 24, 11, 14, 10, 31, 39, 26, 40, 29, 32, 24, 14, 26, 46, 37, 11, 33, 8, 37, 15, 24, 35, 73, 67, 68, 11, 5, 30, 77, 26, 21, 23, 37, 10, 12, 22, 11, 37, 24, 28, 21, 25, 8, 17, 29, 24, 11, 32, 16, 10, 13, 40, 238, 196, 4, 47, 15, 24, 34, 58, 45, 21, 31, 26, 14, 15, 23, 8, 25, 21, 32, 28, 27, 22, 6, 27, 11, 19, 38, 5, 359, 30, 4, 36, 38, 102, 67, 13, 16, 179, 10, 19, 11, 28, 34, 6, 29, 33, 5, 29, 37, 21, 20, 31, 32, 38, 30, 32, 27, 40, 29, 4, 13, 43, 11, 26, 35, 11, 29, 14, 29, 13, 11, 25, 5, 16, 29, 17, 38, 47, 21, 13, 4, 31, 20, 18, 39, 27, 38, 16, 18, 48, 31, 53, 103, 8, 11, 10, 21, 7, 12, 14, 7, 18, 40, 23, 42, 25, 27, 21, 5, 19, 15, 21, 20, 23, 21, 28, 18, 15, 90, 10, 26, 13, 19, 14, 13, 56, 10, 17, 19, 12, 25, 21, 31, 13, 28, 25, 30, 22, 37, 30, 23, 15, 16, 16, 16, 30, 24, 22, 28, 19, 4, 34, 10, 97, 21, 67, 3, 5, 8, 18, 28, 18, 25, 33, 25, 18, 24, 37, 28, 17, 16, 14, 32, 27, 16, 14, 39, 37, 21, 6, 72, 115, 25, 41, 39, 36, 67, 58, 19, 31, 12, 8, 22, 27, 31, 26, 27, 27, 16, 25, 32, 26, 23, 16, 17, 20, 37, 24, 8, 13, 22, 32, 8, 4, 5, 40, 28, 29, 25, 9, 21, 18, 19, 29, 6, 11, 19, 33, 27, 27, 27, 11, 34, 23, 6, 11, 46, 50, 26, 80, 9, 19, 16, 35, 14, 17, 6, 26, 22, 24, 40, 24, 14, 19, 26, 26, 33, 16, 29, 36, 5, 5, 37, 188, 9, 24, 137, 12, 38, 13, 50, 16, 23, 35, 13, 30, 19, 33, 19, 34, 22, 25, 28, 13, 16, 20, 15, 36, 39, 19, 26, 17, 11, 15, 26, 191, 257, 197, 204, 47, 10, 16, 23, 9, 36, 28, 30, 20, 18, 31, 17, 31, 22, 46, 39, 29, 25, 25, 33, 28, 20, 17, 31, 15, 6, 3, 12, 57, 50, 21, 643, 20, 22, 20, 36, 28, 31, 13, 11, 9, 27, 27, 30, 29, 12, 23, 26, 28, 8, 5, 22, 26, 6, 110, 17, 23, 71, 97, 31, 14, 24, 29, 30, 30, 43, 24, 38, 34, 20, 29, 35, 36, 33, 22, 30, 31, 36, 38, 41, 35, 19, 9, 13, 116, 55, 16, 168, 17, 64, 4, 55, 9, 19, 5, 28, 9, 24, 30, 30, 7, 6, 26, 8, 20, 17, 42, 11, 25, 16, 25, 23, 108, 49, 19, 26, 39, 15, 91, 37, 6, 69, 38, 32, 4, 14, 36, 10, 30, 36, 24, 24, 40, 19, 38, 22, 17, 17, 32, 16, 28, 21, 7, 9, 29, 79, 68, 73, 159, 25, 237, 5, 7, 28, 22, 21, 20, 36, 21, 11, 28, 33, 18, 6, 18, 29, 1, 22, 18, 9, 10, 29, 31, 22, 8, 48, 91, 127, 6, 48, 34, 16, 5, 27, 43, 23, 22, 25, 9, 15, 19, 23, 23, 27, 28, 44, 24, 9, 29, 28, 41, 28, 68, 17, 35, 53, 6, 46, 23, 40, 7, 15, 24, 11, 39, 38, 26, 10, 24, 17, 29, 28, 7, 20, 12, 18, 27, 23, 25, 27, 10, 14, 6, 268, 47, 73, 410, 13, 28, 21, 8, 100, 32, 10, 25, 40, 31, 17, 35, 40, 26, 13, 37, 27, 38, 41, 39, 42, 28, 20, 29, 26, 19, 12, 214, 14, 51, 14, 102, 414, 103, 16, 14, 9, 33, 22, 40, 39, 13, 27, 18, 24, 19, 16, 15, 32, 18, 28, 28, 42, 35, 30, 13, 56, 32, 19, 23, 59, 13, 35, 30, 84, 41, 18, 29, 30, 39, 31, 38, 44, 34, 32, 36, 42, 33, 36, 17, 17, 48, 20, 40, 40, 12, 7, 237, 9, 102, 57, 33, 41, 17, 37, 18, 28, 27, 14, 19, 15, 7, 25, 31, 19, 31, 35, 25, 28, 21, 17, 18, 32, 28, 27, 25, 52, 303, 237, 62, 99, 94, 16, 102, 17, 15, 31, 25, 8, 26, 25, 13, 22, 37, 24, 18, 21, 14, 39, 20, 23, 16, 22, 44, 30, 11, 12, 15, 25, 66, 52, 39, 15, 88, 16, 16, 16, 36, 17, 12, 17, 25, 18, 18, 15, 28, 33, 9, 16, 12, 19, 21, 27, 22, 30, 104, 243, 36, 108, 31, 22, 36, 5, 13, 19, 11, 35, 4, 25, 29, 7, 18, 19, 39, 28, 30, 23, 27, 15, 10, 22, 16, 23, 44, 24, 9, 48, 37, 43, 4, 8, 18, 33, 36, 30, 18, 19, 7, 23, 20, 37, 18, 29, 14, 16, 24, 8, 20, 17, 32, 41, 26, 11, 28, 18, 15, 41, 9, 19, 12, 28, 32, 17, 28, 36, 8, 13, 25, 31, 15, 15, 26, 90, 65, 102, 27, 5, 14, 35, 23, 29, 10, 13, 19, 15, 32, 14, 12, 27, 30, 26, 25, 20, 6, 12, 6, 22, 24, 24, 21, 28, 28, 23, 34, 71, 4, 20, 47, 21, 13, 85, 161, 10, 4, 8, 26, 20, 7, 30, 23, 38, 7, 42, 36, 29, 33, 33, 24, 23, 17, 26, 6, 20, 12, 20, 47, 9, 52, 115, 4, 15, 16, 21, 29, 27, 19, 6, 19, 37, 21, 36, 43, 6, 17, 40, 15, 17, 24, 24, 27, 18, 28, 185, 14, 13, 12, 24, 24, 142, 19, 10, 26, 38, 13, 18, 14, 30, 19, 23, 17, 30, 21, 25, 28, 12, 29, 22, 25, 46, 19, 4, 28, 213, 29, 416, 13, 101, 6, 10, 44, 33, 6, 19, 20, 36, 39, 10, 40, 13, 15, 33, 33, 13, 18, 12, 15, 27, 21, 38, 11, 30, 15, 55, 38, 5, 54, 11, 7, 15, 8, 42, 4, 23, 29, 23, 25, 32, 24, 39, 4, 4, 13, 30, 21, 27, 7, 21, 21, 3, 22, 16, 31, 26, 8, 32, 121, 26, 120, 13, 39, 48, 15, 41, 25, 18, 34, 37, 9, 29, 31, 27, 16, 17, 37, 13, 22, 7, 41, 34, 17, 25, 13, 4, 98, 63, 31, 41, 293, 160, 23, 129, 9, 13, 3, 34, 23, 17, 14, 25, 5, 25, 22, 19, 11, 9, 30, 28, 13, 7, 35, 26, 9, 49, 5, 50, 108, 87, 53, 46, 14, 7, 6, 27, 11, 44, 27, 9, 22, 23, 29, 29, 41, 20, 35, 18, 24, 20, 45, 15, 15, 38, 65, 44, 40, 31, 155, 9, 606, 7, 6, 16, 13, 24, 21, 21, 4, 32, 19, 35, 24, 18, 33, 17, 16, 14, 36, 21, 20, 25, 24, 39, 23, 11, 32, 18, 48, 9, 17, 220, 75, 11, 18, 16, 19, 18, 28, 22, 35, 18, 23, 12, 26, 24, 40, 13, 2, 30, 23, 6, 25, 42, 10, 21, 41, 14, 471, 13, 17, 85, 24, 89, 4, 11, 31, 10, 15, 11, 14, 38, 12, 43, 38, 19, 24, 40, 37, 9, 18, 25, 12, 20, 42, 52, 6, 10, 88, 43, 29, 9, 36, 24, 38, 40, 17, 28, 27, 31, 26, 18, 27, 11, 31, 31, 33, 30, 7, 25, 29, 33, 29, 36, 10, 10, 33, 90, 6, 4, 63, 67, 418, 37, 8, 30, 35, 23, 34, 38, 13, 28, 25, 31, 19, 19, 28, 35, 21, 4, 39, 29, 23, 37, 10, 267, 12, 156, 32, 33, 99, 32, 16, 9, 9, 15, 30, 21, 14, 29, 43, 27, 11, 17, 34, 21, 30, 21, 19, 33, 43, 31, 21, 10, 91, 8, 26, 20, 4, 98, 15, 27, 140, 19, 37, 27, 32, 22, 16, 27, 19, 26, 20, 20, 14, 17, 25, 40, 16, 32, 36, 35, 22, 31, 19, 6, 75, 4, 18, 5, 63, 9, 81, 9, 8, 37, 39, 15, 30, 22, 7, 17, 25, 12, 12, 24, 33, 34, 36, 38, 17, 28, 21, 9, 46, 7, 14, 9, 48, 35, 29, 18, 47, 19, 26, 14, 31, 11, 44, 18, 5, 8, 41, 15, 33, 20, 21, 24, 42, 20, 40, 31, 27, 29, 41, 21, 50, 47, 41, 9, 29, 91, 66, 7, 14, 29, 35, 30, 40, 35, 15, 15, 25, 22, 25, 25, 31, 21, 13, 35, 41, 28, 20, 46, 10, 9, 76, 28, 35, 7, 6, 60, 19, 81, 15, 29, 4, 3, 22, 13, 22, 14, 10, 11, 39, 6, 25, 6, 7, 25, 27, 15, 34, 17, 28, 54, 86, 7, 20, 34, 113, 385, 25, 7, 19, 2, 18, 33, 29, 11, 41, 13, 22, 32, 19, 11, 15, 21, 31, 23, 18, 20, 19, 31, 32, 31, 54, 10, 48, 6, 23, 36, 48, 170, 36, 20, 33, 22, 34, 36, 35, 16, 32, 12, 24, 20, 31, 10, 19, 28, 9, 26, 25, 34, 5, 23, 75, 14, 104, 42, 101, 66, 220, 13, 33, 14, 25, 10, 24, 15, 42, 23, 43, 19, 14, 34, 23, 17, 27, 17, 15, 48, 30, 8, 58, 10, 110, 8, 13, 49, 51, 26, 56, 17, 33, 31, 23, 20, 36, 27, 18, 26, 35, 47, 14, 37, 31, 24, 10, 27, 15, 18, 28, 11, 155, 32, 7, 50, 9, 8, 528, 94, 142, 43, 12, 29, 20, 20, 29, 22, 34, 11, 29, 32, 14, 29, 2, 15, 17, 24, 20, 38, 17, 22, 28, 63, 27, 13, 221, 8, 8, 313, 36, 32, 7, 14, 10, 18, 28, 5, 27, 18, 33, 27, 36, 38, 6, 28, 15, 30, 26, 16, 18, 14, 35, 227, 7, 100, 151, 48, 36, 24, 45, 26, 19, 14, 8, 31, 32, 24, 17, 40, 38, 21, 36, 38, 21, 28, 28, 10, 26, 14, 25, 15, 8, 41, 3, 35, 45, 74, 21, 6, 68, 30, 18, 39, 34, 7, 40, 38, 31, 23, 27, 17, 15, 19, 35, 20, 44, 30, 7, 33, 34, 15, 109, 65, 40, 34, 34, 10, 9, 10, 112, 15, 11, 23, 30, 13, 17, 26, 21, 34, 15, 18, 18, 27, 11, 23, 23, 29, 7, 27, 8, 2, 25, 8, 79, 146, 21, 70, 132, 27, 47, 17, 7, 45, 18, 17, 20, 28, 9, 9, 18, 25, 24, 12, 30, 19, 20, 28, 23, 31, 29, 94, 37, 28, 67, 61, 25, 59, 29, 13, 4, 22, 11, 41, 14, 39, 28, 31, 41, 45, 24, 20, 27, 32, 23, 18, 44, 33, 50, 21, 412, 99, 19, 104, 45, 20, 38, 34, 13, 25, 13, 9, 22, 14, 16, 30, 13, 16, 24, 25, 12, 24, 16, 24, 14, 3, 8, 25, 18, 8, 42, 6, 12, 93, 375, 53, 30, 53, 10, 21, 14, 7, 24, 23, 43, 28, 12, 35, 13, 16, 35, 13, 24, 14, 21, 28, 23, 7, 20, 99, 8, 20, 13, 10, 4, 15, 75, 32, 16, 6, 7, 5, 8, 30, 4, 12, 10, 23, 11, 6, 23, 54, 48, 16, 178, 7, 57, 11, 4, 6, 21, 8, 42, 19, 28, 21, 7, 19, 11, 20, 23, 22, 31, 28, 15, 16, 27, 35, 14, 22, 9, 13, 38, 71, 5, 65, 24, 30, 57, 89, 25, 12, 39, 11, 3, 14, 38, 15, 36, 1, 9, 6, 36, 29, 32, 26, 19, 21, 25, 32, 27, 11, 25, 6, 27, 8, 68, 16, 39, 59, 4, 24, 23, 8, 35, 12, 15, 43, 28, 10, 12, 7, 28, 27, 24, 15, 29, 21, 27, 23, 33, 36, 12, 5, 21, 10, 9, 22, 59, 22, 13, 39, 26, 26, 9, 18, 38, 17, 30, 39, 16, 33, 14, 36, 30, 23, 32, 31, 10, 4, 161, 125, 13, 13, 20, 62, 13, 11, 25, 18, 16, 22, 28, 8, 13, 26, 15, 15, 34, 20, 19, 7, 10, 28, 18, 10, 28, 23, 91, 69, 91, 254, 37, 12, 61, 5, 202, 3, 25, 34, 8, 21, 25, 25, 16, 30, 16, 26, 9, 32, 37, 31, 13, 20, 33, 8, 14, 21, 7, 7, 7, 29, 66, 10, 23, 17, 19, 41, 7, 25, 17, 13, 4, 41, 13, 32, 28, 13, 22, 25, 24, 26, 18, 3, 18, 25, 2, 405, 32, 26, 103, 26, 7, 9, 52, 12, 15, 18, 27, 31, 41, 32, 14, 9, 39, 8, 9, 18, 26, 12, 24, 34, 25, 42, 4, 37, 11, 38, 62, 30, 61, 177, 177, 235, 231, 5, 10, 18, 17, 13, 28, 41, 7, 9, 18, 33, 28, 42, 1, 7, 38, 19, 28, 43, 32, 15, 14, 46, 14, 9, 13, 52, 5, 32, 13, 20, 15, 19, 30, 18, 16, 26, 16, 24, 27, 17, 21, 31, 29, 13, 14, 18, 25, 8, 25, 23, 11, 151, 54, 46, 241, 86, 22, 20, 23, 50, 76, 24, 32, 12, 17, 27, 25, 19, 19, 23, 25, 28, 8, 13, 23, 22, 9, 4, 9, 25, 16, 21, 4, 8, 14, 40, 39, 21, 19, 40, 23, 38, 21, 18, 22, 20, 8, 6, 17, 13, 15, 10, 20, 13, 12, 15, 15, 4, 50, 69, 43, 18, 7, 13, 10, 11, 92, 16, 22, 28, 31, 31, 33, 7, 29, 31, 20, 12, 10, 23, 15, 19, 17, 16, 13, 19, 59, 30, 6, 525, 10, 28, 23, 15, 17, 24, 17, 29, 24, 29, 22, 12, 3, 44, 7, 15, 29, 38, 16, 28, 36, 16, 22, 4, 37, 89, 18, 9, 8, 20, 10, 84, 15, 69, 20, 32, 33, 16, 13, 16, 20, 17, 22, 18, 19, 9, 19, 16, 16, 20, 31, 19, 36, 34, 58, 5, 14, 5, 113, 11, 393, 12, 7, 9, 27, 18, 7, 32, 39, 41, 13, 16, 22, 7, 15, 27, 21, 12, 20, 26, 4, 29, 8, 25, 83, 12, 7, 180, 25, 9, 7, 8, 36, 32, 11, 31, 23, 29, 7, 3, 13, 32, 17, 2, 16, 13, 18, 34, 15, 6, 51, 6, 362, 917, 53, 347, 14, 5, 20, 43, 25, 21, 36, 17, 8, 16, 22, 15, 3, 14, 14, 26, 23, 46, 20, 27, 8, 42, 14, 21, 9, 3, 11, 19, 17, 19, 30, 22, 32, 13, 12, 6, 9, 16, 6, 23, 18, 15, 23, 40, 43, 40, 15, 34, 28, 8, 18, 279, 6, 8, 125, 23, 10, 21, 17, 6, 9, 25, 5, 31, 24, 28, 16, 23, 23, 28, 20, 2, 17, 17, 20, 27, 24, 33, 16, 13, 3, 42, 3, 9, 98, 33, 11, 19, 28, 4, 26, 15, 23, 18, 32, 21, 24, 12, 9, 17, 91, 10, 7, 13, 47, 35, 10, 65, 44, 19, 21, 48, 42, 34, 38, 21, 32, 11, 22, 24, 16, 12, 17, 22, 26, 4, 33, 12, 33, 17, 8, 39, 5, 21, 32, 36, 27, 18, 24, 15, 2, 13, 13, 35, 2, 15, 8, 7, 6, 6, 17, 21, 3, 17, 16, 9, 11, 73, 21, 36, 113, 7, 9, 13, 23, 11, 16, 32, 28, 34, 22, 19, 1, 19, 23, 20, 23, 18, 30, 28, 31, 6, 96, 19, 36, 8, 23, 40, 44, 9, 16, 15, 28, 20, 19, 8, 21, 25, 23, 17, 28, 12, 33, 29, 29, 14, 13, 27, 11, 58, 7, 72, 25, 62, 42, 10, 79, 31, 17, 14, 28, 14, 30, 36, 28, 2, 4, 11, 2, 19, 13, 11, 47, 28, 25, 214, 9, 7, 13, 23, 26, 22, 9, 47, 19, 5, 6, 12, 13, 24, 22, 30, 18, 10, 15, 21, 6, 17, 17, 29, 9, 18, 9, 6, 8, 6, 8, 16, 35, 406, 76, 21, 20, 24, 16, 28, 26, 13, 19, 37, 5, 22, 15, 31, 14, 7, 19, 29, 28, 9, 20, 34, 49, 24, 28, 95, 12, 13, 13, 22, 361, 42, 26, 25, 27, 28, 4, 12, 22, 5, 30, 20, 8, 26, 27, 6, 11, 16, 32, 17, 11, 10, 44, 7, 24, 846, 55, 37, 92, 15, 15, 26, 28, 35, 7, 47, 26, 1, 10, 5, 5, 33, 33, 6, 32, 17, 24, 19, 38, 32, 21, 28, 82, 55, 60, 4, 17, 6, 5, 26, 194, 29, 5, 35, 23, 20, 27, 22, 4, 23, 12, 23, 33, 10, 30, 38, 5, 10, 22, 22, 8, 20, 9, 13, 27, 397, 17, 38, 10, 6, 23, 16, 9, 16, 2, 9, 9, 19, 7, 18, 19, 21, 27, 24, 7, 24, 13, 14, 135, 102, 22, 6, 8, 66, 5, 5, 5, 25, 9, 12, 20, 26, 14, 37, 32, 23, 11, 25, 27, 31, 6, 16, 19, 13, 27, 17, 15, 18, 21, 11, 17, 3, 10, 7, 6, 18, 20, 18, 10, 9, 22, 3, 20, 10, 35, 49, 30, 23, 15, 5, 37, 18, 21, 10, 8, 22, 115, 140, 6, 55, 12, 289, 10, 62, 14, 26, 18, 31, 22, 32, 19, 10, 28, 7, 12, 19, 9, 17, 8, 13, 43, 6, 7, 5, 26, 5, 25, 8, 11, 8, 65, 10, 4, 10, 24, 25, 29, 14, 13, 7, 24, 25, 11, 23, 11, 6, 26, 17, 16, 110, 13, 68, 69, 14, 25, 40, 19, 31, 9, 5, 20, 20, 10, 46, 25, 28, 8, 21, 28, 17, 15, 28, 7, 15, 9, 13, 28, 24, 5, 2, 32, 74, 5, 40, 66, 13, 55, 24, 109, 10, 35, 18, 37, 18, 28, 35, 11, 15, 19, 25, 25, 17, 19, 22, 18, 12, 19, 10, 41, 44, 8, 76, 12, 13, 12, 67, 50, 25, 84, 8, 31, 29, 16, 25, 24, 30, 11, 24, 19, 11, 8, 45, 43, 13, 6, 11, 28, 16, 4, 24, 3, 1127, 23, 5, 46, 14, 14, 16, 8, 11, 21, 16, 45, 32, 29, 22, 8, 18, 27, 11, 22, 10, 5, 9, 21, 7, 26, 23, 13, 6, 4, 47, 8, 4, 61, 26, 32, 62, 17, 4, 8, 13, 17, 14, 6, 5, 26, 12, 19, 3, 5, 23, 10, 3, 27, 20, 27, 11, 42, 43, 11, 20, 15, 13, 17, 13, 518, 19, 22, 15, 9, 4, 11, 10, 31, 25, 18, 29, 26, 38, 39, 12, 37, 12, 28, 21, 15, 10, 30, 29, 13, 48, 33, 6, 22, 19, 290, 22, 16, 10, 25, 16, 8, 10, 12, 11, 8, 9, 25, 44, 8, 17, 20, 28, 214, 228, 20, 124, 123, 20, 45, 147, 60, 25, 22, 33, 10, 10, 14, 9, 11, 5, 23, 25, 17, 30, 18, 22, 28, 20, 22, 21, 155, 71, 22, 14, 128, 25, 21, 18, 16, 184, 16, 6, 28, 36, 28, 32, 16, 31, 7, 15, 6, 27, 13, 19, 34, 22, 8, 10, 17, 12, 31, 154, 24, 36, 12, 31, 55, 73, 4, 88, 10, 22, 25, 19, 21, 35, 27, 46, 7, 16, 22, 12, 1, 6, 12, 21, 24, 27, 14, 45, 34, 44, 105, 4, 153, 12, 59, 32, 99, 3, 24, 26, 25, 26, 20, 34, 31, 19, 10, 15, 9, 37, 22, 8, 32, 23, 21, 23, 38, 21, 4, 124, 19, 25, 40, 226, 10, 31, 30, 15, 17, 16, 29, 9, 14, 31, 12, 21, 21, 24, 35, 12, 17, 14, 11, 28, 7, 15, 11, 89, 36, 43, 15, 51, 53, 28, 13, 72, 100, 14, 9, 20, 28, 22, 6, 23, 26, 21, 21, 4, 24, 13, 15, 27, 26, 11, 29, 13, 9, 25, 15, 18, 30, 18, 40, 44, 36, 46, 21, 8, 9, 33, 19, 33, 17, 12, 27, 4, 11, 11, 28, 16, 5, 11, 10, 15, 27, 83, 16, 28, 49, 53, 68, 5, 7, 19, 7, 23, 6, 18, 10, 25, 16, 30, 20, 38, 6, 16, 6, 13, 19, 17, 19, 6, 18, 19, 64, 61, 11, 71, 186, 73, 19, 122, 63, 17, 12, 33, 15, 7, 37, 31, 8, 15, 17, 9, 11, 38, 27, 4, 35, 26, 10, 21, 32, 14, 75, 11, 79, 36, 11, 29, 6, 44, 91, 65, 4, 33, 39, 35, 16, 10, 34, 8, 22, 25, 33, 17, 15, 23, 20, 31, 14, 30, 19, 28, 30, 38, 44, 73, 39, 139, 19, 68, 13, 6, 29, 8, 7, 22, 32, 31, 26, 21, 6, 1, 16, 3, 11, 9, 29, 6, 21, 23, 23, 4, 23, 48, 13, 5, 17, 49, 176, 10, 23, 21, 11, 6, 22, 11, 27, 19, 12, 9, 3, 25, 25, 39, 10, 19, 5, 30, 4, 36, 19, 42, 6, 9, 124, 29, 13, 116, 19, 139, 17, 12, 21, 33, 40, 24, 22, 31, 17, 29, 18, 33, 5, 25, 32, 35, 10, 17, 14, 9, 32, 25, 89, 12, 58, 15, 13, 28, 58, 17, 33, 18, 6, 14, 10, 24, 14, 31, 34, 1, 8, 26, 20, 13, 14, 19, 26, 16, 22, 33, 13, 72, 4, 227, 2, 230, 7, 98, 11, 31, 25, 9, 26, 6, 9, 3, 28, 16, 15, 17, 26, 21, 7, 41, 8, 5, 35, 65, 7, 26, 33, 6, 18, 1, 17, 38, 17, 24, 8, 31, 13, 8, 14, 11, 27, 11, 23, 7, 7, 13, 18, 19, 14, 30, 13, 42, 15, 46, 46, 15, 7, 16, 69, 22, 27, 43, 22, 34, 27, 23, 18, 18, 20, 27, 33, 18, 23, 26, 19, 24, 11, 14, 23, 12, 103, 25, 15, 69, 9, 15, 29, 66, 15, 13, 31, 35, 7, 27, 18, 32, 35, 23, 13, 34, 30, 13, 43, 14, 12, 28, 30, 24, 5, 4, 30, 63, 380, 40, 18, 8, 6, 24, 59, 10, 8, 21, 31, 29, 14, 15, 24, 5, 42, 16, 32, 22, 18, 17, 13, 24, 9, 12, 10, 16, 10, 68, 61, 26, 16, 41, 10, 5, 13, 9, 36, 8, 27, 23, 19, 33, 17, 6, 11, 17, 3, 26, 7, 23, 13, 16, 10, 21, 14, 29, 134, 49, 14, 80, 19, 34, 25, 36, 13, 21, 23, 30, 11, 34, 17, 27, 41, 14, 16, 36, 17, 37, 25, 22, 5, 3, 2, 16, 16, 9, 103, 13, 7, 12, 242, 88, 108, 9, 29, 13, 21, 22, 21, 7, 18, 10, 23, 6, 17, 25, 15, 24, 34, 23, 10, 14, 10, 33, 19, 21, 15, 29, 28, 485, 20, 63, 104, 1080, 5, 25, 40, 11, 24, 14, 33, 30, 23, 13, 12, 21, 13, 24, 17, 8, 40, 11, 35, 11, 5, 106, 67, 24, 27, 211, 9, 132, 7, 9, 15, 24, 29, 13, 28, 8, 27, 21, 6, 24, 28, 15, 32, 37, 37, 10, 4, 18, 27, 20, 7, 5, 5, 32, 20, 12, 85, 11, 341, 33, 16, 25, 7, 14, 27, 28, 19, 21, 15, 10, 2, 9, 37, 22, 10, 8, 36, 37, 68, 79, 7, 49, 24, 36, 3, 17, 7, 8, 13, 21, 16, 33, 21, 9, 30, 29, 24, 23, 16, 16, 17, 24, 9, 50, 117, 28, 11, 6, 42, 11, 8, 602, 75, 8, 7, 9, 31, 12, 12, 26, 12, 38, 36, 13, 14, 7, 24, 10, 18, 20, 7, 26, 26, 196, 6, 15, 41, 9, 12, 45, 17, 11, 11, 28, 22, 7, 12, 19, 39, 25, 24, 20, 19, 17, 23, 30, 23, 17, 26, 11, 13, 24, 14, 70, 5, 23, 8, 54, 48, 39, 31, 14, 8, 38, 6, 7, 33, 6, 25, 2, 36, 1, 7, 17, 21, 21, 18, 17, 15, 14, 24, 16, 9, 92, 4, 8, 45, 8, 14, 30, 90, 23, 8, 15, 5, 20, 22, 17, 15, 10, 24, 25, 13, 19, 19, 28, 26, 22, 13, 12, 34, 16, 33, 9, 9, 19, 20, 11, 82, 42, 27, 38, 38, 18, 18, 3, 23, 16, 27, 11, 27, 26, 14, 21, 11, 23, 22, 30, 21, 39, 26, 27, 47, 9, 20, 23, 27, 139, 4, 8, 10, 15, 8, 16, 29, 27, 27, 29, 11, 18, 34, 12, 28, 6, 11, 8, 40, 167, 4, 37, 36, 5, 26, 23, 5, 15, 24, 16, 22, 6, 13, 22, 9, 16, 19, 4, 24, 26, 21, 21, 40, 28, 17, 21, 34, 38, 65, 6, 13, 1179, 4, 8, 10, 20, 10, 22, 25, 20, 30, 16, 17, 20, 4, 10, 19, 16, 28, 10, 22, 19, 18, 21, 30, 24, 10, 19, 42, 35, 3, 44, 5, 87, 70, 12, 28, 28, 21, 28, 10, 43, 27, 12, 34, 33, 21, 33, 22, 31, 37, 8, 20, 20, 19, 13, 19, 61, 5, 17, 122, 12, 19, 286, 42, 34, 30, 17, 24, 18, 20, 23, 14, 19, 9, 8, 8, 9, 24, 26, 9, 18, 25, 14, 78, 13, 22, 140, 36, 4, 3, 5, 9, 4, 41, 9, 20, 35, 21, 20, 36, 7, 11, 24, 21, 23, 31, 29, 35, 17, 31, 23, 22, 8, 14, 55, 53, 8, 38, 6, 4, 9, 11, 6, 12, 29, 18, 17, 12, 29, 18, 4, 11, 33, 13, 35, 6, 12, 4, 4, 12, 35, 15, 14, 31, 41, 17, 55, 7, 16, 25, 32, 10, 176, 3, 20, 27, 32, 26, 25, 11, 38, 13, 10, 24, 12, 24, 14, 18, 22, 26, 17, 8, 37, 41, 83, 22, 24, 77, 169, 4, 32, 40, 31, 33, 44, 7, 23, 30, 21, 12, 20, 16, 21, 16, 35, 37, 27, 17, 25, 15, 13, 12, 34, 133, 22, 83, 17, 54, 13, 21, 163, 39, 56, 4, 5, 11, 32, 21, 11, 30, 34, 38, 49, 11, 29, 27, 6, 25, 23, 40, 19, 23, 26, 30, 32, 49, 29, 31, 112, 14, 33, 104, 30, 8, 9, 17, 12, 26, 4, 19, 39, 26, 22, 28, 18, 16, 21, 17, 33, 24, 23, 25, 27, 15, 14, 72, 15, 9, 32, 48, 194, 40, 6, 40, 11, 20, 11, 13, 12, 28, 35, 40, 15, 10, 27, 44, 8, 14, 16, 21, 15, 13, 123, 70, 45, 23, 4, 17, 11, 21, 4, 4, 27, 15, 17, 23, 8, 18, 8, 24, 11, 42, 20, 34, 21, 25, 25, 6, 7, 15, 23, 75, 62, 9, 102, 23, 3, 11, 113, 6, 114, 24, 34, 20, 19, 31, 9, 31, 7, 26, 14, 14, 15, 13, 30, 23, 27, 14, 7, 20, 29, 20, 10, 6, 53, 40, 4, 3, 23, 10, 5, 25, 8, 23, 20, 21, 5, 24, 16, 18, 27, 5, 8, 13, 27, 4, 14, 13, 6, 13, 28, 16, 26, 19, 15, 7, 20, 46, 16, 15, 19, 16, 9, 42, 13, 37, 19, 26, 4, 18, 34, 24, 30, 36, 26, 25, 29, 26, 19, 16, 13, 15, 66, 10, 26, 39, 67, 64, 43, 617, 103, 30, 2, 6, 7, 31, 8, 15, 21, 25, 6, 9, 11, 5, 5, 19, 17, 19, 5, 6, 46, 22, 31, 2, 9, 8, 19, 14, 18, 33, 33, 32, 38, 27, 22, 8, 29, 5, 29, 5, 22, 30, 7, 22, 34, 25, 20, 16, 5, 14, 6, 13, 15, 24, 24, 21, 5, 16, 18, 9, 14, 18, 37, 27, 22, 54, 4, 32, 18, 37, 184, 20, 10, 56, 28, 9, 24, 36, 30, 16, 7, 18, 12, 22, 23, 29, 10, 6, 15, 13, 27, 113, 9, 24, 39, 7, 13, 7, 35, 199, 5, 2, 15, 22, 14, 16, 3, 36, 29, 2, 19, 10, 33, 24, 22, 14, 24, 26, 3, 21, 36, 17, 12, 50, 85, 32, 31, 155, 15, 14, 11, 16, 31, 8, 15, 27, 35, 7, 28, 25, 26, 6, 9, 9, 7, 35, 14, 8, 24, 18, 23, 19, 211, 18, 6, 62, 18, 8, 24, 135, 11, 22, 4, 32, 11, 17, 5, 17, 20, 32, 3, 6, 29, 19, 33, 27, 15, 18, 1, 29, 49, 39, 5, 5, 12, 29, 38, 43, 17, 29, 16, 29, 6, 14, 24, 26, 32, 38, 18, 9, 34, 26, 18, 30, 52, 6, 5, 119, 32, 14, 16, 48, 10, 23, 21, 22, 16, 19, 17, 8, 29, 17, 30, 13, 6, 4, 13, 17, 29, 16, 4, 26, 12, 15, 1, 7, 59, 95, 23, 7, 157, 128, 85, 7, 19, 16, 33, 15, 14, 33, 27, 25, 15, 37, 18, 21, 43, 31, 18, 15, 32, 16, 32, 18, 8, 15, 7, 137, 8, 11, 95, 8, 5, 50, 15, 35, 27, 37, 36, 20, 22, 36, 4, 4, 7, 28, 3, 36, 39, 28, 15, 29, 24, 8, 12, 244, 24, 69, 11, 253, 6, 12, 11, 32, 30, 24, 28, 24, 33, 18, 24, 25, 18, 17, 4, 16, 5, 8, 25, 18, 27, 21, 5, 24, 66, 52, 131, 12, 8, 25, 10, 7, 10, 16, 23, 35, 13, 30, 19, 33, 19, 34, 22, 25, 28, 13, 16, 20, 15, 36, 39, 19, 26, 17, 11, 15, 26, 191, 257, 197, 204, 47, 10, 46, 7, 21, 5, 8, 17, 31, 23, 5, 39, 21, 22, 10, 22, 16, 23, 34, 13, 10, 9, 99, 23, 87, 78, 16, 16, 86, 215, 13, 70, 32, 27, 20, 11, 24, 42, 6, 23, 25, 18, 22, 7, 30, 22, 27, 22, 22, 15, 213, 429, 8, 17, 6, 19, 133, 44, 6, 6, 31, 10, 24, 29, 42, 27, 11, 9, 14, 23, 6, 10, 15, 14, 26, 27, 24, 20, 12, 29, 21, 8, 20, 106, 56, 20, 14, 27, 11, 25, 12, 29, 6, 23, 22, 27, 17, 32, 35, 39, 21, 15, 6, 19, 4, 28, 28, 32, 28, 26, 30, 11, 39, 10, 4, 25, 68, 38, 4, 13, 7, 26, 8, 19, 23, 33, 17, 10, 17, 41, 12, 14, 28, 108, 11, 76, 8, 10, 14, 26, 25, 48, 11, 14, 24, 5, 22, 18, 30, 17, 44, 23, 34, 24, 32, 45, 27, 7, 4, 23, 15, 41, 85, 15, 40, 16, 61, 23, 3, 10, 5, 68, 32, 30, 23, 16, 34, 7, 14, 30, 26, 8, 6, 35, 17, 5, 21, 13, 8, 20, 30, 12, 248, 56, 61, 31, 45, 16, 131, 96, 7, 47, 23, 8, 15, 27, 37, 14, 33, 41, 20, 7, 8, 27, 31, 31, 7, 20, 16, 9, 25, 4, 18, 128, 127, 9, 5, 63, 22, 13, 6, 4, 19, 3, 30, 13, 17, 4, 14, 34, 34, 32, 9, 2, 4, 27, 24, 15, 11, 478, 30, 10, 122, 19, 5, 490, 24, 16, 14, 34, 10, 42, 13, 8, 3, 20, 20, 28, 9, 11, 11, 25, 3, 26, 25, 11, 31, 21, 21, 29, 27, 4, 186, 6, 5, 5, 9, 40, 162, 30, 12, 25, 7, 17, 15, 7, 22, 26, 17, 27, 21, 19, 16, 7, 22, 14, 12, 27, 22, 4, 28, 41, 19, 9, 28, 115, 249, 16, 35, 22, 20, 8, 13, 9, 4, 16, 29, 18, 10, 5, 11, 188, 14, 8, 10, 68, 43, 94, 10, 34, 18, 20, 11, 26, 18, 9, 16, 16, 19, 15, 22, 8, 23, 15, 36, 163, 437, 17, 98, 187, 86, 81, 154, 31, 53, 12, 9, 5, 15, 26, 21, 14, 42, 32, 22, 25, 16, 8, 27, 16, 35, 4, 7, 15, 10, 7, 21, 88, 7, 44, 38, 55, 28, 29, 39, 35, 4, 19, 20, 10, 17, 27, 22, 34, 24, 34, 36, 32, 19, 5, 24, 48, 44, 8, 23, 44, 6, 40, 14, 30, 141, 18, 11, 30, 11, 7, 24, 26, 11, 6, 32, 14, 6, 31, 22, 28, 25, 24, 9, 15, 24, 15, 121, 75, 34, 9, 130, 97, 5, 9, 25, 9, 20, 25, 27, 27, 25, 8, 36, 15, 27, 42, 14, 11, 10, 28, 55, 11, 44, 26, 5, 49, 6, 20, 49, 6, 19, 21, 14, 21, 14, 21, 30, 22, 28, 4, 16, 29, 7, 35, 11, 25, 25, 7, 8, 28, 43, 6, 16, 11, 41, 60, 16, 4, 33, 5, 16, 18, 32, 3, 3, 17, 24, 9, 5, 23, 4, 7, 43, 7, 27, 3, 24, 13, 12, 21, 14, 65, 9, 21, 40, 5, 12, 21, 12, 35, 14, 11, 30, 13, 30, 21, 42, 9, 23, 39, 15, 11, 27, 30, 24, 16, 25, 240, 34, 403, 5, 8, 8, 80, 28, 88, 4, 20, 19, 6, 18, 24, 25, 9, 21, 19, 28, 30, 9, 17, 21, 17, 39, 30, 36, 12, 6, 15, 96, 468, 8, 11, 19, 45, 66, 154, 453, 17, 12, 10, 17, 23, 44, 11, 2, 8, 3, 6, 27, 31, 60, 50, 93, 27, 316, 109, 7, 261, 21, 14, 6, 32, 24, 23, 7, 35, 19, 13, 18, 20, 9, 4, 13, 29, 10, 5, 8, 10, 19, 82, 71, 252, 11, 183, 13, 11, 46, 104, 174, 9, 37, 20, 6, 5, 8, 20, 10, 35, 11, 26, 22, 8, 33, 19, 38, 10, 16, 10, 19, 39, 16, 8, 25, 17, 14, 19, 11, 29, 4, 9, 13, 38, 32, 28, 26, 30, 16, 9, 14, 20, 18, 17, 14, 4, 41, 13, 114, 28, 13, 54, 32, 26, 49, 50, 154, 13, 14, 11, 25, 18, 10, 31, 12, 23, 20, 12, 18, 9, 8, 8, 23, 8, 20, 39, 27, 17, 19, 4, 4, 84, 21, 10, 12, 45, 48, 28, 7, 15, 32, 25, 10, 19, 6, 29, 6, 6, 21, 10, 22, 23, 7, 34, 17, 18, 22, 29, 6, 16, 4, 89, 33, 27, 326, 55, 31, 87, 26, 23, 8, 29, 22, 23, 19, 20, 27, 40, 21, 20, 28, 27, 19, 26, 14, 22, 33, 7, 8, 5, 8, 106, 9, 21, 3, 30, 35, 23, 15, 23, 13, 8, 18, 17, 10, 18, 23, 19, 17, 20, 21, 22, 10, 5, 24, 7, 75, 34, 23, 7, 30, 7, 57, 12, 67, 41, 34, 26, 11, 26, 9, 20, 20, 8, 25, 16, 32, 25, 37, 23, 4, 7, 14, 8, 14, 27, 25, 8, 85, 20, 7, 50, 15, 11, 234, 33, 6, 16, 11, 38, 23, 4, 5, 7, 9, 6, 23, 14, 21, 4, 163, 25, 10, 7, 18, 12, 15, 39, 25, 88, 19, 39, 12, 32, 15, 9, 41, 23, 26, 28, 38, 33, 28, 28, 26, 15, 10, 23, 9, 7, 9, 15, 10, 27, 47, 5, 11, 123, 34, 25, 16, 24, 34, 18, 10, 23, 44, 23, 32, 26, 39, 17, 24, 24, 19, 25, 25, 15, 22, 17, 6, 44, 16, 102, 187, 113, 42, 29, 34, 119, 26, 22, 10, 8, 21, 18, 14, 25, 12, 30, 6, 15, 6, 20, 6, 21, 9, 7, 104, 3, 30, 12, 71, 112, 21, 33, 18, 329, 29, 30, 30, 43, 24, 38, 34, 20, 29, 35, 36, 33, 22, 30, 31, 36, 38, 41, 35, 19, 9, 13, 116, 55, 16, 168, 17, 64, 4, 55, 15, 17, 34, 23, 20, 15, 21, 41, 45, 15, 27, 22, 24, 17, 20, 9, 17, 19, 22, 22, 139, 13, 133, 28, 5, 54, 227, 63, 30, 152, 25, 28, 18, 21, 10, 21, 8, 8, 28, 34, 29, 12, 17, 15, 15, 7, 27, 5, 34, 291, 17, 8, 123, 6, 37, 21, 13, 20, 20, 30, 31, 17, 42, 20, 28, 14, 32, 31, 39, 28, 4, 34, 22, 25, 3, 20, 12, 7, 46, 12, 17, 27, 95, 14, 30, 356, 15, 6, 21, 8, 23, 28, 17, 25, 36, 22, 28, 22, 10, 27, 20, 30, 18, 31, 6, 36, 8, 18, 155, 69, 588, 15, 27, 89, 24, 85, 239, 56, 17, 7, 25, 21, 14, 15, 32, 26, 19, 34, 15, 5, 11, 19, 11, 163, 249, 33, 68, 15, 22, 39, 37, 93, 37, 4, 8, 38, 10, 24, 20, 17, 2, 12, 16, 18, 4, 7, 24, 11, 13, 22, 16, 24, 30, 12, 84, 22, 27, 37, 12, 7, 22, 204, 23, 21, 36, 37, 35, 29, 24, 34, 18, 18, 17, 8, 10, 37, 27, 9, 36, 11, 9, 32, 33, 13, 66, 33, 3, 23, 53, 82, 29, 105, 20, 19, 21, 5, 28, 34, 22, 7, 28, 24, 41, 26, 4, 25, 31, 22, 18, 18, 14, 34, 28, 22, 6, 153, 46, 12, 20, 30, 375, 11, 18, 29, 11, 23, 21, 16, 16, 25, 15, 14, 16, 18, 19, 7, 26, 5, 25, 18, 7, 24, 18, 16, 27, 25, 20, 19, 639, 4, 111, 77, 8, 24, 28, 9, 8, 8, 16, 21, 14, 19, 19, 22, 3, 11, 6, 3, 20, 7, 27, 30, 5, 19, 22, 4, 15, 74, 43, 6, 45, 27, 3, 12, 2, 39, 33, 15, 23, 17, 6, 39, 40, 21, 29, 6, 12, 8, 89, 44, 26, 83, 9, 349, 8, 3, 39, 10, 22, 18, 15, 27, 25, 11, 21, 15, 16, 31, 25, 12, 16, 18, 14, 24, 12, 11, 43, 13, 23, 112, 4, 13, 10, 46, 32, 9, 14, 136, 43, 27, 31, 5, 26, 11, 15, 34, 25, 25, 29, 28, 15, 36, 28, 17, 13, 30, 19, 6, 118, 13, 4, 8, 54, 12, 22, 13, 5, 14, 26, 35, 16, 17, 25, 17, 35, 17, 5, 19, 10, 11, 16, 36, 27, 24, 14, 22, 15, 10, 10, 168, 269, 257, 271, 98, 346, 5, 20, 18, 11, 41, 21, 15, 32, 18, 19, 24, 25, 31, 24, 13, 10, 39, 30, 40, 33, 28, 6, 9, 65, 19, 22, 20, 138, 38, 12, 29, 40, 17, 5, 17, 50, 42, 25, 15, 12, 27, 22, 15, 8, 5, 25, 29, 17, 30, 45, 6, 20, 28, 21, 34, 132, 124, 447, 5, 7, 13, 41, 40, 44, 12, 28, 27, 14, 23, 10, 20, 4, 32, 8, 12, 7, 4, 5, 40, 24, 18, 34, 35, 39, 22, 18, 12, 14, 33, 37, 30, 28, 22, 5, 22, 43, 13, 23, 524, 67, 10, 115, 24, 11, 4, 40, 36, 31, 33, 33, 28, 34, 40, 34, 27, 23, 39, 37, 27, 21, 10, 19, 25, 33, 33, 29, 39, 3, 36, 65, 182, 139, 15, 19, 12, 28, 8, 21, 21, 15, 24, 19, 18, 5, 36, 8, 11, 24, 26, 27, 17, 5, 7, 41, 14, 29, 14, 6, 37, 5, 10, 25, 7, 19, 6, 76, 13, 22, 39, 24, 34, 21, 23, 18, 22, 41, 45, 25, 25, 16, 22, 26, 26, 35, 24, 28, 142, 412, 696, 372, 27, 30, 72, 14, 19, 73, 9, 36, 23, 30, 14, 2, 9, 13, 27, 16, 25, 8, 30, 15, 16, 12, 11, 10, 28, 11, 68, 87, 155, 23, 10, 10, 26, 8, 16, 14, 20, 20, 19, 29, 36, 6, 45, 23, 15, 16, 26, 20, 8, 27, 12, 95, 8, 4, 9, 92, 130, 24, 16, 15, 41, 21, 39, 30, 3, 32, 29, 12, 15, 41, 21, 9, 16, 16, 12, 19, 32, 1, 6, 7, 17, 16, 6, 3, 34, 89, 59, 40, 28, 18, 39, 20, 38, 18, 20, 24, 36, 33, 24, 19, 15, 27, 12, 33, 20, 6, 6, 13, 10, 48, 288, 4, 9, 95, 11, 10, 37, 20, 12, 38, 20, 19, 25, 21, 23, 19, 29, 8, 6, 15, 21, 10, 20, 22, 23, 17, 54, 14, 23, 90, 8, 121, 6, 24, 6, 41, 25, 23, 44, 16, 16, 32, 41, 19, 19, 30, 33, 18, 8, 39, 27, 14, 32, 18, 23, 21, 18, 31, 58, 11, 20, 16, 15, 8, 11, 54, 22, 24, 11, 13, 38, 16, 11, 42, 25, 8, 25, 30, 15, 29, 19, 6, 43, 37, 19, 26, 120, 67, 114, 61, 21, 18, 215, 18, 21, 75, 8, 18, 10, 18, 34, 21, 19, 10, 12, 20, 39, 38, 31, 21, 10, 6, 20, 12, 23, 16, 55, 21, 10, 15, 80, 75, 4, 21, 33, 23, 2, 28, 19, 25, 23, 27, 30, 17, 22, 33, 31, 31, 18, 30, 22, 14, 10, 17, 21, 22, 379, 21, 32, 23, 27, 13, 59, 4, 17, 7, 36, 26, 22, 21, 10, 31, 15, 28, 23, 36, 9, 26, 21, 10, 21, 7, 12, 17, 18, 25, 1274, 61, 136, 11, 151, 630, 79, 186, 87, 60, 15, 32, 20, 37, 16, 10, 32, 22, 28, 25, 34, 9, 29, 35, 24, 5, 11, 20, 22, 27, 16, 22, 38, 40, 43, 12, 26, 8, 38, 14, 30, 4, 29, 42, 39, 28, 32, 28, 24, 21, 7, 18, 9, 31, 25, 11, 35, 45, 17, 16, 16, 94, 61, 53, 25, 99, 122, 72, 85, 10, 10, 15, 13, 14, 14, 22, 8, 28, 10, 33, 40, 8, 12, 11, 11, 10, 19, 18, 9, 26, 394, 65, 6, 2, 73, 209, 23, 353, 7, 15, 38, 8, 23, 13, 12, 16, 16, 12, 17, 41, 31, 15, 42, 14, 22, 44, 6, 19, 205, 4, 217, 18, 16, 18, 375, 32, 56, 29, 20, 28, 41, 16, 11, 11, 24, 8, 25, 9, 21, 14, 3, 32, 16, 14, 123, 54, 254, 200, 424, 123, 54, 6, 180, 96, 18, 45, 34, 30, 30, 26, 13, 38, 16, 15, 33, 23, 26, 33, 30, 31, 5, 19, 25, 38, 118, 66, 55, 6, 48, 54, 3, 67, 267, 45, 33, 25, 6, 22, 4, 24, 27, 19, 14, 28, 5, 14, 7, 17, 28, 22, 11, 11, 13, 11, 385, 382, 47, 265, 138, 12, 104, 224, 40, 111, 14, 10, 29, 20, 9, 37, 18, 35, 4, 33, 33, 20, 12, 10, 20, 10, 31, 21, 8, 12, 106, 7, 8, 43, 23, 6, 32, 8, 18, 22, 30, 35, 22, 10, 7, 26, 22, 23, 9, 21, 14, 28, 16, 25, 22, 18, 33, 20, 16, 16, 19, 40, 55, 30, 42, 195, 4, 56, 11, 20, 22, 9, 5, 31, 8, 16, 15, 21, 30, 29, 18, 16, 23, 11, 21, 28, 7, 25, 22, 48, 156, 8, 14, 24, 132, 12, 53, 17, 10, 9, 24, 6, 11, 28, 12, 9, 107, 6, 127, 35, 23, 81, 360, 15, 25, 50, 17, 14, 44, 18, 47, 37, 36, 44, 23, 14, 27, 14, 17, 25, 34, 26, 15, 22, 28, 7, 90, 22, 83, 9, 6, 19, 123, 87, 50, 12, 23, 29, 36, 28, 13, 21, 9, 21, 25, 26, 41, 33, 25, 11, 31, 19, 20, 33, 27, 7, 6, 26, 43, 12, 8, 41, 9, 11, 720, 19, 10, 18, 17, 7, 41, 5, 11, 4, 20, 14, 2, 14, 77, 18, 64, 58, 8, 20, 10, 94, 644, 60, 22, 23, 9, 33, 39, 5, 22, 21, 39, 13, 41, 28, 11, 26, 7, 24, 17, 6, 24, 20, 22, 27, 20, 26, 313, 13, 28, 4, 7, 20, 20, 37, 12, 36, 33, 18, 10, 9, 5, 18, 20, 8, 24, 19, 23, 31, 21, 11, 6, 8, 126, 24, 21, 33, 22, 25, 12, 445, 25, 27, 36, 9, 11, 17, 25, 26, 11, 36, 12, 14, 7, 10, 23, 28, 8, 26, 17, 26, 6, 20, 46, 8, 108, 33, 98, 66, 94, 10, 10, 16, 18, 15, 37, 19, 12, 26, 38, 11, 18, 17, 21, 41, 21, 7, 7, 250, 22, 3, 413, 24, 28, 17, 287, 27, 16, 18, 10, 32, 16, 17, 27, 34, 27, 16, 8, 38, 66, 130, 67, 16, 17, 19, 4, 7, 10, 57, 28, 25, 12, 6, 18, 35, 31, 5, 33, 26, 20, 10, 21, 27, 32, 17, 42, 8, 18, 8, 7, 29, 86, 39, 14, 94, 19, 43, 74, 5, 23, 25, 20, 30, 39, 8, 35, 21, 36, 23, 11, 9, 24, 33, 13, 17, 9, 23, 28, 15, 9, 9, 14, 185, 4, 8, 291, 16, 11, 22, 19, 27, 16, 34, 23, 20, 22, 24, 38, 34, 40, 40, 23, 2, 20, 29, 28, 20, 26, 13, 21, 15, 45, 29, 30, 69, 22, 8, 11, 9, 30, 4, 19, 6, 44, 34, 30, 8, 10, 11, 18, 13, 5, 21, 14, 36, 14, 163, 101, 12, 69, 151, 37, 183, 10, 48, 20, 32, 34, 37, 15, 13, 31, 24, 4, 24, 29, 16, 32, 19, 47, 23, 4, 15, 17, 9, 55, 44, 12, 58, 5, 27, 17, 21, 13, 23, 25, 28, 21, 18, 15, 43, 16, 6, 42, 26, 18, 15, 22, 21, 21, 21, 28, 18, 90, 26, 35, 170, 4, 327, 32, 27, 26, 44, 13, 30, 30, 20, 15, 19, 22, 6, 4, 11, 7, 20, 12, 4, 11, 24, 29, 8, 22, 5, 28, 11, 23, 9, 10, 41, 109, 21, 5, 17, 16, 19, 23, 13, 11, 32, 29, 6, 19, 2, 9, 30, 2, 5, 12, 75, 214, 22, 26, 222, 25, 10, 72, 5, 313, 9, 23, 16, 7, 18, 26, 8, 15, 4, 19, 7, 15, 18, 18, 9, 96, 72, 40, 36, 78, 12, 51, 24, 9, 18, 23, 35, 37, 31, 9, 23, 23, 20, 32, 28, 15, 22, 5, 9, 22, 12, 16, 26, 8, 23, 32, 190, 6, 143, 19, 18, 16, 7, 11, 13, 21, 12, 7, 26, 17, 32, 28, 24, 20, 16, 16, 22, 40, 26, 17, 45, 33, 14, 19, 3, 138, 56, 498, 47, 32, 8, 575, 11, 13, 19, 24, 45, 15, 17, 42, 25, 25, 39, 28, 30, 22, 28, 18, 12, 19, 27, 25, 16, 31, 22, 11, 79, 121, 216, 43, 21, 11, 33, 55, 27, 33, 43, 10, 7, 44, 13, 13, 10, 6, 143, 124, 8, 13, 5, 130, 14, 9, 5, 23, 15, 20, 23, 7, 28, 17, 6, 21, 34, 6, 27, 15, 24, 28, 20, 66, 245, 12, 42, 69, 90, 56, 18, 13, 64, 38, 18, 38, 38, 20, 25, 24, 34, 22, 23, 22, 24, 19, 22, 18, 29, 38, 23, 16, 14, 15, 12, 31, 42, 107, 11, 8, 23, 4, 12, 13, 19, 29, 6, 34, 14, 20, 24, 20, 15, 34, 16, 17, 8, 11, 19, 30, 23, 26, 33, 108, 26, 310, 16, 47, 123, 32, 74, 23, 60, 29, 25, 21, 8, 43, 14, 18, 6, 8, 14, 22, 12, 10, 37, 30, 2, 7, 238, 7, 38, 28, 26, 87, 6, 5, 41, 79, 24, 8, 15, 11, 28, 18, 21, 27, 17, 16, 32, 31, 5, 10, 37, 7, 16, 1, 173, 9, 51, 5, 5, 24, 45, 32, 20, 34, 32, 35, 33, 18, 16, 22, 6, 22, 38, 9, 6, 2, 3, 27, 12, 6, 354, 69, 40, 300, 31, 41, 24, 14, 14, 32, 10, 14, 22, 23, 22, 35, 36, 17, 15, 7, 29, 29, 33, 9, 32, 7, 183, 10, 29, 510, 7, 7, 112, 59, 26, 5, 15, 21, 13, 34, 33, 10, 6, 18, 46, 29, 11, 6, 28, 26, 15, 119, 23, 5, 9, 4, 22, 6, 23, 21, 9, 33, 12, 12, 22, 15, 19, 33, 33, 20, 32, 29, 18, 34, 31, 24, 29, 7, 12, 47, 116, 9, 15, 26, 25, 147, 17, 34, 10, 14, 23, 21, 17, 10, 31, 25, 20, 27, 24, 9, 18, 13, 19, 19, 27, 31, 37, 30, 20, 62, 9, 49, 27, 15, 19, 40, 41, 86, 51, 13, 17, 20, 22, 24, 33, 33, 9, 15, 38, 18, 22, 23, 6, 31, 13, 36, 17, 20, 16, 30, 14, 23, 2, 3, 5, 4, 31, 6, 8, 25, 32, 25, 14, 25, 26, 20, 27, 40, 10, 34, 28, 25, 37, 8, 7, 4, 12, 12, 17, 134, 38, 12, 8, 25, 92, 216, 63, 7, 73, 18, 3, 18, 14, 32, 9, 2, 29, 11, 3, 4, 40, 8, 17, 24, 6, 20, 52, 31, 60, 14, 9, 26, 109, 121, 30, 35, 9, 17, 31, 5, 19, 8, 20, 15, 36, 28, 11, 16, 27, 23, 8, 12, 23, 22, 19, 3, 49, 33, 33, 5, 56, 121, 106, 5, 10, 21, 14, 7, 24, 23, 43, 28, 12, 35, 13, 16, 35, 13, 24, 14, 21, 28, 23, 7, 20, 99, 8, 20, 13, 10, 4, 15, 75, 32, 38, 25, 29, 19, 10, 22, 28, 26, 33, 27, 4, 12, 33, 25, 19, 4, 34, 18, 20, 8, 128, 35, 10, 10, 14, 17, 17, 21, 10, 31, 13, 8, 22, 11, 13, 10, 18, 30, 15, 5, 8, 11, 27, 14, 25, 10, 15, 15, 4, 71, 75, 10, 13, 36, 15, 10, 129, 19, 6, 14, 23, 26, 14, 25, 27, 16, 8, 29, 20, 17, 9, 6, 16, 18, 11, 68, 80, 10, 29, 50, 28, 59, 35, 15, 66, 13, 25, 40, 14, 26, 25, 21, 5, 22, 23, 28, 42, 19, 25, 5, 41, 25, 17, 15, 25, 28, 49, 17, 40, 18, 20, 15, 36, 38, 67, 15, 26, 27, 13, 17, 14, 18, 4, 22, 23, 26, 9, 32, 27, 36, 20, 23, 11, 17, 39, 21, 33, 8, 34, 10, 29, 8, 6, 19, 56, 20, 28, 12, 39, 16, 36, 30, 5, 19, 20, 27, 22, 30, 13, 23, 7, 123, 569, 166, 94, 222, 11, 78, 149, 4, 23, 30, 14, 18, 29, 26, 12, 22, 30, 15, 15, 42, 14, 16, 34, 31, 35, 31, 35, 22, 37, 21, 6, 34, 135, 65, 239, 327, 37, 5, 17, 40, 10, 21, 34, 22, 31, 20, 45, 15, 25, 12, 35, 21, 25, 25, 35, 5, 26, 2, 16, 333, 44, 114, 302, 6, 232, 129, 10, 18, 8, 31, 33, 15, 27, 22, 14, 5, 23, 7, 3, 28, 31, 18, 7, 19, 26, 36, 20, 29, 27, 126, 47, 52, 50, 36, 6, 12, 35, 10, 15, 10, 16, 21, 32, 6, 21, 25, 27, 29, 14, 15, 14, 22, 24, 35, 18, 38, 38, 30, 33, 52, 9, 5, 99, 9, 157, 9, 61, 46, 10, 33, 20, 21, 16, 24, 17, 20, 18, 34, 24, 15, 42, 25, 18, 32, 10, 15, 13, 28, 13, 38, 25, 1028, 32, 25, 49, 68, 9, 25, 29, 13, 15, 22, 25, 11, 28, 15, 22, 32, 19, 32, 27, 23, 37, 12, 14, 14, 21, 24, 31, 14, 175, 634, 7, 12, 50, 13, 7, 27, 83, 15, 21, 33, 21, 12, 26, 27, 16, 3, 38, 27, 10, 24, 7, 28, 39, 6, 333, 263, 21, 32, 27, 16, 11, 9, 40, 9, 32, 17, 17, 18, 16, 32, 11, 10, 1, 5, 14, 4, 30, 10, 35, 41, 9, 7, 12, 30, 20, 8, 24, 26, 12, 18, 10, 26, 11, 33, 12, 11, 11, 5, 7, 4, 37, 26, 28, 39, 12, 19, 19, 15, 6, 36, 16, 107, 29, 5, 10, 14, 14, 9, 1, 25, 24, 22, 33, 26, 7, 11, 33, 28, 9, 33, 16, 21, 30, 28, 28, 28, 31, 26, 146, 11, 6, 9, 15, 32, 14, 12, 11, 4, 22, 36, 22, 11, 24, 38, 18, 4, 4, 44, 27, 18, 5, 17, 16, 22, 6, 13, 34, 16, 45, 20, 170, 71, 46, 300, 12, 38, 67, 11, 22, 23, 37, 29, 15, 29, 26, 18, 13, 19, 9, 33, 41, 27, 17, 35, 9, 8, 9, 48, 6, 36, 11, 98, 32, 108, 35, 7, 7, 21, 12, 25, 22, 39, 35, 29, 13, 23, 45, 36, 16, 14, 22, 13, 15, 6, 6, 12, 30, 254, 671, 69, 87, 7, 120, 21, 465, 76, 16, 36, 19, 29, 6, 28, 15, 22, 25, 2, 20, 25, 30, 33, 20, 38, 30, 31, 24, 39, 19, 195, 93, 9, 71, 7, 8, 14, 24, 20, 22, 27, 18, 17, 24, 27, 18, 29, 24, 31, 10, 18, 13, 25, 11, 18, 18, 7, 54, 30, 70, 12, 30, 28, 9, 81, 36, 13, 22, 16, 28, 25, 18, 5, 9, 25, 32, 18, 17, 9, 3, 41, 33, 14, 30, 12, 9, 79, 8, 77, 179, 9, 363, 100, 47, 62, 17, 33, 7, 22, 20, 30, 16, 28, 27, 20, 26, 35, 7, 29, 18, 22, 39, 35, 34, 109, 76, 147, 17, 24, 10, 278, 38, 131, 18, 35, 38, 19, 19, 11, 28, 11, 22, 8, 24, 14, 14, 16, 27, 4, 4, 20, 15, 13, 22, 34, 66, 271, 131, 42, 100, 34, 774, 18, 14, 13, 23, 4, 31, 29, 23, 23, 28, 25, 26, 12, 22, 32, 4, 23, 12, 16, 29, 22, 22, 45, 24, 87, 245, 67, 6, 34, 93, 13, 29, 21, 17, 21, 8, 8, 30, 11, 39, 22, 45, 21, 20, 21, 37, 21, 29, 17, 28, 15, 20, 42, 8, 34, 20, 42, 57, 47, 49, 17, 9, 20, 41, 7, 32, 17, 25, 25, 7, 36, 8, 5, 14, 21, 26, 24, 14, 27, 15, 32, 17, 118, 17, 24, 9, 156, 604, 445, 16, 790, 357, 17, 34, 31, 30, 33, 31, 30, 31, 22, 6, 21, 16, 14, 13, 20, 8, 19, 8, 13, 25, 16, 48, 15, 5, 183, 14, 9, 54, 151, 62, 23, 3, 34, 27, 18, 34, 35, 12, 15, 30, 28, 8, 25, 8, 14, 24, 20, 18, 43, 28, 29, 5, 51, 39, 10, 8, 62, 32, 5, 114, 29, 10, 14, 31, 18, 14, 27, 26, 10, 38, 13, 19, 32, 7, 33, 7, 21, 12, 25, 16, 5, 132, 4, 19, 15, 6, 80, 13, 116, 448, 20, 18, 20, 23, 24, 20, 5, 47, 22, 29, 12, 43, 25, 19, 38, 26, 14, 36, 10, 11, 77, 49, 3, 152, 70, 113, 38, 59, 40, 21, 20, 22, 22, 20, 9, 12, 15, 23, 20, 9, 16, 8, 7, 19, 8, 17, 20, 20, 2, 24, 77, 7, 7, 14, 40, 28, 9, 27, 12, 11, 4, 27, 22, 42, 16, 37, 7, 26, 24, 15, 13, 25, 25, 38, 5, 10, 9, 16, 54, 62, 22, 50, 14, 16, 88, 20, 14, 47, 15, 31, 20, 22, 18, 33, 19, 27, 25, 28, 13, 21, 17, 14, 29, 3, 9, 72, 16, 17, 7, 340, 11, 182, 25, 73, 154, 12, 25, 19, 16, 18, 10, 26, 18, 10, 16, 38, 25, 35, 15, 26, 21, 15, 17, 16, 16, 30, 8, 8, 78, 14, 179, 46, 21, 190, 135, 25, 17, 11, 41, 38, 16, 34, 7, 10, 24, 2, 25, 32, 11, 20, 12, 20, 34, 42, 8, 80, 79, 10, 75, 15, 71, 33, 9, 23, 8, 27, 42, 26, 12, 28, 11, 30, 24, 25, 23, 14, 18, 21, 18, 19, 43, 5, 21, 37, 461, 176, 29, 53, 37, 11, 38, 12, 15, 24, 36, 26, 36, 10, 35, 25, 37, 14, 39, 24, 3, 41, 36, 14, 38, 22, 20, 28, 8, 168, 3, 48, 32, 75, 79, 32, 40, 23, 86, 10, 42, 36, 22, 16, 20, 18, 18, 14, 34, 19, 9, 26, 23, 25, 27, 30, 4, 44, 19, 25, 56, 61, 32, 24, 73, 16, 61, 17, 37, 17, 10, 8, 17, 29, 8, 11, 23, 7, 22, 25, 15, 25, 36, 21, 19, 19, 18, 39, 12, 88, 20, 21, 47, 26, 46, 103, 79, 25, 24, 9, 29, 13, 19, 19, 24, 16, 17, 80, 8, 8, 74, 36, 85, 24, 15, 452, 11, 37, 28, 34, 24, 14, 18, 27, 23, 22, 12, 30, 28, 24, 12, 44, 41, 39, 28, 77, 69, 42, 7, 34, 35, 12, 38, 16, 82, 28, 25, 8, 36, 34, 31, 44, 13, 22, 16, 8, 28, 12, 20, 13, 31, 11, 11, 11, 26, 16, 16, 14, 43, 11, 214, 6, 34, 59, 34, 9, 8, 13, 5, 15, 34, 32, 5, 18, 8, 6, 5, 32, 58, 35, 147, 15, 23, 107, 78, 40, 619, 35, 28, 15, 20, 2, 9, 39, 27, 20, 9, 27, 27, 22, 21, 24, 13, 23, 24, 35, 15, 22, 44, 21, 27, 78, 6, 135, 61, 170, 375, 38, 23, 8, 17, 37, 10, 18, 25, 15, 8, 15, 12, 35, 18, 37, 16, 24, 24, 27, 32, 27, 5, 901, 9, 8, 46, 13, 34, 3, 27, 27, 32, 14, 11, 29, 15, 23, 36, 20, 21, 17, 33, 9, 20, 17, 15, 37, 8, 16, 14, 35, 98, 46, 62, 11, 10, 73, 50, 17, 29, 74, 8, 4, 26, 24, 29, 16, 18, 35, 33, 8, 15, 31, 17, 219, 11, 37, 98, 42, 13, 33, 17, 19, 11, 26, 22, 21, 16, 7, 33, 29, 26, 21, 35, 9, 19, 16, 19, 11, 36, 30, 33, 24, 42, 183, 21, 13, 11, 21, 5, 4, 19, 17, 6, 36, 26, 9, 23, 28, 18, 30, 17, 31, 23, 18, 21, 36, 27, 31, 10, 18, 32, 22, 27, 19, 152, 80, 23, 297, 390, 27, 248, 12, 13, 37, 23, 36, 28, 24, 13, 13, 11, 6, 7, 30, 5, 8, 5, 20, 42, 4, 22, 25, 66, 55, 14, 45, 16, 10, 129, 62, 5, 5, 27, 13, 13, 5, 17, 33, 27, 41, 32, 18, 26, 21, 27, 4, 20, 26, 26, 7, 11, 16, 247, 188, 60, 24, 157, 24, 408, 52, 10, 22, 28, 30, 22, 14, 16, 22, 26, 9, 20, 32, 22, 32, 13, 24, 18, 30, 27, 14, 117, 139, 16, 76, 78, 4, 3, 41, 38, 50, 27, 6, 40, 25, 18, 15, 32, 36, 9, 14, 24, 29, 3, 28, 33, 29, 29, 30, 15, 38, 143, 291, 516, 61, 172, 171, 29, 23, 38, 18, 25, 15, 24, 17, 18, 18, 21, 21, 28, 37, 13, 23, 20, 40, 11, 38, 28, 16, 12, 29, 37, 26, 45, 190, 64, 18, 18, 24, 9, 46, 24, 29, 17, 15, 23, 33, 31, 15, 19, 23, 24, 24, 39, 37, 33, 17, 44, 13, 7, 31, 50, 101, 19, 30, 80, 7, 33, 78, 41, 16, 18, 22, 14, 18, 21, 21, 21, 30, 25, 22, 27, 4, 23, 13, 21, 22, 26, 24, 10, 18, 15, 11, 25, 25, 38, 30, 39, 12, 18, 16, 29, 31, 21, 44, 304, 9, 48, 12, 8, 98, 8, 24, 11, 39, 38, 26, 10, 24, 17, 29, 28, 7, 20, 12, 18, 27, 23, 25, 27, 10, 14, 6, 268, 47, 73, 410, 13, 28, 21, 8, 100, 41, 14, 39, 15, 17, 35, 37, 22, 20, 36, 6, 14, 35, 27, 16, 26, 26, 5, 31, 7, 31, 85, 21, 1, 48, 28, 229, 39, 200, 37, 31, 34, 22, 28, 24, 37, 33, 20, 27, 39, 13, 14, 21, 30, 44, 9, 24, 33, 21, 29, 27, 63, 26, 7, 5, 36, 24, 97, 254, 57, 38, 21, 36, 19, 22, 18, 22, 29, 17, 16, 12, 37, 13, 36, 16, 8, 39, 30, 15, 15, 27, 34, 12, 29, 23, 15, 26, 33, 4, 30, 23, 38, 8, 20, 29, 38, 48, 31, 11, 14, 9, 3, 18, 14, 7, 14, 22, 31, 20, 5, 18, 12, 29, 17, 29, 24, 28, 17, 5, 15, 33, 16, 19, 19, 30, 46, 32, 20, 27, 8, 155, 140, 29, 127, 9, 28, 31, 37, 18, 39, 18, 21, 20, 11, 7, 18, 12, 26, 25, 25, 30, 29, 19, 18, 28, 37, 4, 20, 14, 4, 18, 26, 37, 9, 28, 25, 5, 19, 22, 32, 29, 30, 22, 46, 35, 93, 17, 17, 21, 142, 53, 28, 131, 9, 229, 34, 16, 30, 18, 33, 29, 32, 27, 23, 34, 4, 36, 31, 22, 24, 16, 18, 22, 16, 6, 67, 16, 4, 26, 33, 20, 45, 31, 10, 15, 11, 26, 24, 17, 9, 8, 12, 8, 16, 29, 21, 21, 9, 20, 14, 31, 34, 17, 28, 22, 19, 30, 6, 75, 43, 44, 92, 7, 10, 21, 8, 17, 38, 16, 12, 24, 17, 12, 30, 14, 21, 22, 24, 18, 30, 14, 14, 13, 26, 20, 25, 11, 28, 6, 4, 204, 33, 6, 21, 6, 16, 30, 21, 24, 13, 25, 18, 8, 18, 24, 17, 23, 7, 23, 29, 17, 29, 13, 26, 11, 59, 14, 37, 70, 33, 32, 14, 27, 42, 8, 29, 21, 21, 9, 25, 10, 21, 18, 33, 16, 41, 12, 25, 14, 34, 26, 21, 12, 31, 34, 8, 111, 19, 78, 35, 15, 31, 25, 26, 23, 25, 23, 33, 14, 23, 21, 31, 21, 17, 26, 27, 18, 44, 6, 27, 28, 26, 13, 14, 28, 3, 27, 39, 22, 27, 26, 19, 21, 18, 35, 19, 27, 24, 109, 35, 19, 15, 26, 35, 23, 197, 4, 21, 21, 19, 21, 21, 26, 27, 21, 17, 15, 16, 5, 10, 41, 28, 13, 17, 31, 33, 16, 95, 84, 49, 12, 44, 153, 291, 71, 86, 27, 27, 31, 40, 3, 32, 10, 39, 30, 13, 20, 28, 25, 28, 29, 11, 20, 30, 30, 22, 34, 37, 18, 33, 19, 16, 34, 21, 10, 16, 28, 9, 124, 176, 15, 44, 54, 28, 43, 14, 26, 29, 21, 31, 24, 26, 13, 32, 33, 23, 2, 20, 19, 22, 22, 12, 22, 28, 26, 9, 51, 40, 183, 201, 16, 31, 66, 21, 82, 102, 23, 39, 26, 41, 9, 30, 28, 30, 18, 26, 24, 24, 19, 14, 42, 21, 39, 44, 16, 30, 25, 58, 33, 31, 44, 66, 38, 40, 25, 14, 20, 5, 11, 12, 14, 14, 30, 33, 14, 16, 7, 27, 15, 8, 21, 15, 23, 23, 10, 10, 115, 7, 24, 59, 40, 36, 15, 257, 502, 75, 34, 23, 43, 30, 3, 20, 27, 26, 14, 33, 15, 27, 22, 20, 12, 16, 14, 25, 22, 17, 11, 180, 119, 91, 57, 5, 22, 679, 9, 34, 13, 20, 11, 46, 16, 20, 18, 21, 29, 38, 32, 22, 13, 23, 25, 37, 21, 29, 44, 34, 39, 57, 39, 14, 139, 8, 108, 67, 22, 18, 8, 34, 22, 33, 34, 4, 28, 25, 24, 23, 11, 13, 13, 11, 20, 46, 40, 14, 44, 5, 25, 11, 57, 15, 176, 75, 154, 32, 9, 21, 46, 27, 15, 31, 27, 38, 28, 31, 17, 20, 37, 27, 30, 21, 33, 9, 19, 31, 6, 35, 53, 102, 9, 45, 35, 270, 44, 131, 19, 17, 11, 13, 32, 14, 24, 9, 24, 14, 17, 21, 33, 15, 25, 24, 16, 12, 8, 19, 17, 33, 81, 27, 52, 13, 71, 9, 25, 79, 32, 30, 26, 41, 23, 21, 41, 27, 31, 42, 46, 14, 12, 19, 24, 29, 15, 23, 27, 13, 15, 30, 33, 13, 13, 29, 21, 24, 21, 39, 21, 35, 29, 33, 37, 31, 25, 13, 28, 36, 24, 30, 21, 68, 12, 137, 121, 15, 54, 51, 36, 9, 32, 27, 23, 26, 29, 27, 17, 14, 22, 27, 36, 9, 10, 9, 22, 34, 11, 20, 30, 25, 133, 54, 37, 115, 3, 13, 300, 51, 20, 5, 18, 43, 31, 20, 28, 15, 22, 18, 22, 9, 27, 28, 4, 20, 21, 26, 43, 26, 33, 25, 15, 111, 7, 22, 135, 7, 14, 7, 19, 21, 10, 26, 21, 17, 36, 45, 33, 15, 31, 29, 18, 27, 18, 16, 32, 19, 2, 18, 16, 28, 23, 4, 15, 168, 38, 492, 23, 7, 5, 38, 9, 12, 18, 27, 13, 23, 31, 38, 27, 31, 31, 24, 14, 3, 21, 32, 22, 18, 34, 35, 12, 135, 35, 32, 589, 13, 100, 61, 33, 397, 29, 18, 14, 13, 18, 22, 38, 31, 33, 31, 25, 15, 25, 29, 30, 15, 22, 16, 21, 13, 36, 56, 150, 21, 94, 190, 109, 51, 95, 45, 34, 16, 13, 31, 24, 10, 8, 8, 14, 22, 23, 23, 19, 4, 15, 34, 32, 29, 11, 14, 71, 29, 13, 15, 37, 40, 15, 27, 30, 40, 33, 7, 24, 20, 20, 15, 24, 27, 30, 36, 19, 25, 81, 59, 22, 22, 112, 50, 20, 26, 18, 18, 40, 32, 39, 17, 17, 10, 29, 28, 34, 29, 29, 8, 17, 12, 43, 8, 106, 26, 22, 34, 28, 64, 52, 20, 72, 7, 23, 28, 16, 13, 9, 26, 10, 33, 43, 22, 36, 18, 27, 33, 20, 34, 16, 44, 36, 29, 26, 66, 174, 27, 20, 110, 50, 11, 63, 59, 31, 14, 11, 23, 42, 19, 14, 21, 27, 37, 13, 11, 26, 34, 30, 7, 29, 27, 19, 34, 65, 48, 15, 94, 73, 20, 62, 30, 40, 38, 29, 38, 5, 25, 43, 14, 8, 13, 41, 34, 36, 18, 31, 36, 3, 21, 11, 29, 37, 15, 67, 5, 8, 58, 24, 65, 161, 89, 11, 1, 17, 41, 24, 30, 19, 28, 13, 17, 29, 21, 17, 23, 30, 20, 18, 26, 19, 20, 22, 29, 78, 33, 65, 190, 16, 15, 282, 35, 6, 14, 19, 25, 14, 45, 41, 29, 34, 16, 33, 15, 30, 39, 26, 39, 22, 26, 8, 26, 38, 35, 6, 7, 32, 39, 23, 38, 23, 24, 26, 41, 22, 9, 45, 14, 21, 12, 14, 7, 25, 15, 5, 15, 23, 127, 254, 25, 119, 298, 119, 17, 49, 29, 14, 12, 33, 15, 15, 26, 23, 39, 7, 23, 37, 34, 28, 37, 38, 27, 20, 9, 18, 43, 9, 15, 8, 39, 85, 50, 165, 37, 114, 87, 27, 5, 27, 43, 23, 22, 25, 9, 15, 19, 23, 23, 27, 28, 44, 24, 9, 29, 28, 41, 28, 68, 17, 35, 53, 6, 46, 23, 40, 7, 15, 14, 28, 17, 17, 27, 20, 12, 28, 28, 18, 4, 18, 25, 12, 14, 25, 10, 37, 18, 16, 34, 85, 110, 30, 24, 18, 15, 28, 11, 9, 29, 28, 30, 31, 31, 9, 13, 16, 35, 24, 25, 19, 14, 12, 74, 32, 19, 4, 49, 21, 96, 50, 4, 6, 30, 17, 6, 29, 39, 19, 21, 12, 27, 30, 35, 31, 3, 11, 31, 15, 14, 4, 23, 18, 17, 152, 17, 46, 38, 16, 226, 41, 96, 17, 16, 25, 20, 13, 21, 13, 17, 24, 38, 37, 23, 32, 36, 28, 19, 11, 28, 17, 35, 122, 13, 72, 32, 29, 94, 23, 7, 22, 34, 13, 19, 15, 32, 14, 12, 27, 30, 26, 25, 20, 6, 12, 6, 22, 24, 24, 21, 28, 28, 23, 34, 71, 4, 20, 47, 21, 13, 85, 161, 19, 23, 35, 39, 23, 21, 28, 27, 19, 12, 18, 16, 18, 5, 31, 18, 11, 39, 30, 21, 140, 16, 34, 28, 7, 9, 13, 9, 10, 19, 18, 27, 24, 17, 25, 24, 33, 17, 26, 20, 25, 23, 32, 25, 10, 23, 24, 41, 16, 42, 9, 27, 28, 17, 22, 3, 36, 21, 7, 21, 17, 21, 7, 10, 78, 3, 43, 25, 181, 162, 22, 20, 42, 67, 19, 32, 14, 9, 28, 12, 15, 34, 26, 33, 22, 27, 25, 34, 15, 27, 27, 20, 20, 37, 343, 37, 43, 142, 16, 21, 39, 18, 20, 30, 20, 26, 20, 31, 34, 24, 38, 40, 17, 28, 27, 31, 26, 18, 27, 11, 31, 31, 33, 30, 7, 25, 29, 33, 29, 36, 10, 10, 33, 90, 6, 4, 63, 67, 418, 37, 22, 12, 37, 14, 13, 19, 25, 38, 32, 23, 16, 16, 23, 22, 22, 29, 13, 26, 29, 38, 83, 52, 48, 39, 13, 76, 5, 38, 11, 4, 10, 16, 32, 18, 28, 32, 37, 24, 18, 12, 6, 22, 16, 27, 5, 44, 6, 27, 29, 33, 52, 11, 53, 18, 35, 16, 65, 24, 62, 10, 23, 17, 34, 16, 26, 16, 23, 29, 24, 13, 15, 9, 15, 15, 14, 23, 21, 22, 21, 26, 101, 42, 61, 72, 31, 15, 36, 13, 37, 46, 34, 25, 15, 17, 28, 24, 29, 8, 18, 39, 28, 31, 12, 18, 26, 19, 31, 46, 9, 26, 19, 84, 30, 17, 19, 18, 20, 19, 13, 13, 10, 29, 34, 26, 11, 26, 14, 41, 34, 23, 27, 19, 56, 17, 56, 4, 83, 61, 7, 63, 10, 186, 16, 22, 14, 10, 18, 25, 25, 15, 36, 14, 27, 19, 34, 39, 32, 13, 34, 10, 8, 33, 17, 27, 18, 105, 62, 8, 14, 18, 12, 17, 39, 33, 30, 29, 27, 23, 31, 20, 28, 22, 34, 10, 15, 6, 30, 38, 26, 34, 29, 12, 35, 102, 45, 40, 46, 103, 113, 110, 61, 16, 31, 26, 12, 35, 31, 5, 36, 26, 25, 25, 42, 17, 12, 15, 24, 7, 20, 26, 25, 27, 8, 51, 52, 44, 35, 24, 70, 52, 52, 62, 43, 26, 26, 44, 4, 39, 15, 16, 25, 19, 31, 7, 25, 19, 13, 21, 30, 27, 41, 33, 152, 135, 38, 85, 38, 87, 186, 17, 12, 41, 40, 34, 26, 27, 18, 3, 28, 23, 4, 15, 28, 15, 7, 34, 31, 16, 18, 36, 15, 29, 60, 68, 170, 18, 9, 4, 123, 27, 29, 70, 13, 21, 7, 23, 28, 37, 23, 27, 15, 32, 16, 45, 19, 19, 27, 25, 28, 32, 12, 17, 57, 146, 63, 25, 26, 15, 7, 19, 24, 49, 32, 20, 15, 8, 34, 27, 25, 22, 44, 35, 33, 43, 41, 22, 40, 25, 13, 8, 46, 134, 196, 26, 10, 4, 52, 11, 25, 23, 10, 13, 12, 18, 11, 23, 15, 15, 25, 23, 28, 7, 30, 13, 18, 31, 11, 19, 60, 19, 68, 26, 265, 36, 5, 29, 8, 19, 31, 36, 14, 36, 37, 27, 14, 10, 12, 26, 41, 18, 21, 16, 26, 26, 18, 19, 32, 32, 4, 6, 31, 47, 27, 64, 14, 52, 21, 27, 20, 20, 19, 12, 28, 13, 13, 14, 9, 31, 31, 12, 34, 37, 25, 17, 19, 19, 7, 54, 37, 21, 21, 21, 10, 17, 88, 43, 56, 14, 22, 22, 11, 15, 27, 23, 26, 33, 21, 13, 8, 17, 15, 24, 29, 41, 3, 17, 35, 4, 52, 61, 36, 189, 149, 78, 125, 24, 26, 16, 18, 27, 32, 22, 26, 16, 23, 29, 26, 25, 26, 21, 28, 23, 27, 39, 12, 20, 22, 200, 136, 67, 26, 87, 5, 29, 21, 228, 29, 33, 14, 12, 22, 16, 45, 19, 10, 19, 16, 27, 39, 35, 20, 38, 28, 29, 7, 38, 36, 24, 30, 27, 23, 39, 100, 227, 10, 42, 14, 12, 29, 28, 23, 15, 28, 35, 39, 16, 24, 37, 27, 13, 16, 42, 19, 18, 33, 27, 38, 20, 102, 69, 5, 101, 176, 26, 14, 25, 31, 42, 26, 35, 4, 33, 27, 15, 20, 41, 26, 36, 36, 22, 37, 18, 13, 23, 29, 19, 21, 33, 117, 10, 122, 78, 67, 18, 24, 330, 20, 17, 39, 23, 22, 18, 19, 23, 39, 25, 24, 35, 13, 16, 15, 17, 26, 32, 18, 35, 28, 64, 36, 17, 32, 11, 33, 51, 134, 129, 43, 29, 10, 31, 26, 32, 20, 33, 41, 26, 18, 32, 30, 33, 16, 33, 17, 25, 15, 14, 37, 206, 17, 14, 5, 126, 17, 11, 11, 42, 4, 19, 27, 9, 5, 33, 27, 16, 30, 28, 7, 12, 16, 40, 33, 34, 41, 31, 15, 21, 13, 336, 502, 113, 54, 3, 51, 25, 10, 81, 16, 23, 12, 22, 20, 23, 23, 39, 26, 39, 10, 14, 9, 19, 23, 19, 32, 36, 27, 18, 44, 53, 25, 24, 371, 15, 4, 287, 46, 9, 43, 10, 33, 26, 19, 22, 15, 12, 14, 10, 30, 28, 16, 13, 29, 38, 41, 29, 25, 19, 10, 139, 10, 14, 52, 24, 101, 9, 4, 75, 22, 15, 10, 40, 28, 22, 45, 27, 7, 28, 28, 38, 10, 24, 16, 18, 10, 39, 15, 27, 31, 7, 47, 5, 50, 5, 102, 44, 12, 11, 33, 22, 20, 21, 21, 2, 21, 10, 21, 17, 14, 23, 7, 12, 468, 33, 27, 32, 62, 50, 9, 31, 9, 19, 6, 12, 16, 12, 17, 4, 27, 25, 23, 10, 11, 7, 30, 14, 14, 23, 17, 29, 30, 16, 31, 41, 210, 30, 22, 16, 17, 486, 16, 19, 12, 11, 5, 26, 2, 17, 20, 40, 40, 25, 37, 27, 23, 34, 7, 22, 12, 8, 8, 36, 31, 5, 24, 88, 51, 614, 40, 94, 10, 45, 10, 7, 35, 7, 20, 43, 18, 22, 19, 3, 31, 31, 21, 11, 18, 46, 25, 31, 27, 53, 34, 71, 61, 72, 29, 14, 55, 357, 6, 20, 7, 24, 22, 20, 20, 33, 17, 2, 5, 29, 23, 19, 25, 30, 34, 25, 14, 8, 31, 15, 6, 22, 1, 31, 122, 56, 4, 39, 18, 8, 9, 19, 30, 25, 10, 27, 15, 20, 30, 24, 13, 26, 22, 21, 19, 41, 11, 13, 24, 39, 206, 22, 22, 32, 13, 44, 15, 21, 21, 17, 20, 30, 28, 2, 23, 14, 31, 16, 29, 12, 16, 26, 17, 36, 7, 40, 13, 27, 21, 34, 46, 21, 14, 18, 84, 21, 201, 8, 13, 30, 10, 4, 25, 24, 21, 19, 2, 19, 6, 13, 46, 10, 24, 13, 27, 10, 24, 8, 165, 50, 139, 311, 210, 37, 20, 26, 25, 27, 28, 4, 12, 22, 5, 30, 20, 8, 26, 27, 6, 11, 16, 32, 17, 11, 10, 44, 7, 24, 846, 55, 37, 92, 15, 15, 26, 22, 24, 27, 11, 34, 17, 26, 38, 11, 7, 19, 16, 8, 32, 19, 15, 14, 12, 50, 32, 40, 29, 147, 20, 95, 183, 9, 8, 4, 42, 46, 18, 30, 15, 26, 14, 23, 5, 48, 24, 17, 15, 26, 19, 4, 24, 15, 37, 33, 117, 38, 7, 52, 6, 8, 9, 11, 50, 24, 25, 31, 22, 11, 18, 7, 11, 23, 19, 10, 20, 17, 18, 22, 8, 15, 42, 4, 24, 26, 14, 79, 14, 288, 124, 53, 65, 181, 36, 35, 18, 28, 7, 27, 27, 12, 29, 9, 20, 13, 14, 26, 8, 17, 14, 12, 1, 29, 13, 19, 6, 44, 14, 46, 70, 17, 29, 29, 22, 4, 35, 10, 25, 16, 34, 27, 21, 13, 35, 24, 11, 19, 29, 32, 33, 36, 50, 15, 16, 16, 18, 7, 30, 108, 370, 19, 20, 10, 14, 28, 18, 19, 20, 39, 25, 14, 27, 25, 26, 4, 23, 7, 23, 31, 12, 15, 46, 31, 1, 15, 11, 10, 21, 33, 8, 25, 16, 2, 37, 22, 28, 29, 31, 18, 45, 27, 31, 29, 19, 20, 14, 24, 27, 42, 3, 11, 18, 40, 66, 48, 22, 10, 4, 13, 41, 23, 9, 15, 9, 33, 2, 27, 32, 15, 14, 23, 16, 6, 24, 23, 22, 12, 25, 20, 32, 30, 12, 19, 32, 11, 46, 19, 17, 18, 13, 13, 17, 14, 21, 23, 25, 15, 37, 51, 45, 58, 113, 7, 71, 52, 9, 20, 25, 26, 23, 13, 27, 17, 16, 10, 27, 10, 26, 21, 10, 8, 22, 6, 70, 8, 24, 19, 159, 210, 13, 59, 20, 18, 35, 12, 40, 32, 29, 8, 5, 7, 23, 26, 33, 13, 14, 22, 22, 29, 13, 9, 9, 12, 40, 53, 13, 101, 41, 50, 8, 23, 14, 19, 17, 19, 30, 22, 32, 13, 12, 6, 9, 16, 6, 23, 18, 15, 23, 40, 43, 40, 15, 34, 28, 8, 18, 279, 6, 8, 125, 23, 10, 16, 27, 20, 21, 29, 27, 3, 13, 7, 6, 16, 15, 20, 6, 21, 14, 7, 10, 13, 42, 6, 16, 7, 12, 6, 34, 29, 11, 41, 137, 30, 25, 30, 34, 8, 11, 25, 10, 11, 18, 9, 11, 8, 20, 9, 15, 9, 8, 1299, 72, 12, 39, 34, 5, 49, 5, 54, 23, 27, 5, 21, 13, 31, 25, 8, 7, 19, 34, 9, 2, 27, 21, 32, 23, 12, 24, 20, 55, 314, 58, 18, 25, 15, 81, 12, 10, 6, 25, 24, 14, 20, 32, 21, 14, 22, 9, 6, 22, 43, 37, 19, 13, 23, 14, 28, 51, 205, 7, 11, 86, 16, 26, 79, 29, 24, 29, 17, 43, 13, 27, 11, 6, 33, 31, 13, 30, 6, 17, 22, 12, 9, 15, 38, 20, 3, 10, 177, 87, 384, 141, 1277, 33, 158, 36, 14, 19, 36, 40, 7, 8, 3, 7, 14, 2, 10, 10, 23, 17, 17, 11, 42, 24, 33, 56, 75, 16, 27, 33, 197, 46, 32, 10, 4, 28, 23, 32, 13, 19, 40, 34, 36, 9, 33, 44, 20, 36, 16, 38, 41, 22, 39, 20, 16, 143, 9, 22, 46, 31, 36, 22, 20, 28, 16, 9, 7, 12, 34, 6, 9, 19, 25, 3, 31, 29, 19, 23, 29, 18, 23, 16, 14, 38, 88, 57, 22, 73, 183, 17, 70, 59, 7, 10, 2, 28, 17, 16, 26, 12, 16, 21, 32, 26, 10, 15, 18, 28, 33, 19, 41, 15, 46, 29, 73, 29, 17, 102, 21, 8, 62, 43, 18, 19, 19, 7, 22, 25, 20, 6, 1, 22, 24, 18, 37, 11, 30, 25, 43, 13, 26, 9, 16, 21, 78, 31, 63, 49, 142, 107, 74, 23, 10, 8, 36, 26, 7, 13, 16, 12, 4, 34, 99, 19, 20, 5, 156, 11, 9, 241, 86, 13, 5, 6, 19, 26, 36, 12, 9, 24, 37, 28, 20, 32, 27, 25, 25, 26, 8, 29, 35, 32, 40, 6, 34, 58, 146, 28, 73, 46, 12, 106, 13, 39, 25, 8, 31, 12, 4, 19, 14, 28, 36, 7, 4, 20, 37, 10, 12, 39, 25, 8, 13, 99, 4, 18, 5, 20, 8, 7, 25, 7, 13, 7, 17, 4, 27, 12, 39, 87, 88, 151, 68, 44, 21, 77, 13, 75, 26, 20, 25, 45, 29, 5, 25, 3, 36, 38, 21, 30, 11, 23, 9, 8, 18, 23, 38, 2, 9, 18, 32, 52, 83, 11, 52, 16, 46, 9, 573, 20, 21, 25, 41, 12, 28, 13, 22, 21, 23, 18, 16, 30, 9, 32, 36, 15, 25, 28, 18, 21, 13, 29, 36, 17, 31, 6, 16, 6, 28, 24, 27, 8, 25, 25, 24, 19, 20, 25, 29, 13, 33, 27, 17, 7, 32, 35, 5, 10, 6, 61, 7, 74, 34, 251, 12, 38, 18, 34, 24, 19, 27, 21, 19, 6, 11, 24, 15, 14, 18, 3, 7, 24, 2, 15, 5, 26, 82, 28, 4, 6, 33, 153, 25, 14, 21, 38, 14, 32, 18, 15, 28, 33, 18, 22, 13, 17, 15, 32, 23, 21, 4, 30, 69, 11, 59, 50, 17, 90, 20, 14, 44, 10, 11, 19, 14, 16, 16, 3, 25, 18, 23, 22, 24, 31, 37, 18, 32, 18, 12, 32, 31, 63, 12, 59, 20, 387, 5, 10, 16, 17, 39, 12, 8, 4, 18, 31, 24, 10, 30, 20, 23, 3, 2, 2, 20, 20, 6, 6, 4, 145, 6, 93, 35, 11, 5, 91, 37, 110, 46, 12, 33, 15, 7, 37, 31, 8, 15, 17, 9, 11, 38, 27, 4, 35, 26, 10, 21, 32, 14, 75, 11, 79, 36, 11, 29, 6, 44, 91, 65, 19, 10, 25, 10, 13, 18, 12, 6, 21, 13, 19, 17, 5, 6, 1, 125, 10, 5, 10, 38, 145, 13, 19, 70, 140, 21, 25, 8, 8, 25, 10, 9, 18, 29, 6, 26, 8, 36, 19, 4, 24, 46, 10, 44, 29, 31, 10, 343, 14, 454, 99, 3, 42, 16, 32, 27, 30, 20, 33, 6, 21, 22, 14, 15, 37, 22, 23, 8, 24, 25, 14, 47, 182, 50, 70, 82, 17, 15, 56, 10, 157, 10, 14, 18, 25, 25, 2, 11, 22, 34, 24, 13, 37, 81, 263, 30, 20, 47, 32, 5, 22, 4, 28, 33, 6, 20, 19, 15, 33, 23, 19, 9, 11, 23, 17, 19, 36, 13, 2, 6, 16, 16, 48, 114, 31, 16, 27, 64, 152, 32, 50, 79, 19, 18, 16, 3, 11, 18, 14, 16, 15, 23, 39, 46, 26, 24, 11, 34, 26, 16, 10, 6, 33, 10, 26, 5, 9, 6, 19, 14, 26, 28]\n",
            "mean length of the view text: 34.01339385370935\n",
            "median length of the review text: 22\n"
          ]
        },
        {
          "output_type": "display_data",
          "data": {
            "image/png": "[encoded data removed]",
            "text/plain": [
              "<Figure size 432x288 with 1 Axes>"
            ]
          },
          "metadata": {
            "needs_background": "light"
          }
        }
      ]
    },
    {
      "cell_type": "markdown",
      "source": [
        "# Separate the Data According Median Length"
      ],
      "metadata": {
        "id": "HEC1YCW3hByf"
      }
    },
    {
      "cell_type": "code",
      "source": [
        "# We think the reason of the performance could be that the sentiment analysis model's performance is determined by the length of the text\n",
        "# Therefore, we separate the data from each group by its median length to see if the performance increases\n",
        "\n",
        "longer_critics_data = critics_data[critics_data['review_length'] >= 22]\n",
        "shorter_critics_data = critics_data[critics_data['review_length'] < 22]\n",
        "\n",
        "longer_audience_data = audience_data[audience_data['review_length'] >= 29]\n",
        "shorter_audience_data = audience_data[audience_data['review_length'] < 29]"
      ],
      "metadata": {
        "id": "e9KhA2NdhBA-"
      },
      "execution_count": null,
      "outputs": []
    },
    {
      "cell_type": "code",
      "source": [
        "print(\"longer critics result:\")\n",
        "get_prediction(longer_critics_data)\n",
        "\n",
        "print(\"shorter critics result:\")\n",
        "get_prediction(shorter_critics_data)\n",
        "\n",
        "print(\"longer audience result:\")\n",
        "get_prediction(longer_audience_data)\n",
        "\n",
        "print(\"shorter audience result:\")\n",
        "get_prediction(shorter_audience_data)\n",
        "\n",
        "# print(\"audience result:\")\n",
        "# get_prediction(audience_data)"
      ],
      "metadata": {
        "colab": {
          "base_uri": "https://localhost:8080/"
        },
        "id": "McqD_-JBmN1m",
        "outputId": "b1a14761-2d59-4bc8-a5ce-73cf5a0b7712"
      },
      "execution_count": null,
      "outputs": [
        {
          "output_type": "stream",
          "name": "stdout",
          "text": [
            "longer critics result:\n",
            "size of features:  4275\n",
            "size of labels:  4275\n",
            " accuracy= 0.8079625292740047\n",
            "shorter critics result:\n",
            "size of features:  4631\n",
            "size of labels:  4631\n",
            " accuracy= 0.7451403887688985\n",
            "longer audience result:\n",
            "size of features:  2265\n",
            "size of labels:  2265\n",
            " accuracy= 0.8362831858407079\n",
            "shorter audience result:\n",
            "size of features:  2268\n",
            "size of labels:  2268\n",
            " accuracy= 0.7973568281938326\n"
          ]
        }
      ]
    },
    {
      "cell_type": "code",
      "source": [
        "print(\"critics result:\")\n",
        "get_prediction(critics_data.sample(frac=0.5, random_state=13))"
      ],
      "metadata": {
        "colab": {
          "base_uri": "https://localhost:8080/"
        },
        "id": "0yVQtAKOosyO",
        "outputId": "67ca5d2f-dda2-4c7f-9dc9-3024b10f8252"
      },
      "execution_count": null,
      "outputs": [
        {
          "output_type": "stream",
          "name": "stdout",
          "text": [
            "critics result:\n",
            "size of features:  4453\n",
            "size of labels:  4453\n",
            " accuracy= 0.7662921348314606\n"
          ]
        }
      ]
    },
    {
      "cell_type": "code",
      "source": [
        "print(\"audience result:\")\n",
        "get_prediction(audience_data.sample(frac=0.5, random_state=1))"
      ],
      "metadata": {
        "colab": {
          "base_uri": "https://localhost:8080/"
        },
        "id": "ibgTtR_RprWN",
        "outputId": "cf958ede-0aa7-43fe-ee5f-9257fc55860c"
      },
      "execution_count": null,
      "outputs": [
        {
          "output_type": "stream",
          "name": "stdout",
          "text": [
            "audience result:\n",
            "size of features:  2266\n",
            "size of labels:  2266\n",
            " accuracy= 0.8281938325991189\n"
          ]
        }
      ]
    },
    {
      "cell_type": "code",
      "source": [
        "longer_audience_data.to_csv('/content/drive/MyDrive/dataset/longer_audience.csv')\n",
        "shorter_audience_data.to_csv('/content/drive/MyDrive/dataset/shorter_audience.csv')\n",
        "\n",
        "longer_critics_data.to_csv('/content/drive/MyDrive/dataset/longer_critics.csv')\n",
        "shorter_critics_data.to_csv('/content/drive/MyDrive/dataset/shorter_critics.csv')\n",
        "\n",
        "critics_data.to_csv('/content/drive/MyDrive/dataset/critics_half.csv')\n",
        "audience_data.to_csv('/content/drive/MyDrive/dataset/audience_half.csv')"
      ],
      "metadata": {
        "id": "Vltv98i_iF-A"
      },
      "execution_count": null,
      "outputs": []
    },
    {
      "cell_type": "code",
      "source": [
        "longer_audience_data.head()"
      ],
      "metadata": {
        "colab": {
          "base_uri": "https://localhost:8080/",
          "height": 206
        },
        "id": "U9DCY2-Ilu-t",
        "outputId": "2d61ff0f-7d67-4532-f791-97e2f81ad5d9"
      },
      "execution_count": null,
      "outputs": [
        {
          "output_type": "execute_result",
          "data": {
            "text/html": [
              "\n",
              "  <div id=\"df-d10cc942-aef5-46f1-b7e1-1d70ab0af62b\">\n",
              "    <div class=\"colab-df-container\">\n",
              "      <div>\n",
              "<style scoped>\n",
              "    .dataframe tbody tr th:only-of-type {\n",
              "        vertical-align: middle;\n",
              "    }\n",
              "\n",
              "    .dataframe tbody tr th {\n",
              "        vertical-align: top;\n",
              "    }\n",
              "\n",
              "    .dataframe thead th {\n",
              "        text-align: right;\n",
              "    }\n",
              "</style>\n",
              "<table border=\"1\" class=\"dataframe\">\n",
              "  <thead>\n",
              "    <tr style=\"text-align: right;\">\n",
              "      <th></th>\n",
              "      <th>movie_ids</th>\n",
              "      <th>sources</th>\n",
              "      <th>ratings</th>\n",
              "      <th>ratings_binary</th>\n",
              "      <th>review_texts</th>\n",
              "      <th>review_length</th>\n",
              "    </tr>\n",
              "  </thead>\n",
              "  <tbody>\n",
              "    <tr>\n",
              "      <th>22</th>\n",
              "      <td>fear_street_part_one_1994</td>\n",
              "      <td>audience</td>\n",
              "      <td>2.5</td>\n",
              "      <td>n</td>\n",
              "      <td>Such a lead on opening the movie with maya haw...</td>\n",
              "      <td>34</td>\n",
              "    </tr>\n",
              "    <tr>\n",
              "      <th>23</th>\n",
              "      <td>fear_street_part_one_1994</td>\n",
              "      <td>audience</td>\n",
              "      <td>3.0</td>\n",
              "      <td>p</td>\n",
              "      <td>Very good idea but not well made. Would not wa...</td>\n",
              "      <td>61</td>\n",
              "    </tr>\n",
              "    <tr>\n",
              "      <th>29</th>\n",
              "      <td>fear_street_part_one_1994</td>\n",
              "      <td>audience</td>\n",
              "      <td>3.0</td>\n",
              "      <td>p</td>\n",
              "      <td>Nada revolucionário, mas divertido. Com boas r...</td>\n",
              "      <td>30</td>\n",
              "    </tr>\n",
              "    <tr>\n",
              "      <th>50</th>\n",
              "      <td>mass_2021</td>\n",
              "      <td>audience</td>\n",
              "      <td>4.5</td>\n",
              "      <td>p</td>\n",
              "      <td>Rating: A\\n\\n\"Mass is undoubtedly one of the m...</td>\n",
              "      <td>179</td>\n",
              "    </tr>\n",
              "    <tr>\n",
              "      <th>51</th>\n",
              "      <td>mass_2021</td>\n",
              "      <td>audience</td>\n",
              "      <td>4.5</td>\n",
              "      <td>p</td>\n",
              "      <td>Somewhere between In The Bedroom and We Need T...</td>\n",
              "      <td>52</td>\n",
              "    </tr>\n",
              "  </tbody>\n",
              "</table>\n",
              "</div>\n",
              "      <button class=\"colab-df-convert\" onclick=\"convertToInteractive('df-d10cc942-aef5-46f1-b7e1-1d70ab0af62b')\"\n",
              "              title=\"Convert this dataframe to an interactive table.\"\n",
              "              style=\"display:none;\">\n",
              "        \n",
              "  <svg xmlns=\"http://www.w3.org/2000/svg\" height=\"24px\"viewBox=\"0 0 24 24\"\n",
              "       width=\"24px\">\n",
              "    <path d=\"M0 0h24v24H0V0z\" fill=\"none\"/>\n",
              "    <path d=\"M18.56 5.44l.94 2.06.94-2.06 2.06-.94-2.06-.94-.94-2.06-.94 2.06-2.06.94zm-11 1L8.5 8.5l.94-2.06 2.06-.94-2.06-.94L8.5 2.5l-.94 2.06-2.06.94zm10 10l.94 2.06.94-2.06 2.06-.94-2.06-.94-.94-2.06-.94 2.06-2.06.94z\"/><path d=\"M17.41 7.96l-1.37-1.37c-.4-.4-.92-.59-1.43-.59-.52 0-1.04.2-1.43.59L10.3 9.45l-7.72 7.72c-.78.78-.78 2.05 0 2.83L4 21.41c.39.39.9.59 1.41.59.51 0 1.02-.2 1.41-.59l7.78-7.78 2.81-2.81c.8-.78.8-2.07 0-2.86zM5.41 20L4 18.59l7.72-7.72 1.47 1.35L5.41 20z\"/>\n",
              "  </svg>\n",
              "      </button>\n",
              "      \n",
              "  <style>\n",
              "    .colab-df-container {\n",
              "      display:flex;\n",
              "      flex-wrap:wrap;\n",
              "      gap: 12px;\n",
              "    }\n",
              "\n",
              "    .colab-df-convert {\n",
              "      background-color: #E8F0FE;\n",
              "      border: none;\n",
              "      border-radius: 50%;\n",
              "      cursor: pointer;\n",
              "      display: none;\n",
              "      fill: #1967D2;\n",
              "      height: 32px;\n",
              "      padding: 0 0 0 0;\n",
              "      width: 32px;\n",
              "    }\n",
              "\n",
              "    .colab-df-convert:hover {\n",
              "      background-color: #E2EBFA;\n",
              "      box-shadow: 0px 1px 2px rgba(60, 64, 67, 0.3), 0px 1px 3px 1px rgba(60, 64, 67, 0.15);\n",
              "      fill: #174EA6;\n",
              "    }\n",
              "\n",
              "    [theme=dark] .colab-df-convert {\n",
              "      background-color: #3B4455;\n",
              "      fill: #D2E3FC;\n",
              "    }\n",
              "\n",
              "    [theme=dark] .colab-df-convert:hover {\n",
              "      background-color: #434B5C;\n",
              "      box-shadow: 0px 1px 3px 1px rgba(0, 0, 0, 0.15);\n",
              "      filter: drop-shadow(0px 1px 2px rgba(0, 0, 0, 0.3));\n",
              "      fill: #FFFFFF;\n",
              "    }\n",
              "  </style>\n",
              "\n",
              "      <script>\n",
              "        const buttonEl =\n",
              "          document.querySelector('#df-d10cc942-aef5-46f1-b7e1-1d70ab0af62b button.colab-df-convert');\n",
              "        buttonEl.style.display =\n",
              "          google.colab.kernel.accessAllowed ? 'block' : 'none';\n",
              "\n",
              "        async function convertToInteractive(key) {\n",
              "          const element = document.querySelector('#df-d10cc942-aef5-46f1-b7e1-1d70ab0af62b');\n",
              "          const dataTable =\n",
              "            await google.colab.kernel.invokeFunction('convertToInteractive',\n",
              "                                                     [key], {});\n",
              "          if (!dataTable) return;\n",
              "\n",
              "          const docLinkHtml = 'Like what you see? Visit the ' +\n",
              "            '<a target=\"_blank\" href=https://colab.research.google.com/notebooks/data_table.ipynb>data table notebook</a>'\n",
              "            + ' to learn more about interactive tables.';\n",
              "          element.innerHTML = '';\n",
              "          dataTable['output_type'] = 'display_data';\n",
              "          await google.colab.output.renderOutput(dataTable, element);\n",
              "          const docLink = document.createElement('div');\n",
              "          docLink.innerHTML = docLinkHtml;\n",
              "          element.appendChild(docLink);\n",
              "        }\n",
              "      </script>\n",
              "    </div>\n",
              "  </div>\n",
              "  "
            ],
            "text/plain": [
              "                    movie_ids  ... review_length\n",
              "22  fear_street_part_one_1994  ...            34\n",
              "23  fear_street_part_one_1994  ...            61\n",
              "29  fear_street_part_one_1994  ...            30\n",
              "50                  mass_2021  ...           179\n",
              "51                  mass_2021  ...            52\n",
              "\n",
              "[5 rows x 6 columns]"
            ]
          },
          "metadata": {},
          "execution_count": 28
        }
      ]
    },
    {
      "cell_type": "code",
      "source": [
        ""
      ],
      "metadata": {
        "id": "5oSyFNzpnZyK"
      },
      "execution_count": null,
      "outputs": []
    }
  ]
}